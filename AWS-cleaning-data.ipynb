{
 "cells": [
  {
   "cell_type": "code",
   "execution_count": 31,
   "metadata": {},
   "outputs": [],
   "source": [
    "import datetime\n",
    "import pickle\n",
    "import matplotlib.pyplot as plt\n",
    "%matplotlib inline\n",
    "import numpy as np\n",
    "np.set_printoptions(suppress=True)\n",
    "import pandas as pd\n",
    "import seaborn as sns\n",
    "from datetime import datetime as dt\n",
    "from xgboost import XGBRegressor\n",
    "from sklearn.model_selection import KFold, train_test_split\n",
    "from sklearn.metrics import mean_squared_error\n",
    "from sklearn.feature_selection import SelectKBest, RFECV\n",
    "from math import sqrt\n",
    "\n",
    "%run src/columns.py\n",
    "%run src/data-cleaning.py\n",
    "%run src/feature-engineering.py\n",
    "%run src/modeling.py\n",
    "%run src/aws-scripts.py"
   ]
  },
  {
   "cell_type": "code",
   "execution_count": 32,
   "metadata": {},
   "outputs": [],
   "source": [
    "csv_file_names = ('LoanStats3a_securev1.csv', 'LoanStats3b_securev1.csv', 'LoanStats3c_securev1.csv',\n",
    "                  'LoanStats3d_securev1.csv', 'LoanStats_securev1_2016Q1.csv', 'LoanStats_securev1_2016Q2.csv',\n",
    "                  'LoanStats_securev1_2016Q3.csv', 'LoanStats_securev1_2016Q4.csv', 'LoanStats_securev1_2017Q1.csv',\n",
    "                  'LoanStats_securev1_2017Q2.csv', 'LoanStats_securev1_2017Q3.csv', 'LoanStats_securev1_2017Q4.csv',\n",
    "                  'LoanStats_securev1_2018Q1.csv', 'LoanStats_securev1_2018Q1.csv', 'LoanStats_securev1_2018Q2.csv')"
   ]
  },
  {
   "cell_type": "code",
   "execution_count": 33,
   "metadata": {},
   "outputs": [
    {
     "data": {
      "text/plain": [
       "(2001317, 130769    Apr-2018\n",
       " 130770    Apr-2018\n",
       " 130771    Apr-2018\n",
       " 130772         NaN\n",
       " 130773         NaN\n",
       " Name: issue_d, dtype: object)"
      ]
     },
     "execution_count": 33,
     "metadata": {},
     "output_type": "execute_result"
    }
   ],
   "source": [
    "loans = pd.read_pickle('data/raw_dataframe.pkl.bz2')\n",
    "loans = drop_loan_status(loans)\n",
    "loans = drop_joint_applicant_loans(loans)\n",
    "loans = fix_rate_cols(loans)\n",
    "loans.dropna(subset=['issue_d'], inplace=True)\n",
    "loans = fix_date_cols(loans)\n",
    "loans = clean_loan_term_col(loans)\n",
    "loans = only_include_36_month_loans(loans)\n",
    "loans = clean_employment_length(loans)\n",
    "loans = create_missing_data_boolean_columns(loans)\n",
    "loans = fill_nas(loans, value=-99)\n",
    "loans = fill_nas(loans, value=-99)\n",
    "loans = add_issue_date_and_month(loans)\n",
    "loans = add_supplemental_rate_data(loans)\n",
    "loans = create_rate_difference_cols(loans)\n",
    "loans = create_months_since_earliest_cl_col(loans)\n",
    "loans = create_loan_life_months_col(loans)\n",
    "loans = change_data_types(loans)\n",
    "loans = create_dummy_cols(loans)\n",
    "loans = drop_unnecessary_cols(loans)"
   ]
  },
  {
   "cell_type": "code",
   "execution_count": 61,
   "metadata": {},
   "outputs": [],
   "source": [
    "cutoff_date = '2015-09-01'\n",
    "training_loans, testing_loans = get_training_and_testing_data(loans, cutoff_date)"
   ]
  },
  {
   "cell_type": "code",
   "execution_count": 62,
   "metadata": {},
   "outputs": [
    {
     "data": {
      "text/plain": [
       "529507"
      ]
     },
     "execution_count": 62,
     "metadata": {},
     "output_type": "execute_result"
    }
   ],
   "source": [
    "len(training_loans)"
   ]
  },
  {
   "cell_type": "code",
   "execution_count": 65,
   "metadata": {},
   "outputs": [],
   "source": [
    "loans.set_index('id', inplace=True)"
   ]
  },
  {
   "cell_type": "code",
   "execution_count": 68,
   "metadata": {},
   "outputs": [],
   "source": [
    "cutoff_date = '2015-09-01'\n",
    "training_loans, testing_loans = get_training_and_testing_data(loans, cutoff_date)"
   ]
  },
  {
   "cell_type": "code",
   "execution_count": 70,
   "metadata": {},
   "outputs": [
    {
     "data": {
      "text/plain": [
       "529507"
      ]
     },
     "execution_count": 70,
     "metadata": {},
     "output_type": "execute_result"
    }
   ],
   "source": [
    "len(training_loans)"
   ]
  },
  {
   "cell_type": "code",
   "execution_count": 71,
   "metadata": {},
   "outputs": [
    {
     "data": {
      "text/plain": [
       "529507"
      ]
     },
     "execution_count": 71,
     "metadata": {},
     "output_type": "execute_result"
    }
   ],
   "source": [
    "with open('data/loan_rois.pickle', 'rb') as handle:\n",
    "    loan_rois = pickle.load(handle)\n",
    "    \n",
    "len(loan_rois)"
   ]
  },
  {
   "cell_type": "code",
   "execution_count": 72,
   "metadata": {
    "scrolled": true
   },
   "outputs": [
    {
     "name": "stdout",
     "output_type": "stream",
     "text": [
      "<class 'pandas.core.frame.DataFrame'>\n",
      "Int64Index: 529507 entries, 1077501 to 36271262\n",
      "Data columns (total 1 columns):\n",
      "0    529507 non-null float64\n",
      "dtypes: float64(1)\n",
      "memory usage: 8.1 MB\n"
     ]
    }
   ],
   "source": [
    "roi_col = pd.DataFrame.from_dict(loan_rois, orient='index')\n",
    "roi_col.info()"
   ]
  },
  {
   "cell_type": "code",
   "execution_count": 73,
   "metadata": {},
   "outputs": [
    {
     "name": "stderr",
     "output_type": "stream",
     "text": [
      "/home/ubuntu/anaconda3/lib/python3.6/site-packages/ipykernel_launcher.py:1: SettingWithCopyWarning: \n",
      "A value is trying to be set on a copy of a slice from a DataFrame.\n",
      "Try using .loc[row_indexer,col_indexer] = value instead\n",
      "\n",
      "See the caveats in the documentation: http://pandas.pydata.org/pandas-docs/stable/indexing.html#indexing-view-versus-copy\n",
      "  \"\"\"Entry point for launching an IPython kernel.\n"
     ]
    },
    {
     "data": {
      "text/plain": [
       "id\n",
       "1077501    10.289307\n",
       "1077175    16.248779\n",
       "1076863    13.707275\n",
       "1075269     7.783084\n",
       "1072053    19.114990\n",
       "1069908    12.606201\n",
       "1064687   -97.884317\n",
       "1069866     9.896030\n",
       "1069057   -30.444461\n",
       "1069759    16.585693\n",
       "Name: roi, dtype: float64"
      ]
     },
     "execution_count": 73,
     "metadata": {},
     "output_type": "execute_result"
    }
   ],
   "source": [
    "training_loans['roi'] = roi_col\n",
    "training_loans['roi'].head(10)"
   ]
  },
  {
   "cell_type": "code",
   "execution_count": 74,
   "metadata": {},
   "outputs": [
    {
     "data": {
      "text/plain": [
       "529507"
      ]
     },
     "execution_count": 74,
     "metadata": {},
     "output_type": "execute_result"
    }
   ],
   "source": [
    "len(training_loans['roi'].isnull())"
   ]
  },
  {
   "cell_type": "code",
   "execution_count": 75,
   "metadata": {},
   "outputs": [
    {
     "data": {
      "text/plain": [
       "id\n",
       "36221446    17.425537\n",
       "36330911   -72.777158\n",
       "36371250    12.703857\n",
       "36441262    12.677002\n",
       "36271262    12.943115\n",
       "Name: roi, dtype: float64"
      ]
     },
     "execution_count": 75,
     "metadata": {},
     "output_type": "execute_result"
    }
   ],
   "source": [
    "training_loans['roi'].tail()"
   ]
  },
  {
   "cell_type": "code",
   "execution_count": 77,
   "metadata": {},
   "outputs": [
    {
     "data": {
      "text/plain": [
       "<matplotlib.axes._subplots.AxesSubplot at 0x7f67fe003c88>"
      ]
     },
     "execution_count": 77,
     "metadata": {},
     "output_type": "execute_result"
    },
    {
     "data": {
      "image/png": "[encoded data removed]",
      "text/plain": [
       "<Figure size 432x288 with 1 Axes>"
      ]
     },
     "metadata": {},
     "output_type": "display_data"
    }
   ],
   "source": [
    "training_loans['roi'].hist(bins=100)"
   ]
  },
  {
   "cell_type": "code",
   "execution_count": 78,
   "metadata": {},
   "outputs": [],
   "source": [
    "training_loans.to_pickle('data/cleaned_training_loans.pkl.bz2', compression='bz2')\n",
    "testing_loans.to_pickle('data/cleaned_testing_loans.pkl.bz2', compression='bz2')"
   ]
  },
  {
   "cell_type": "code",
   "execution_count": 79,
   "metadata": {},
   "outputs": [
    {
     "data": {
      "text/html": [
       "<div>\n",
       "<style scoped>\n",
       "    .dataframe tbody tr th:only-of-type {\n",
       "        vertical-align: middle;\n",
       "    }\n",
       "\n",
       "    .dataframe tbody tr th {\n",
       "        vertical-align: top;\n",
       "    }\n",
       "\n",
       "    .dataframe thead tr th {\n",
       "        text-align: left;\n",
       "    }\n",
       "\n",
       "    .dataframe thead tr:last-of-type th {\n",
       "        text-align: right;\n",
       "    }\n",
       "</style>\n",
       "<table border=\"1\" class=\"dataframe\">\n",
       "  <thead>\n",
       "    <tr>\n",
       "      <th></th>\n",
       "      <th>int_rate</th>\n",
       "    </tr>\n",
       "    <tr>\n",
       "      <th></th>\n",
       "      <th>mean</th>\n",
       "    </tr>\n",
       "    <tr>\n",
       "      <th>issue_d</th>\n",
       "      <th></th>\n",
       "    </tr>\n",
       "  </thead>\n",
       "  <tbody>\n",
       "    <tr>\n",
       "      <th>2007-06-01</th>\n",
       "      <td>13.750000</td>\n",
       "    </tr>\n",
       "    <tr>\n",
       "      <th>2007-07-01</th>\n",
       "      <td>9.254666</td>\n",
       "    </tr>\n",
       "    <tr>\n",
       "      <th>2007-08-01</th>\n",
       "      <td>10.294848</td>\n",
       "    </tr>\n",
       "    <tr>\n",
       "      <th>2007-09-01</th>\n",
       "      <td>10.083889</td>\n",
       "    </tr>\n",
       "    <tr>\n",
       "      <th>2007-10-01</th>\n",
       "      <td>10.806808</td>\n",
       "    </tr>\n",
       "    <tr>\n",
       "      <th>2007-11-01</th>\n",
       "      <td>9.798649</td>\n",
       "    </tr>\n",
       "    <tr>\n",
       "      <th>2007-12-01</th>\n",
       "      <td>10.659177</td>\n",
       "    </tr>\n",
       "    <tr>\n",
       "      <th>2008-01-01</th>\n",
       "      <td>10.545381</td>\n",
       "    </tr>\n",
       "    <tr>\n",
       "      <th>2008-02-01</th>\n",
       "      <td>10.742472</td>\n",
       "    </tr>\n",
       "    <tr>\n",
       "      <th>2008-03-01</th>\n",
       "      <td>11.143686</td>\n",
       "    </tr>\n",
       "    <tr>\n",
       "      <th>2008-04-01</th>\n",
       "      <td>11.078259</td>\n",
       "    </tr>\n",
       "    <tr>\n",
       "      <th>2008-05-01</th>\n",
       "      <td>10.470563</td>\n",
       "    </tr>\n",
       "    <tr>\n",
       "      <th>2008-06-01</th>\n",
       "      <td>10.613939</td>\n",
       "    </tr>\n",
       "    <tr>\n",
       "      <th>2008-07-01</th>\n",
       "      <td>10.756867</td>\n",
       "    </tr>\n",
       "    <tr>\n",
       "      <th>2008-08-01</th>\n",
       "      <td>11.585071</td>\n",
       "    </tr>\n",
       "    <tr>\n",
       "      <th>2008-09-01</th>\n",
       "      <td>10.960938</td>\n",
       "    </tr>\n",
       "    <tr>\n",
       "      <th>2008-10-01</th>\n",
       "      <td>11.249583</td>\n",
       "    </tr>\n",
       "    <tr>\n",
       "      <th>2008-11-01</th>\n",
       "      <td>11.657555</td>\n",
       "    </tr>\n",
       "    <tr>\n",
       "      <th>2008-12-01</th>\n",
       "      <td>11.950360</td>\n",
       "    </tr>\n",
       "    <tr>\n",
       "      <th>2009-01-01</th>\n",
       "      <td>12.149372</td>\n",
       "    </tr>\n",
       "    <tr>\n",
       "      <th>2009-02-01</th>\n",
       "      <td>12.633654</td>\n",
       "    </tr>\n",
       "    <tr>\n",
       "      <th>2009-03-01</th>\n",
       "      <td>12.503985</td>\n",
       "    </tr>\n",
       "    <tr>\n",
       "      <th>2009-04-01</th>\n",
       "      <td>12.265606</td>\n",
       "    </tr>\n",
       "    <tr>\n",
       "      <th>2009-05-01</th>\n",
       "      <td>11.993229</td>\n",
       "    </tr>\n",
       "    <tr>\n",
       "      <th>2009-06-01</th>\n",
       "      <td>11.776469</td>\n",
       "    </tr>\n",
       "    <tr>\n",
       "      <th>2009-07-01</th>\n",
       "      <td>12.001501</td>\n",
       "    </tr>\n",
       "    <tr>\n",
       "      <th>2009-08-01</th>\n",
       "      <td>11.999118</td>\n",
       "    </tr>\n",
       "    <tr>\n",
       "      <th>2009-09-01</th>\n",
       "      <td>12.067785</td>\n",
       "    </tr>\n",
       "    <tr>\n",
       "      <th>2009-10-01</th>\n",
       "      <td>12.361305</td>\n",
       "    </tr>\n",
       "    <tr>\n",
       "      <th>2009-11-01</th>\n",
       "      <td>12.298746</td>\n",
       "    </tr>\n",
       "    <tr>\n",
       "      <th>...</th>\n",
       "      <td>...</td>\n",
       "    </tr>\n",
       "    <tr>\n",
       "      <th>2016-01-01</th>\n",
       "      <td>10.912872</td>\n",
       "    </tr>\n",
       "    <tr>\n",
       "      <th>2016-02-01</th>\n",
       "      <td>11.313185</td>\n",
       "    </tr>\n",
       "    <tr>\n",
       "      <th>2016-03-01</th>\n",
       "      <td>11.444160</td>\n",
       "    </tr>\n",
       "    <tr>\n",
       "      <th>2016-04-01</th>\n",
       "      <td>11.582980</td>\n",
       "    </tr>\n",
       "    <tr>\n",
       "      <th>2016-05-01</th>\n",
       "      <td>11.864371</td>\n",
       "    </tr>\n",
       "    <tr>\n",
       "      <th>2016-06-01</th>\n",
       "      <td>11.233421</td>\n",
       "    </tr>\n",
       "    <tr>\n",
       "      <th>2016-07-01</th>\n",
       "      <td>12.562096</td>\n",
       "    </tr>\n",
       "    <tr>\n",
       "      <th>2016-08-01</th>\n",
       "      <td>12.518181</td>\n",
       "    </tr>\n",
       "    <tr>\n",
       "      <th>2016-09-01</th>\n",
       "      <td>12.676178</td>\n",
       "    </tr>\n",
       "    <tr>\n",
       "      <th>2016-10-01</th>\n",
       "      <td>12.400001</td>\n",
       "    </tr>\n",
       "    <tr>\n",
       "      <th>2016-11-01</th>\n",
       "      <td>12.433776</td>\n",
       "    </tr>\n",
       "    <tr>\n",
       "      <th>2016-12-01</th>\n",
       "      <td>12.664861</td>\n",
       "    </tr>\n",
       "    <tr>\n",
       "      <th>2017-01-01</th>\n",
       "      <td>12.440172</td>\n",
       "    </tr>\n",
       "    <tr>\n",
       "      <th>2017-02-01</th>\n",
       "      <td>12.285340</td>\n",
       "    </tr>\n",
       "    <tr>\n",
       "      <th>2017-03-01</th>\n",
       "      <td>12.153742</td>\n",
       "    </tr>\n",
       "    <tr>\n",
       "      <th>2017-04-01</th>\n",
       "      <td>12.213903</td>\n",
       "    </tr>\n",
       "    <tr>\n",
       "      <th>2017-05-01</th>\n",
       "      <td>12.230782</td>\n",
       "    </tr>\n",
       "    <tr>\n",
       "      <th>2017-06-01</th>\n",
       "      <td>12.166502</td>\n",
       "    </tr>\n",
       "    <tr>\n",
       "      <th>2017-07-01</th>\n",
       "      <td>12.286750</td>\n",
       "    </tr>\n",
       "    <tr>\n",
       "      <th>2017-08-01</th>\n",
       "      <td>12.325250</td>\n",
       "    </tr>\n",
       "    <tr>\n",
       "      <th>2017-09-01</th>\n",
       "      <td>12.423620</td>\n",
       "    </tr>\n",
       "    <tr>\n",
       "      <th>2017-10-01</th>\n",
       "      <td>12.047034</td>\n",
       "    </tr>\n",
       "    <tr>\n",
       "      <th>2017-11-01</th>\n",
       "      <td>11.630729</td>\n",
       "    </tr>\n",
       "    <tr>\n",
       "      <th>2017-12-01</th>\n",
       "      <td>11.429128</td>\n",
       "    </tr>\n",
       "    <tr>\n",
       "      <th>2018-01-01</th>\n",
       "      <td>11.195328</td>\n",
       "    </tr>\n",
       "    <tr>\n",
       "      <th>2018-02-01</th>\n",
       "      <td>11.284666</td>\n",
       "    </tr>\n",
       "    <tr>\n",
       "      <th>2018-03-01</th>\n",
       "      <td>11.264193</td>\n",
       "    </tr>\n",
       "    <tr>\n",
       "      <th>2018-04-01</th>\n",
       "      <td>11.373042</td>\n",
       "    </tr>\n",
       "    <tr>\n",
       "      <th>2018-05-01</th>\n",
       "      <td>11.368069</td>\n",
       "    </tr>\n",
       "    <tr>\n",
       "      <th>2018-06-01</th>\n",
       "      <td>11.343572</td>\n",
       "    </tr>\n",
       "  </tbody>\n",
       "</table>\n",
       "<p>133 rows × 1 columns</p>\n",
       "</div>"
      ],
      "text/plain": [
       "             int_rate\n",
       "                 mean\n",
       "issue_d              \n",
       "2007-06-01  13.750000\n",
       "2007-07-01   9.254666\n",
       "2007-08-01  10.294848\n",
       "2007-09-01  10.083889\n",
       "2007-10-01  10.806808\n",
       "2007-11-01   9.798649\n",
       "2007-12-01  10.659177\n",
       "2008-01-01  10.545381\n",
       "2008-02-01  10.742472\n",
       "2008-03-01  11.143686\n",
       "2008-04-01  11.078259\n",
       "2008-05-01  10.470563\n",
       "2008-06-01  10.613939\n",
       "2008-07-01  10.756867\n",
       "2008-08-01  11.585071\n",
       "2008-09-01  10.960938\n",
       "2008-10-01  11.249583\n",
       "2008-11-01  11.657555\n",
       "2008-12-01  11.950360\n",
       "2009-01-01  12.149372\n",
       "2009-02-01  12.633654\n",
       "2009-03-01  12.503985\n",
       "2009-04-01  12.265606\n",
       "2009-05-01  11.993229\n",
       "2009-06-01  11.776469\n",
       "2009-07-01  12.001501\n",
       "2009-08-01  11.999118\n",
       "2009-09-01  12.067785\n",
       "2009-10-01  12.361305\n",
       "2009-11-01  12.298746\n",
       "...               ...\n",
       "2016-01-01  10.912872\n",
       "2016-02-01  11.313185\n",
       "2016-03-01  11.444160\n",
       "2016-04-01  11.582980\n",
       "2016-05-01  11.864371\n",
       "2016-06-01  11.233421\n",
       "2016-07-01  12.562096\n",
       "2016-08-01  12.518181\n",
       "2016-09-01  12.676178\n",
       "2016-10-01  12.400001\n",
       "2016-11-01  12.433776\n",
       "2016-12-01  12.664861\n",
       "2017-01-01  12.440172\n",
       "2017-02-01  12.285340\n",
       "2017-03-01  12.153742\n",
       "2017-04-01  12.213903\n",
       "2017-05-01  12.230782\n",
       "2017-06-01  12.166502\n",
       "2017-07-01  12.286750\n",
       "2017-08-01  12.325250\n",
       "2017-09-01  12.423620\n",
       "2017-10-01  12.047034\n",
       "2017-11-01  11.630729\n",
       "2017-12-01  11.429128\n",
       "2018-01-01  11.195328\n",
       "2018-02-01  11.284666\n",
       "2018-03-01  11.264193\n",
       "2018-04-01  11.373042\n",
       "2018-05-01  11.368069\n",
       "2018-06-01  11.343572\n",
       "\n",
       "[133 rows x 1 columns]"
      ]
     },
     "execution_count": 79,
     "metadata": {},
     "output_type": "execute_result"
    }
   ],
   "source": [
    "loans[['issue_d', 'int_rate']].groupby(['issue_d'], as_index=False).agg(['mean'])"
   ]
  },
  {
   "cell_type": "code",
   "execution_count": null,
   "metadata": {},
   "outputs": [],
   "source": []
  },
  {
   "cell_type": "code",
   "execution_count": null,
   "metadata": {},
   "outputs": [],
   "source": []
  }
 ],
 "metadata": {
  "kernelspec": {
   "display_name": "Python 3",
   "language": "python",
   "name": "python3"
  },
  "language_info": {
   "codemirror_mode": {
    "name": "ipython",
    "version": 3
   },
   "file_extension": ".py",
   "mimetype": "text/x-python",
   "name": "python",
   "nbconvert_exporter": "python",
   "pygments_lexer": "ipython3",
   "version": "3.6.5"
  }
 },
 "nbformat": 4,
 "nbformat_minor": 2
}

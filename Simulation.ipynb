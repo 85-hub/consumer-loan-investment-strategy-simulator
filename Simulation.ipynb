{
 "cells": [
  {
   "cell_type": "markdown",
   "metadata": {},
   "source": [
    "# Run a Simulation on Testing Data"
   ]
  },
  {
   "cell_type": "code",
   "execution_count": 61,
   "metadata": {},
   "outputs": [],
   "source": [
    "from io import BytesIO\n",
    "import boto3\n",
    "import datetime\n",
    "import multiprocessing as mp\n",
    "import pickle\n",
    "import pandas as pd\n",
    "import matplotlib.pyplot as plt\n",
    "%matplotlib inline\n",
    "\n",
    "%run src/columns.py\n",
    "%run src/data-cleaning.py\n",
    "%run src/feature-engineering.py\n",
    "%run src/modeling.py\n",
    "%run src/payments.py\n",
    "%run src/portfolio.py"
   ]
  },
  {
   "cell_type": "code",
   "execution_count": 17,
   "metadata": {},
   "outputs": [],
   "source": [
    "payments = pd.read_pickle('data/df_payments_data_all_cleaned.pkl.bz2', compression='bz2')"
   ]
  },
  {
   "cell_type": "code",
   "execution_count": 21,
   "metadata": {},
   "outputs": [
    {
     "data": {
      "text/html": [
       "<div>\n",
       "<style scoped>\n",
       "    .dataframe tbody tr th:only-of-type {\n",
       "        vertical-align: middle;\n",
       "    }\n",
       "\n",
       "    .dataframe tbody tr th {\n",
       "        vertical-align: top;\n",
       "    }\n",
       "\n",
       "    .dataframe thead th {\n",
       "        text-align: right;\n",
       "    }\n",
       "</style>\n",
       "<table border=\"1\" class=\"dataframe\">\n",
       "  <thead>\n",
       "    <tr style=\"text-align: right;\">\n",
       "      <th></th>\n",
       "      <th></th>\n",
       "      <th>RECEIVED_AMT_INVESTORS</th>\n",
       "      <th>PBAL_END_PERIOD_INVESTORS</th>\n",
       "      <th>mths_since_issue</th>\n",
       "    </tr>\n",
       "    <tr>\n",
       "      <th>RECEIVED_D</th>\n",
       "      <th>LOAN_ID</th>\n",
       "      <th></th>\n",
       "      <th></th>\n",
       "      <th></th>\n",
       "    </tr>\n",
       "  </thead>\n",
       "  <tbody>\n",
       "    <tr>\n",
       "      <th rowspan=\"5\" valign=\"top\">2019-04-01</th>\n",
       "      <th>145643149</th>\n",
       "      <td>568.580017</td>\n",
       "      <td>24095.798828</td>\n",
       "      <td>4</td>\n",
       "    </tr>\n",
       "    <tr>\n",
       "      <th>145644144</th>\n",
       "      <td>264.959991</td>\n",
       "      <td>7435.606445</td>\n",
       "      <td>4</td>\n",
       "    </tr>\n",
       "    <tr>\n",
       "      <th>145645132</th>\n",
       "      <td>387.489990</td>\n",
       "      <td>10271.670898</td>\n",
       "      <td>4</td>\n",
       "    </tr>\n",
       "    <tr>\n",
       "      <th>145645185</th>\n",
       "      <td>595.020020</td>\n",
       "      <td>24143.052734</td>\n",
       "      <td>4</td>\n",
       "    </tr>\n",
       "    <tr>\n",
       "      <th>145645206</th>\n",
       "      <td>299.429993</td>\n",
       "      <td>7937.182617</td>\n",
       "      <td>4</td>\n",
       "    </tr>\n",
       "  </tbody>\n",
       "</table>\n",
       "</div>"
      ],
      "text/plain": [
       "                      RECEIVED_AMT_INVESTORS  PBAL_END_PERIOD_INVESTORS  \\\n",
       "RECEIVED_D LOAN_ID                                                        \n",
       "2019-04-01 145643149              568.580017               24095.798828   \n",
       "           145644144              264.959991                7435.606445   \n",
       "           145645132              387.489990               10271.670898   \n",
       "           145645185              595.020020               24143.052734   \n",
       "           145645206              299.429993                7937.182617   \n",
       "\n",
       "                      mths_since_issue  \n",
       "RECEIVED_D LOAN_ID                      \n",
       "2019-04-01 145643149                 4  \n",
       "           145644144                 4  \n",
       "           145645132                 4  \n",
       "           145645185                 4  \n",
       "           145645206                 4  "
      ]
     },
     "execution_count": 21,
     "metadata": {},
     "output_type": "execute_result"
    }
   ],
   "source": [
    "payments.tail()"
   ]
  },
  {
   "cell_type": "code",
   "execution_count": 6,
   "metadata": {},
   "outputs": [],
   "source": [
    "xgb_predictions = pd.read_pickle('data/model_xgb_predictions.pkl.bz2')"
   ]
  },
  {
   "cell_type": "markdown",
   "metadata": {},
   "source": [
    "#### Create a Portfolio"
   ]
  },
  {
   "cell_type": "code",
   "execution_count": 62,
   "metadata": {},
   "outputs": [],
   "source": [
    "myPortfolio = Portfolio(20000, 25, datetime.date(2016,5,1), xgb_predictions, payments, min_roi=8)"
   ]
  },
  {
   "cell_type": "code",
   "execution_count": 63,
   "metadata": {},
   "outputs": [
    {
     "data": {
      "text/plain": [
       "datetime.date(2016, 5, 1)"
      ]
     },
     "execution_count": 63,
     "metadata": {},
     "output_type": "execute_result"
    }
   ],
   "source": [
    "myPortfolio.date"
   ]
  },
  {
   "cell_type": "code",
   "execution_count": 64,
   "metadata": {},
   "outputs": [],
   "source": [
    "simulation_month = 0\n",
    "months = []\n",
    "balances = []\n",
    "while myPortfolio.date < datetime.date(2019,1,1):\n",
    "    months.append(myPortfolio.date)\n",
    "    myPortfolio.simulate_month()\n",
    "    balances.append(myPortfolio.total_balance)"
   ]
  },
  {
   "cell_type": "code",
   "execution_count": null,
   "metadata": {},
   "outputs": [],
   "source": []
  }
 ],
 "metadata": {
  "kernelspec": {
   "display_name": "Python 3",
   "language": "python",
   "name": "python3"
  },
  "language_info": {
   "codemirror_mode": {
    "name": "ipython",
    "version": 3
   },
   "file_extension": ".py",
   "mimetype": "text/x-python",
   "name": "python",
   "nbconvert_exporter": "python",
   "pygments_lexer": "ipython3",
   "version": "3.6.7"
  }
 },
 "nbformat": 4,
 "nbformat_minor": 2
}

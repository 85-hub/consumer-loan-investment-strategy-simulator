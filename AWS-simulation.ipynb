{
 "cells": [
  {
   "cell_type": "code",
   "execution_count": 1,
   "metadata": {},
   "outputs": [],
   "source": [
    "from io import BytesIO\n",
    "import boto3\n",
    "import datetime\n",
    "import multiprocessing as mp\n",
    "import pickle\n",
    "import pandas as pd\n",
    "import matplotlib.pyplot as plt\n",
    "%matplotlib inline"
   ]
  },
  {
   "cell_type": "code",
   "execution_count": 2,
   "metadata": {},
   "outputs": [],
   "source": [
    "payments = pd.read_pickle('data/cleaned_payments_data_indexed_sorted.pkl.bz2')"
   ]
  },
  {
   "cell_type": "code",
   "execution_count": 3,
   "metadata": {},
   "outputs": [
    {
     "data": {
      "text/html": [
       "<div>\n",
       "<style scoped>\n",
       "    .dataframe tbody tr th:only-of-type {\n",
       "        vertical-align: middle;\n",
       "    }\n",
       "\n",
       "    .dataframe tbody tr th {\n",
       "        vertical-align: top;\n",
       "    }\n",
       "\n",
       "    .dataframe thead th {\n",
       "        text-align: right;\n",
       "    }\n",
       "</style>\n",
       "<table border=\"1\" class=\"dataframe\">\n",
       "  <thead>\n",
       "    <tr style=\"text-align: right;\">\n",
       "      <th></th>\n",
       "      <th></th>\n",
       "      <th>RECEIVED_AMT_INVESTORS</th>\n",
       "      <th>PBAL_END_PERIOD_INVESTORS</th>\n",
       "      <th>mths_since_issue</th>\n",
       "    </tr>\n",
       "    <tr>\n",
       "      <th>RECEIVED_D</th>\n",
       "      <th>LOAN_ID</th>\n",
       "      <th></th>\n",
       "      <th></th>\n",
       "      <th></th>\n",
       "    </tr>\n",
       "  </thead>\n",
       "  <tbody>\n",
       "    <tr>\n",
       "      <th rowspan=\"5\" valign=\"top\">2007-07-01</th>\n",
       "      <th>72176</th>\n",
       "      <td>7.189307</td>\n",
       "      <td>219.559830</td>\n",
       "      <td>1</td>\n",
       "    </tr>\n",
       "    <tr>\n",
       "      <th>73582</th>\n",
       "      <td>7.289357</td>\n",
       "      <td>219.637436</td>\n",
       "      <td>1</td>\n",
       "    </tr>\n",
       "    <tr>\n",
       "      <th>74505</th>\n",
       "      <td>7.256250</td>\n",
       "      <td>219.611313</td>\n",
       "      <td>1</td>\n",
       "    </tr>\n",
       "    <tr>\n",
       "      <th>77792</th>\n",
       "      <td>3.975833</td>\n",
       "      <td>121.962997</td>\n",
       "      <td>1</td>\n",
       "    </tr>\n",
       "    <tr>\n",
       "      <th>81085</th>\n",
       "      <td>9.032310</td>\n",
       "      <td>268.539795</td>\n",
       "      <td>1</td>\n",
       "    </tr>\n",
       "  </tbody>\n",
       "</table>\n",
       "</div>"
      ],
      "text/plain": [
       "                    RECEIVED_AMT_INVESTORS  PBAL_END_PERIOD_INVESTORS  \\\n",
       "RECEIVED_D LOAN_ID                                                      \n",
       "2007-07-01 72176                  7.189307                 219.559830   \n",
       "           73582                  7.289357                 219.637436   \n",
       "           74505                  7.256250                 219.611313   \n",
       "           77792                  3.975833                 121.962997   \n",
       "           81085                  9.032310                 268.539795   \n",
       "\n",
       "                    mths_since_issue  \n",
       "RECEIVED_D LOAN_ID                    \n",
       "2007-07-01 72176                   1  \n",
       "           73582                   1  \n",
       "           74505                   1  \n",
       "           77792                   1  \n",
       "           81085                   1  "
      ]
     },
     "execution_count": 3,
     "metadata": {},
     "output_type": "execute_result"
    }
   ],
   "source": [
    "payments.head()"
   ]
  },
  {
   "cell_type": "code",
   "execution_count": 4,
   "metadata": {
    "scrolled": true
   },
   "outputs": [
    {
     "data": {
      "text/html": [
       "<div>\n",
       "<style scoped>\n",
       "    .dataframe tbody tr th:only-of-type {\n",
       "        vertical-align: middle;\n",
       "    }\n",
       "\n",
       "    .dataframe tbody tr th {\n",
       "        vertical-align: top;\n",
       "    }\n",
       "\n",
       "    .dataframe thead th {\n",
       "        text-align: right;\n",
       "    }\n",
       "</style>\n",
       "<table border=\"1\" class=\"dataframe\">\n",
       "  <thead>\n",
       "    <tr style=\"text-align: right;\">\n",
       "      <th></th>\n",
       "      <th>id</th>\n",
       "      <th>loan_amnt</th>\n",
       "      <th>predicted_roi</th>\n",
       "    </tr>\n",
       "    <tr>\n",
       "      <th>issue_d</th>\n",
       "      <th></th>\n",
       "      <th></th>\n",
       "      <th></th>\n",
       "    </tr>\n",
       "  </thead>\n",
       "  <tbody>\n",
       "    <tr>\n",
       "      <th>2015-12-01</th>\n",
       "      <td>68407277</td>\n",
       "      <td>3600.0</td>\n",
       "      <td>6.819523</td>\n",
       "    </tr>\n",
       "    <tr>\n",
       "      <th>2015-12-01</th>\n",
       "      <td>68495092</td>\n",
       "      <td>8650.0</td>\n",
       "      <td>-12.377034</td>\n",
       "    </tr>\n",
       "    <tr>\n",
       "      <th>2015-12-01</th>\n",
       "      <td>68466961</td>\n",
       "      <td>28000.0</td>\n",
       "      <td>5.547388</td>\n",
       "    </tr>\n",
       "    <tr>\n",
       "      <th>2015-12-01</th>\n",
       "      <td>68466916</td>\n",
       "      <td>25000.0</td>\n",
       "      <td>4.509906</td>\n",
       "    </tr>\n",
       "    <tr>\n",
       "      <th>2015-12-01</th>\n",
       "      <td>68354783</td>\n",
       "      <td>9600.0</td>\n",
       "      <td>4.441494</td>\n",
       "    </tr>\n",
       "  </tbody>\n",
       "</table>\n",
       "</div>"
      ],
      "text/plain": [
       "                  id  loan_amnt  predicted_roi\n",
       "issue_d                                       \n",
       "2015-12-01  68407277     3600.0       6.819523\n",
       "2015-12-01  68495092     8650.0     -12.377034\n",
       "2015-12-01  68466961    28000.0       5.547388\n",
       "2015-12-01  68466916    25000.0       4.509906\n",
       "2015-12-01  68354783     9600.0       4.441494"
      ]
     },
     "execution_count": 4,
     "metadata": {},
     "output_type": "execute_result"
    }
   ],
   "source": [
    "loans_available = pd.read_pickle('data/test_predictions_xgb.pkl.bz2')\n",
    "loans_available.head()"
   ]
  },
  {
   "cell_type": "markdown",
   "metadata": {},
   "source": [
    "# Loan Class"
   ]
  },
  {
   "cell_type": "code",
   "execution_count": 27,
   "metadata": {},
   "outputs": [],
   "source": [
    "from dateutil.relativedelta import relativedelta\n",
    "\n",
    "class Loan:\n",
    "    def __init__(self, loan_id, borrowed_amount, investment_amount):\n",
    "            self.id = int(loan_id)\n",
    "            self.size = borrowed_amount\n",
    "            self.initial_investment = min(investment_amount, borrowed_amount)\n",
    "            self.fractional_investment = self.initial_investment / self.size\n",
    "            self.principal_balance = min(investment_amount, borrowed_amount)\n",
    "            self.status = 'Current'\n",
    "            self.months_since_last_payment = 0\n",
    "    \n",
    "    def default(self):\n",
    "        self.status = 'Default'\n",
    "        self.principal_balance = 0\n",
    "\n",
    "    def update_investment_principal_balance(self, overall_principal):\n",
    "        self.principal_balance = overall_principal * self.fractional_investment\n",
    "        \n",
    "    def add_one_month_since_payment(self):\n",
    "        self.months_since_last_payment += 1"
   ]
  },
  {
   "cell_type": "markdown",
   "metadata": {},
   "source": [
    "# Portfolio Class"
   ]
  },
  {
   "cell_type": "code",
   "execution_count": 60,
   "metadata": {},
   "outputs": [],
   "source": [
    "class Portfolio:\n",
    "    def __init__(self, starting_balance, investment_per_loan, start_date, loans_df, payments_df, min_roi=5.0):\n",
    "        self.active_loans = []\n",
    "        self.defaulted_loans = []\n",
    "        self.cash_balance = starting_balance\n",
    "        self.invested_principal_balance = 0\n",
    "        self.investment_per_loan = investment_per_loan\n",
    "        self.date = start_date\n",
    "        self.min_roi = min_roi\n",
    "        self.all_loans_available = loans_df\n",
    "        self.all_payments_data = payments_df\n",
    "\n",
    "    def update_invested_principal_balance(self):\n",
    "        self.invested_principal_balance = sum([loan.principal_balance for loan in self.active_loans])\n",
    "\n",
    "    def increment_date_by_one_month(self):\n",
    "        self.date += relativedelta(months=1)\n",
    "\n",
    "    def purchase_loans(self, loans):\n",
    "        for loan in loans:\n",
    "            self.active_loans.append(loan)\n",
    "            self.cash_balance -= loan.initial_investment\n",
    "\n",
    "    def convert_df_rows_to_loans(self, df):\n",
    "        loans = []\n",
    "        rows = df.to_dict(orient='records')\n",
    "        for row in rows:\n",
    "            loans.append(Loan(row['id'], row['loan_amnt'], self.investment_per_loan))\n",
    "        return loans\n",
    "\n",
    "    def get_loans_available_for_current_date(self, loans_df):\n",
    "        '''\n",
    "        date parameter needs to be of type datetime.date\n",
    "        '''\n",
    "        return self.all_loans_available.loc[self.date]\n",
    "    \n",
    "    def get_loans_over_required_roi_threshold(self, df):\n",
    "        return df[df['predicted_roi'] >= self.min_roi]\n",
    "\n",
    "    def get_top_loans_to_buy(self, loans):\n",
    "        # We want to take as many loans as we can from the top predicted roi.\n",
    "        n = self.cash_balance // self.investment_per_loan\n",
    "        sorted_loans = loans.sort_values(by='predicted_roi', ascending=False)\n",
    "        return sorted_loans.head(n)\n",
    "    \n",
    "    def buy_loans_for_current_month(self):\n",
    "        loans = self.get_loans_available_for_current_date(self.all_loans_available)\n",
    "        loans = self.get_loans_over_required_roi_threshold(loans)\n",
    "        loans_to_buy = self.get_top_loans_to_buy(loans)\n",
    "        loan_objects = self.convert_df_rows_to_loans(loans_to_buy)\n",
    "        self.purchase_loans(loan_objects)\n",
    "        \n",
    "    def get_payments_for_current_month(self):\n",
    "        active_loan_ids = [loan.id for loan in myPortfolio.active_loans]\n",
    "        latest_payments = self.all_payments_data.loc[myPortfolio.date].loc[active_loan_ids].dropna()\n",
    "        return latest_payments\n",
    "    \n",
    "    def apply_payments(self, payments_for_month):\n",
    "        for loan in self.active_loans:\n",
    "            if loan.id in payments_for_month.index:\n",
    "                total_payment = payments_for_month.loc[loan.id].RECEIVED_AMT_INVESTORS\n",
    "                self.update_portfolio_cash_balance(loan.fractional_investment * total_payment)\n",
    "                end_principal_total = payments_for_month.loc[loan.id].PBAL_END_PERIOD_INVESTORS\n",
    "                loan.update_investment_principal_balance(end_principal_total)\n",
    "                loan.months_since_last_payment = 0\n",
    "                \n",
    "    def get_and_apply_payments_for_current_month(self):\n",
    "        payments = self.get_payments_for_current_month()\n",
    "        self.apply_payments(payments)\n",
    "                \n",
    "    def update_portfolio_cash_balance(self, payment):\n",
    "        self.cash_balance += payment"
   ]
  },
  {
   "cell_type": "code",
   "execution_count": 61,
   "metadata": {},
   "outputs": [],
   "source": [
    "myPortfolio = Portfolio(10000, 50, datetime.date(2015,10,1), loans_available, payments)"
   ]
  },
  {
   "cell_type": "code",
   "execution_count": 62,
   "metadata": {},
   "outputs": [
    {
     "data": {
      "text/plain": [
       "[]"
      ]
     },
     "execution_count": 62,
     "metadata": {},
     "output_type": "execute_result"
    }
   ],
   "source": [
    "myPortfolio.active_loans"
   ]
  },
  {
   "cell_type": "code",
   "execution_count": 63,
   "metadata": {},
   "outputs": [],
   "source": [
    "myPortfolio.buy_loans_for_current_month()"
   ]
  },
  {
   "cell_type": "code",
   "execution_count": 64,
   "metadata": {},
   "outputs": [
    {
     "data": {
      "text/plain": [
       "200"
      ]
     },
     "execution_count": 64,
     "metadata": {},
     "output_type": "execute_result"
    }
   ],
   "source": [
    "len(myPortfolio.active_loans)"
   ]
  },
  {
   "cell_type": "code",
   "execution_count": 65,
   "metadata": {},
   "outputs": [
    {
     "data": {
      "text/plain": [
       "0"
      ]
     },
     "execution_count": 65,
     "metadata": {},
     "output_type": "execute_result"
    }
   ],
   "source": [
    "myPortfolio.cash_balance"
   ]
  },
  {
   "cell_type": "code",
   "execution_count": 66,
   "metadata": {},
   "outputs": [
    {
     "name": "stderr",
     "output_type": "stream",
     "text": [
      "/home/ubuntu/anaconda3/lib/python3.6/site-packages/ipykernel_launcher.py:55: FutureWarning: \n",
      "Passing list-likes to .loc or [] with any missing label will raise\n",
      "KeyError in the future, you can use .reindex() as an alternative.\n",
      "\n",
      "See the documentation here:\n",
      "https://pandas.pydata.org/pandas-docs/stable/indexing.html#deprecate-loc-reindex-listlike\n"
     ]
    },
    {
     "data": {
      "text/plain": [
       "5.555555555555555"
      ]
     },
     "execution_count": 66,
     "metadata": {},
     "output_type": "execute_result"
    }
   ],
   "source": [
    "myPortfolio.get_and_apply_payments_for_current_month()\n",
    "myPortfolio.cash_balance"
   ]
  },
  {
   "cell_type": "code",
   "execution_count": null,
   "metadata": {},
   "outputs": [],
   "source": []
  },
  {
   "cell_type": "code",
   "execution_count": null,
   "metadata": {},
   "outputs": [],
   "source": []
  }
 ],
 "metadata": {
  "kernelspec": {
   "display_name": "Python 3",
   "language": "python",
   "name": "python3"
  }
 },
 "nbformat": 4,
 "nbformat_minor": 2
}

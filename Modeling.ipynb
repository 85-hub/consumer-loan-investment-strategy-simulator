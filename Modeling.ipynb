{
 "cells": [
  {
   "cell_type": "markdown",
   "metadata": {},
   "source": [
    "# Notebook for Training Models and Running Simulation"
   ]
  },
  {
   "cell_type": "code",
   "execution_count": 69,
   "metadata": {},
   "outputs": [
    {
     "ename": "ModuleNotFoundError",
     "evalue": "No module named 'shap'",
     "output_type": "error",
     "traceback": [
      "\u001b[0;31m---------------------------------------------------------------------------\u001b[0m",
      "\u001b[0;31mModuleNotFoundError\u001b[0m                       Traceback (most recent call last)",
      "\u001b[0;32m<ipython-input-69-251dcb165e25>\u001b[0m in \u001b[0;36m<module>\u001b[0;34m\u001b[0m\n\u001b[1;32m      2\u001b[0m \u001b[0;32mfrom\u001b[0m \u001b[0mxgboost\u001b[0m \u001b[0;32mimport\u001b[0m \u001b[0mXGBRegressor\u001b[0m\u001b[0;34m\u001b[0m\u001b[0;34m\u001b[0m\u001b[0m\n\u001b[1;32m      3\u001b[0m \u001b[0;34m\u001b[0m\u001b[0m\n\u001b[0;32m----> 4\u001b[0;31m \u001b[0;32mimport\u001b[0m \u001b[0mshap\u001b[0m\u001b[0;34m\u001b[0m\u001b[0;34m\u001b[0m\u001b[0m\n\u001b[0m\u001b[1;32m      5\u001b[0m \u001b[0mshap\u001b[0m\u001b[0;34m.\u001b[0m\u001b[0minitjs\u001b[0m\u001b[0;34m(\u001b[0m\u001b[0;34m)\u001b[0m\u001b[0;34m\u001b[0m\u001b[0;34m\u001b[0m\u001b[0m\n\u001b[1;32m      6\u001b[0m \u001b[0;34m\u001b[0m\u001b[0m\n",
      "\u001b[0;31mModuleNotFoundError\u001b[0m: No module named 'shap'"
     ]
    }
   ],
   "source": [
    "import pandas as pd\n",
    "from xgboost import XGBRegressor\n",
    "\n",
    "import shap\n",
    "shap.initjs()\n",
    "\n",
    "%run src/columns.py\n",
    "%run src/data-cleaning.py\n",
    "%run src/feature-engineering.py\n",
    "%run src/modeling.py\n",
    "%run src/payments.py\n",
    "%run src/portfolio.py"
   ]
  },
  {
   "cell_type": "code",
   "execution_count": 22,
   "metadata": {},
   "outputs": [],
   "source": [
    "df_train = pd.read_pickle('data/df_training_loans_with_roi.pkl.bz2', compression='bz2')"
   ]
  },
  {
   "cell_type": "code",
   "execution_count": 28,
   "metadata": {},
   "outputs": [],
   "source": [
    "df_test = pd.read_pickle('data/df_testing_loans_cleaned.pkl.bz2', compression='bz2')"
   ]
  },
  {
   "cell_type": "code",
   "execution_count": 29,
   "metadata": {},
   "outputs": [
    {
     "data": {
      "text/html": [
       "<div>\n",
       "<style scoped>\n",
       "    .dataframe tbody tr th:only-of-type {\n",
       "        vertical-align: middle;\n",
       "    }\n",
       "\n",
       "    .dataframe tbody tr th {\n",
       "        vertical-align: top;\n",
       "    }\n",
       "\n",
       "    .dataframe thead th {\n",
       "        text-align: right;\n",
       "    }\n",
       "</style>\n",
       "<table border=\"1\" class=\"dataframe\">\n",
       "  <thead>\n",
       "    <tr style=\"text-align: right;\">\n",
       "      <th></th>\n",
       "      <th>loan_amnt</th>\n",
       "      <th>int_rate</th>\n",
       "      <th>installment</th>\n",
       "      <th>emp_length</th>\n",
       "      <th>annual_inc</th>\n",
       "      <th>issue_d</th>\n",
       "      <th>dti</th>\n",
       "      <th>delinq_2yrs</th>\n",
       "      <th>fico_range_low</th>\n",
       "      <th>fico_range_high</th>\n",
       "      <th>...</th>\n",
       "      <th>purpose_home_improvement</th>\n",
       "      <th>purpose_house</th>\n",
       "      <th>purpose_major_purchase</th>\n",
       "      <th>purpose_medical</th>\n",
       "      <th>purpose_moving</th>\n",
       "      <th>purpose_other</th>\n",
       "      <th>purpose_renewable_energy</th>\n",
       "      <th>purpose_small_business</th>\n",
       "      <th>purpose_vacation</th>\n",
       "      <th>purpose_wedding</th>\n",
       "    </tr>\n",
       "    <tr>\n",
       "      <th>id</th>\n",
       "      <th></th>\n",
       "      <th></th>\n",
       "      <th></th>\n",
       "      <th></th>\n",
       "      <th></th>\n",
       "      <th></th>\n",
       "      <th></th>\n",
       "      <th></th>\n",
       "      <th></th>\n",
       "      <th></th>\n",
       "      <th></th>\n",
       "      <th></th>\n",
       "      <th></th>\n",
       "      <th></th>\n",
       "      <th></th>\n",
       "      <th></th>\n",
       "      <th></th>\n",
       "      <th></th>\n",
       "      <th></th>\n",
       "      <th></th>\n",
       "      <th></th>\n",
       "    </tr>\n",
       "  </thead>\n",
       "  <tbody>\n",
       "    <tr>\n",
       "      <th>78219622</th>\n",
       "      <td>15000.0</td>\n",
       "      <td>8.39</td>\n",
       "      <td>472.750000</td>\n",
       "      <td>10.0</td>\n",
       "      <td>170000.0</td>\n",
       "      <td>2016-05-01</td>\n",
       "      <td>10.810000</td>\n",
       "      <td>0</td>\n",
       "      <td>675.0</td>\n",
       "      <td>679.0</td>\n",
       "      <td>...</td>\n",
       "      <td>0</td>\n",
       "      <td>0</td>\n",
       "      <td>0</td>\n",
       "      <td>0</td>\n",
       "      <td>0</td>\n",
       "      <td>0</td>\n",
       "      <td>0</td>\n",
       "      <td>0</td>\n",
       "      <td>0</td>\n",
       "      <td>0</td>\n",
       "    </tr>\n",
       "    <tr>\n",
       "      <th>78608726</th>\n",
       "      <td>2100.0</td>\n",
       "      <td>15.31</td>\n",
       "      <td>73.120003</td>\n",
       "      <td>5.0</td>\n",
       "      <td>19600.0</td>\n",
       "      <td>2016-05-01</td>\n",
       "      <td>14.280000</td>\n",
       "      <td>3</td>\n",
       "      <td>660.0</td>\n",
       "      <td>664.0</td>\n",
       "      <td>...</td>\n",
       "      <td>0</td>\n",
       "      <td>0</td>\n",
       "      <td>0</td>\n",
       "      <td>0</td>\n",
       "      <td>1</td>\n",
       "      <td>0</td>\n",
       "      <td>0</td>\n",
       "      <td>0</td>\n",
       "      <td>0</td>\n",
       "      <td>0</td>\n",
       "    </tr>\n",
       "    <tr>\n",
       "      <th>77180977</th>\n",
       "      <td>3600.0</td>\n",
       "      <td>7.89</td>\n",
       "      <td>112.629997</td>\n",
       "      <td>8.0</td>\n",
       "      <td>31300.0</td>\n",
       "      <td>2016-05-01</td>\n",
       "      <td>23.200001</td>\n",
       "      <td>0</td>\n",
       "      <td>670.0</td>\n",
       "      <td>674.0</td>\n",
       "      <td>...</td>\n",
       "      <td>0</td>\n",
       "      <td>0</td>\n",
       "      <td>0</td>\n",
       "      <td>0</td>\n",
       "      <td>0</td>\n",
       "      <td>0</td>\n",
       "      <td>0</td>\n",
       "      <td>0</td>\n",
       "      <td>0</td>\n",
       "      <td>0</td>\n",
       "    </tr>\n",
       "    <tr>\n",
       "      <th>77142437</th>\n",
       "      <td>20000.0</td>\n",
       "      <td>11.99</td>\n",
       "      <td>664.200012</td>\n",
       "      <td>8.0</td>\n",
       "      <td>76000.0</td>\n",
       "      <td>2016-05-01</td>\n",
       "      <td>16.070000</td>\n",
       "      <td>6</td>\n",
       "      <td>695.0</td>\n",
       "      <td>699.0</td>\n",
       "      <td>...</td>\n",
       "      <td>0</td>\n",
       "      <td>0</td>\n",
       "      <td>0</td>\n",
       "      <td>0</td>\n",
       "      <td>0</td>\n",
       "      <td>0</td>\n",
       "      <td>0</td>\n",
       "      <td>0</td>\n",
       "      <td>0</td>\n",
       "      <td>0</td>\n",
       "    </tr>\n",
       "    <tr>\n",
       "      <th>77901770</th>\n",
       "      <td>10000.0</td>\n",
       "      <td>9.16</td>\n",
       "      <td>318.750000</td>\n",
       "      <td>-99.0</td>\n",
       "      <td>125000.0</td>\n",
       "      <td>2016-05-01</td>\n",
       "      <td>6.790000</td>\n",
       "      <td>0</td>\n",
       "      <td>690.0</td>\n",
       "      <td>694.0</td>\n",
       "      <td>...</td>\n",
       "      <td>0</td>\n",
       "      <td>0</td>\n",
       "      <td>0</td>\n",
       "      <td>0</td>\n",
       "      <td>0</td>\n",
       "      <td>0</td>\n",
       "      <td>0</td>\n",
       "      <td>0</td>\n",
       "      <td>0</td>\n",
       "      <td>0</td>\n",
       "    </tr>\n",
       "  </tbody>\n",
       "</table>\n",
       "<p>5 rows × 212 columns</p>\n",
       "</div>"
      ],
      "text/plain": [
       "          loan_amnt  int_rate  installment  emp_length  annual_inc    issue_d  \\\n",
       "id                                                                              \n",
       "78219622    15000.0      8.39   472.750000        10.0    170000.0 2016-05-01   \n",
       "78608726     2100.0     15.31    73.120003         5.0     19600.0 2016-05-01   \n",
       "77180977     3600.0      7.89   112.629997         8.0     31300.0 2016-05-01   \n",
       "77142437    20000.0     11.99   664.200012         8.0     76000.0 2016-05-01   \n",
       "77901770    10000.0      9.16   318.750000       -99.0    125000.0 2016-05-01   \n",
       "\n",
       "                dti  delinq_2yrs  fico_range_low  fico_range_high  \\\n",
       "id                                                                  \n",
       "78219622  10.810000            0           675.0            679.0   \n",
       "78608726  14.280000            3           660.0            664.0   \n",
       "77180977  23.200001            0           670.0            674.0   \n",
       "77142437  16.070000            6           695.0            699.0   \n",
       "77901770   6.790000            0           690.0            694.0   \n",
       "\n",
       "               ...         purpose_home_improvement  purpose_house  \\\n",
       "id             ...                                                   \n",
       "78219622       ...                                0              0   \n",
       "78608726       ...                                0              0   \n",
       "77180977       ...                                0              0   \n",
       "77142437       ...                                0              0   \n",
       "77901770       ...                                0              0   \n",
       "\n",
       "          purpose_major_purchase  purpose_medical  purpose_moving  \\\n",
       "id                                                                  \n",
       "78219622                       0                0               0   \n",
       "78608726                       0                0               1   \n",
       "77180977                       0                0               0   \n",
       "77142437                       0                0               0   \n",
       "77901770                       0                0               0   \n",
       "\n",
       "          purpose_other  purpose_renewable_energy  purpose_small_business  \\\n",
       "id                                                                          \n",
       "78219622              0                         0                       0   \n",
       "78608726              0                         0                       0   \n",
       "77180977              0                         0                       0   \n",
       "77142437              0                         0                       0   \n",
       "77901770              0                         0                       0   \n",
       "\n",
       "          purpose_vacation  purpose_wedding  \n",
       "id                                           \n",
       "78219622                 0                0  \n",
       "78608726                 0                0  \n",
       "77180977                 0                0  \n",
       "77142437                 0                0  \n",
       "77901770                 0                0  \n",
       "\n",
       "[5 rows x 212 columns]"
      ]
     },
     "execution_count": 29,
     "metadata": {},
     "output_type": "execute_result"
    }
   ],
   "source": [
    "#df_test.drop(columns='issue_d', inplace=True)\n",
    "df_test.head()"
   ]
  },
  {
   "cell_type": "code",
   "execution_count": 9,
   "metadata": {},
   "outputs": [],
   "source": [
    "df_payments_all = pd.read_pickle('data/df_payments_data_all_cleaned.pkl.bz2', compression='bz2')"
   ]
  },
  {
   "cell_type": "code",
   "execution_count": 11,
   "metadata": {},
   "outputs": [
    {
     "data": {
      "text/html": [
       "<div>\n",
       "<style scoped>\n",
       "    .dataframe tbody tr th:only-of-type {\n",
       "        vertical-align: middle;\n",
       "    }\n",
       "\n",
       "    .dataframe tbody tr th {\n",
       "        vertical-align: top;\n",
       "    }\n",
       "\n",
       "    .dataframe thead th {\n",
       "        text-align: right;\n",
       "    }\n",
       "</style>\n",
       "<table border=\"1\" class=\"dataframe\">\n",
       "  <thead>\n",
       "    <tr style=\"text-align: right;\">\n",
       "      <th></th>\n",
       "      <th></th>\n",
       "      <th>RECEIVED_AMT_INVESTORS</th>\n",
       "      <th>PBAL_END_PERIOD_INVESTORS</th>\n",
       "      <th>mths_since_issue</th>\n",
       "    </tr>\n",
       "    <tr>\n",
       "      <th>RECEIVED_D</th>\n",
       "      <th>LOAN_ID</th>\n",
       "      <th></th>\n",
       "      <th></th>\n",
       "      <th></th>\n",
       "    </tr>\n",
       "  </thead>\n",
       "  <tbody>\n",
       "    <tr>\n",
       "      <th rowspan=\"5\" valign=\"top\">2007-07-01</th>\n",
       "      <th>72176</th>\n",
       "      <td>7.189307</td>\n",
       "      <td>219.559830</td>\n",
       "      <td>1</td>\n",
       "    </tr>\n",
       "    <tr>\n",
       "      <th>73582</th>\n",
       "      <td>7.289357</td>\n",
       "      <td>219.637436</td>\n",
       "      <td>1</td>\n",
       "    </tr>\n",
       "    <tr>\n",
       "      <th>74505</th>\n",
       "      <td>7.256250</td>\n",
       "      <td>219.611313</td>\n",
       "      <td>1</td>\n",
       "    </tr>\n",
       "    <tr>\n",
       "      <th>77792</th>\n",
       "      <td>3.975833</td>\n",
       "      <td>121.962997</td>\n",
       "      <td>1</td>\n",
       "    </tr>\n",
       "    <tr>\n",
       "      <th>81085</th>\n",
       "      <td>9.032310</td>\n",
       "      <td>268.539795</td>\n",
       "      <td>1</td>\n",
       "    </tr>\n",
       "  </tbody>\n",
       "</table>\n",
       "</div>"
      ],
      "text/plain": [
       "                    RECEIVED_AMT_INVESTORS  PBAL_END_PERIOD_INVESTORS  \\\n",
       "RECEIVED_D LOAN_ID                                                      \n",
       "2007-07-01 72176                  7.189307                 219.559830   \n",
       "           73582                  7.289357                 219.637436   \n",
       "           74505                  7.256250                 219.611313   \n",
       "           77792                  3.975833                 121.962997   \n",
       "           81085                  9.032310                 268.539795   \n",
       "\n",
       "                    mths_since_issue  \n",
       "RECEIVED_D LOAN_ID                    \n",
       "2007-07-01 72176                   1  \n",
       "           73582                   1  \n",
       "           74505                   1  \n",
       "           77792                   1  \n",
       "           81085                   1  "
      ]
     },
     "execution_count": 11,
     "metadata": {},
     "output_type": "execute_result"
    }
   ],
   "source": [
    "# Is this good for the simulation? Let's worry about that after model training.\n",
    "df_payments_all.head()"
   ]
  },
  {
   "cell_type": "code",
   "execution_count": 23,
   "metadata": {},
   "outputs": [],
   "source": [
    "def split_data_into_labels_and_target(df):\n",
    "    '''\n",
    "    Split the data into features (X) and a label (y). Our label in this case is ROI of a loan.\n",
    "\n",
    "    Args:\n",
    "        df (dataframe): Our loan dataframe that has been cleaned and prepared for modeling.\n",
    "\n",
    "    Returns:\n",
    "        Dataframes: Returns 2 dataframes, one for the model features and one for the model label.\n",
    "    '''\n",
    "    X = df.drop(['roi', 'issue_d'], axis=1)\n",
    "    y = df['roi']\n",
    "    return X, y"
   ]
  },
  {
   "cell_type": "code",
   "execution_count": 24,
   "metadata": {},
   "outputs": [],
   "source": [
    "X_train, y_train = split_data_into_labels_and_target(df_train)"
   ]
  },
  {
   "cell_type": "code",
   "execution_count": 25,
   "metadata": {},
   "outputs": [],
   "source": [
    "model = XGBRegressor(n_jobs=-1)\n",
    "fit_model = train_model(model, X_train, y_train)"
   ]
  },
  {
   "cell_type": "code",
   "execution_count": 30,
   "metadata": {},
   "outputs": [],
   "source": [
    "X_test = df_test.drop(columns='issue_d')"
   ]
  },
  {
   "cell_type": "code",
   "execution_count": 33,
   "metadata": {},
   "outputs": [
    {
     "data": {
      "text/plain": [
       "array([ 3.0167866 ,  5.535616  ,  0.4722504 , ...,  2.9651687 ,\n",
       "       -0.49046355,  2.7701457 ], dtype=float32)"
      ]
     },
     "execution_count": 33,
     "metadata": {},
     "output_type": "execute_result"
    }
   ],
   "source": [
    "predicted_rois = get_predictions(fit_model, X_test)\n",
    "predicted_rois"
   ]
  },
  {
   "cell_type": "code",
   "execution_count": 36,
   "metadata": {},
   "outputs": [
    {
     "data": {
      "text/html": [
       "<div>\n",
       "<style scoped>\n",
       "    .dataframe tbody tr th:only-of-type {\n",
       "        vertical-align: middle;\n",
       "    }\n",
       "\n",
       "    .dataframe tbody tr th {\n",
       "        vertical-align: top;\n",
       "    }\n",
       "\n",
       "    .dataframe thead th {\n",
       "        text-align: right;\n",
       "    }\n",
       "</style>\n",
       "<table border=\"1\" class=\"dataframe\">\n",
       "  <thead>\n",
       "    <tr style=\"text-align: right;\">\n",
       "      <th></th>\n",
       "      <th>id</th>\n",
       "      <th>loan_amnt</th>\n",
       "      <th>predicted_roi</th>\n",
       "    </tr>\n",
       "    <tr>\n",
       "      <th>issue_d</th>\n",
       "      <th></th>\n",
       "      <th></th>\n",
       "      <th></th>\n",
       "    </tr>\n",
       "  </thead>\n",
       "  <tbody>\n",
       "    <tr>\n",
       "      <th>2016-05-01</th>\n",
       "      <td>78219622</td>\n",
       "      <td>15000.0</td>\n",
       "      <td>3.016787</td>\n",
       "    </tr>\n",
       "    <tr>\n",
       "      <th>2016-05-01</th>\n",
       "      <td>78608726</td>\n",
       "      <td>2100.0</td>\n",
       "      <td>5.535616</td>\n",
       "    </tr>\n",
       "    <tr>\n",
       "      <th>2016-05-01</th>\n",
       "      <td>77180977</td>\n",
       "      <td>3600.0</td>\n",
       "      <td>0.472250</td>\n",
       "    </tr>\n",
       "    <tr>\n",
       "      <th>2016-05-01</th>\n",
       "      <td>77142437</td>\n",
       "      <td>20000.0</td>\n",
       "      <td>2.591496</td>\n",
       "    </tr>\n",
       "    <tr>\n",
       "      <th>2016-05-01</th>\n",
       "      <td>77901770</td>\n",
       "      <td>10000.0</td>\n",
       "      <td>4.453407</td>\n",
       "    </tr>\n",
       "  </tbody>\n",
       "</table>\n",
       "</div>"
      ],
      "text/plain": [
       "                  id  loan_amnt  predicted_roi\n",
       "issue_d                                       \n",
       "2016-05-01  78219622    15000.0       3.016787\n",
       "2016-05-01  78608726     2100.0       5.535616\n",
       "2016-05-01  77180977     3600.0       0.472250\n",
       "2016-05-01  77142437    20000.0       2.591496\n",
       "2016-05-01  77901770    10000.0       4.453407"
      ]
     },
     "execution_count": 36,
     "metadata": {},
     "output_type": "execute_result"
    }
   ],
   "source": [
    "simulation_df = create_dataframe_for_simulation(df_test, predicted_rois)\n",
    "simulation_df.head()"
   ]
  },
  {
   "cell_type": "code",
   "execution_count": 37,
   "metadata": {},
   "outputs": [],
   "source": [
    "simulation_df.to_pickle('data/model_xgb_predictions.pkl.bz2', compression='bz2')"
   ]
  },
  {
   "cell_type": "markdown",
   "metadata": {},
   "source": [
    "#### Random Forest 10 Trees"
   ]
  },
  {
   "cell_type": "code",
   "execution_count": 44,
   "metadata": {},
   "outputs": [],
   "source": [
    "from sklearn.ensemble import RandomForestRegressor\n",
    "model = RandomForestRegressor(n_estimators=10, n_jobs=-1)\n",
    "fit_model = train_model(model, X_train, y_train)"
   ]
  },
  {
   "cell_type": "code",
   "execution_count": 45,
   "metadata": {},
   "outputs": [],
   "source": [
    "predicted_rois = get_predictions(fit_model, X_test)"
   ]
  },
  {
   "cell_type": "code",
   "execution_count": 46,
   "metadata": {},
   "outputs": [
    {
     "data": {
      "text/html": [
       "<div>\n",
       "<style scoped>\n",
       "    .dataframe tbody tr th:only-of-type {\n",
       "        vertical-align: middle;\n",
       "    }\n",
       "\n",
       "    .dataframe tbody tr th {\n",
       "        vertical-align: top;\n",
       "    }\n",
       "\n",
       "    .dataframe thead th {\n",
       "        text-align: right;\n",
       "    }\n",
       "</style>\n",
       "<table border=\"1\" class=\"dataframe\">\n",
       "  <thead>\n",
       "    <tr style=\"text-align: right;\">\n",
       "      <th></th>\n",
       "      <th>id</th>\n",
       "      <th>loan_amnt</th>\n",
       "      <th>predicted_roi</th>\n",
       "    </tr>\n",
       "    <tr>\n",
       "      <th>issue_d</th>\n",
       "      <th></th>\n",
       "      <th></th>\n",
       "      <th></th>\n",
       "    </tr>\n",
       "  </thead>\n",
       "  <tbody>\n",
       "    <tr>\n",
       "      <th>2016-05-01</th>\n",
       "      <td>78219622</td>\n",
       "      <td>15000.0</td>\n",
       "      <td>-11.758644</td>\n",
       "    </tr>\n",
       "    <tr>\n",
       "      <th>2016-05-01</th>\n",
       "      <td>78608726</td>\n",
       "      <td>2100.0</td>\n",
       "      <td>-7.360871</td>\n",
       "    </tr>\n",
       "    <tr>\n",
       "      <th>2016-05-01</th>\n",
       "      <td>77180977</td>\n",
       "      <td>3600.0</td>\n",
       "      <td>4.562841</td>\n",
       "    </tr>\n",
       "    <tr>\n",
       "      <th>2016-05-01</th>\n",
       "      <td>77142437</td>\n",
       "      <td>20000.0</td>\n",
       "      <td>11.464980</td>\n",
       "    </tr>\n",
       "    <tr>\n",
       "      <th>2016-05-01</th>\n",
       "      <td>77901770</td>\n",
       "      <td>10000.0</td>\n",
       "      <td>-0.794850</td>\n",
       "    </tr>\n",
       "  </tbody>\n",
       "</table>\n",
       "</div>"
      ],
      "text/plain": [
       "                  id  loan_amnt  predicted_roi\n",
       "issue_d                                       \n",
       "2016-05-01  78219622    15000.0     -11.758644\n",
       "2016-05-01  78608726     2100.0      -7.360871\n",
       "2016-05-01  77180977     3600.0       4.562841\n",
       "2016-05-01  77142437    20000.0      11.464980\n",
       "2016-05-01  77901770    10000.0      -0.794850"
      ]
     },
     "execution_count": 46,
     "metadata": {},
     "output_type": "execute_result"
    }
   ],
   "source": [
    "simulation_df = create_dataframe_for_simulation(df_test, predicted_rois)\n",
    "simulation_df.head()"
   ]
  },
  {
   "cell_type": "code",
   "execution_count": 47,
   "metadata": {},
   "outputs": [],
   "source": [
    "simulation_df.to_pickle('data/model_rf_10_trees_predictions.pkl.bz2', compression='bz2')"
   ]
  },
  {
   "cell_type": "markdown",
   "metadata": {},
   "source": [
    "#### Random Forest 100 Trees"
   ]
  },
  {
   "cell_type": "code",
   "execution_count": 48,
   "metadata": {},
   "outputs": [],
   "source": [
    "model = RandomForestRegressor(n_estimators=100, n_jobs=-1)\n",
    "fit_model = train_model(model, X_train, y_train)"
   ]
  },
  {
   "cell_type": "code",
   "execution_count": 49,
   "metadata": {},
   "outputs": [],
   "source": [
    "predicted_rois = get_predictions(fit_model, X_test)"
   ]
  },
  {
   "cell_type": "code",
   "execution_count": 50,
   "metadata": {},
   "outputs": [
    {
     "data": {
      "text/html": [
       "<div>\n",
       "<style scoped>\n",
       "    .dataframe tbody tr th:only-of-type {\n",
       "        vertical-align: middle;\n",
       "    }\n",
       "\n",
       "    .dataframe tbody tr th {\n",
       "        vertical-align: top;\n",
       "    }\n",
       "\n",
       "    .dataframe thead th {\n",
       "        text-align: right;\n",
       "    }\n",
       "</style>\n",
       "<table border=\"1\" class=\"dataframe\">\n",
       "  <thead>\n",
       "    <tr style=\"text-align: right;\">\n",
       "      <th></th>\n",
       "      <th>id</th>\n",
       "      <th>loan_amnt</th>\n",
       "      <th>predicted_roi</th>\n",
       "    </tr>\n",
       "    <tr>\n",
       "      <th>issue_d</th>\n",
       "      <th></th>\n",
       "      <th></th>\n",
       "      <th></th>\n",
       "    </tr>\n",
       "  </thead>\n",
       "  <tbody>\n",
       "    <tr>\n",
       "      <th>2016-05-01</th>\n",
       "      <td>78219622</td>\n",
       "      <td>15000.0</td>\n",
       "      <td>-0.674256</td>\n",
       "    </tr>\n",
       "    <tr>\n",
       "      <th>2016-05-01</th>\n",
       "      <td>78608726</td>\n",
       "      <td>2100.0</td>\n",
       "      <td>-3.251852</td>\n",
       "    </tr>\n",
       "    <tr>\n",
       "      <th>2016-05-01</th>\n",
       "      <td>77180977</td>\n",
       "      <td>3600.0</td>\n",
       "      <td>0.326274</td>\n",
       "    </tr>\n",
       "    <tr>\n",
       "      <th>2016-05-01</th>\n",
       "      <td>77142437</td>\n",
       "      <td>20000.0</td>\n",
       "      <td>-3.487030</td>\n",
       "    </tr>\n",
       "    <tr>\n",
       "      <th>2016-05-01</th>\n",
       "      <td>77901770</td>\n",
       "      <td>10000.0</td>\n",
       "      <td>1.698020</td>\n",
       "    </tr>\n",
       "  </tbody>\n",
       "</table>\n",
       "</div>"
      ],
      "text/plain": [
       "                  id  loan_amnt  predicted_roi\n",
       "issue_d                                       \n",
       "2016-05-01  78219622    15000.0      -0.674256\n",
       "2016-05-01  78608726     2100.0      -3.251852\n",
       "2016-05-01  77180977     3600.0       0.326274\n",
       "2016-05-01  77142437    20000.0      -3.487030\n",
       "2016-05-01  77901770    10000.0       1.698020"
      ]
     },
     "execution_count": 50,
     "metadata": {},
     "output_type": "execute_result"
    }
   ],
   "source": [
    "simulation_df = create_dataframe_for_simulation(df_test, predicted_rois)\n",
    "simulation_df.head()"
   ]
  },
  {
   "cell_type": "code",
   "execution_count": 51,
   "metadata": {},
   "outputs": [],
   "source": [
    "simulation_df.to_pickle('data/model_rf_100_trees_predictions.pkl.bz2', compression='bz2')"
   ]
  },
  {
   "cell_type": "markdown",
   "metadata": {},
   "source": [
    "#### Decision Tree"
   ]
  },
  {
   "cell_type": "code",
   "execution_count": 52,
   "metadata": {},
   "outputs": [],
   "source": [
    "from sklearn.tree import DecisionTreeRegressor\n",
    "model = DecisionTreeRegressor()\n",
    "fit_model = train_model(model, X_train, y_train)"
   ]
  },
  {
   "cell_type": "code",
   "execution_count": 53,
   "metadata": {},
   "outputs": [],
   "source": [
    "predicted_rois = get_predictions(fit_model, X_test)"
   ]
  },
  {
   "cell_type": "code",
   "execution_count": 54,
   "metadata": {},
   "outputs": [
    {
     "data": {
      "text/html": [
       "<div>\n",
       "<style scoped>\n",
       "    .dataframe tbody tr th:only-of-type {\n",
       "        vertical-align: middle;\n",
       "    }\n",
       "\n",
       "    .dataframe tbody tr th {\n",
       "        vertical-align: top;\n",
       "    }\n",
       "\n",
       "    .dataframe thead th {\n",
       "        text-align: right;\n",
       "    }\n",
       "</style>\n",
       "<table border=\"1\" class=\"dataframe\">\n",
       "  <thead>\n",
       "    <tr style=\"text-align: right;\">\n",
       "      <th></th>\n",
       "      <th>id</th>\n",
       "      <th>loan_amnt</th>\n",
       "      <th>predicted_roi</th>\n",
       "    </tr>\n",
       "    <tr>\n",
       "      <th>issue_d</th>\n",
       "      <th></th>\n",
       "      <th></th>\n",
       "      <th></th>\n",
       "    </tr>\n",
       "  </thead>\n",
       "  <tbody>\n",
       "    <tr>\n",
       "      <th>2016-05-01</th>\n",
       "      <td>78219622</td>\n",
       "      <td>15000.0</td>\n",
       "      <td>5.582938</td>\n",
       "    </tr>\n",
       "    <tr>\n",
       "      <th>2016-05-01</th>\n",
       "      <td>78608726</td>\n",
       "      <td>2100.0</td>\n",
       "      <td>-81.457004</td>\n",
       "    </tr>\n",
       "    <tr>\n",
       "      <th>2016-05-01</th>\n",
       "      <td>77180977</td>\n",
       "      <td>3600.0</td>\n",
       "      <td>6.870828</td>\n",
       "    </tr>\n",
       "    <tr>\n",
       "      <th>2016-05-01</th>\n",
       "      <td>77142437</td>\n",
       "      <td>20000.0</td>\n",
       "      <td>13.177490</td>\n",
       "    </tr>\n",
       "    <tr>\n",
       "      <th>2016-05-01</th>\n",
       "      <td>77901770</td>\n",
       "      <td>10000.0</td>\n",
       "      <td>9.285623</td>\n",
       "    </tr>\n",
       "  </tbody>\n",
       "</table>\n",
       "</div>"
      ],
      "text/plain": [
       "                  id  loan_amnt  predicted_roi\n",
       "issue_d                                       \n",
       "2016-05-01  78219622    15000.0       5.582938\n",
       "2016-05-01  78608726     2100.0     -81.457004\n",
       "2016-05-01  77180977     3600.0       6.870828\n",
       "2016-05-01  77142437    20000.0      13.177490\n",
       "2016-05-01  77901770    10000.0       9.285623"
      ]
     },
     "execution_count": 54,
     "metadata": {},
     "output_type": "execute_result"
    }
   ],
   "source": [
    "simulation_df = create_dataframe_for_simulation(df_test, predicted_rois)\n",
    "simulation_df.head()"
   ]
  },
  {
   "cell_type": "code",
   "execution_count": 56,
   "metadata": {},
   "outputs": [],
   "source": [
    "simulation_df.to_pickle('data/model_dt_predictions.pkl.bz2', compression='bz2')"
   ]
  },
  {
   "cell_type": "markdown",
   "metadata": {},
   "source": [
    "#### High Interest Rate Strategy"
   ]
  },
  {
   "cell_type": "code",
   "execution_count": 61,
   "metadata": {},
   "outputs": [
    {
     "data": {
      "text/html": [
       "<div>\n",
       "<style scoped>\n",
       "    .dataframe tbody tr th:only-of-type {\n",
       "        vertical-align: middle;\n",
       "    }\n",
       "\n",
       "    .dataframe tbody tr th {\n",
       "        vertical-align: top;\n",
       "    }\n",
       "\n",
       "    .dataframe thead th {\n",
       "        text-align: right;\n",
       "    }\n",
       "</style>\n",
       "<table border=\"1\" class=\"dataframe\">\n",
       "  <thead>\n",
       "    <tr style=\"text-align: right;\">\n",
       "      <th></th>\n",
       "      <th>id</th>\n",
       "      <th>loan_amnt</th>\n",
       "      <th>predicted_roi</th>\n",
       "    </tr>\n",
       "    <tr>\n",
       "      <th>issue_d</th>\n",
       "      <th></th>\n",
       "      <th></th>\n",
       "      <th></th>\n",
       "    </tr>\n",
       "  </thead>\n",
       "  <tbody>\n",
       "    <tr>\n",
       "      <th>2016-05-01</th>\n",
       "      <td>78219622</td>\n",
       "      <td>15000.0</td>\n",
       "      <td>8.39</td>\n",
       "    </tr>\n",
       "    <tr>\n",
       "      <th>2016-05-01</th>\n",
       "      <td>78608726</td>\n",
       "      <td>2100.0</td>\n",
       "      <td>15.31</td>\n",
       "    </tr>\n",
       "    <tr>\n",
       "      <th>2016-05-01</th>\n",
       "      <td>77180977</td>\n",
       "      <td>3600.0</td>\n",
       "      <td>7.89</td>\n",
       "    </tr>\n",
       "    <tr>\n",
       "      <th>2016-05-01</th>\n",
       "      <td>77142437</td>\n",
       "      <td>20000.0</td>\n",
       "      <td>11.99</td>\n",
       "    </tr>\n",
       "    <tr>\n",
       "      <th>2016-05-01</th>\n",
       "      <td>77901770</td>\n",
       "      <td>10000.0</td>\n",
       "      <td>9.16</td>\n",
       "    </tr>\n",
       "  </tbody>\n",
       "</table>\n",
       "</div>"
      ],
      "text/plain": [
       "                  id  loan_amnt  predicted_roi\n",
       "issue_d                                       \n",
       "2016-05-01  78219622    15000.0           8.39\n",
       "2016-05-01  78608726     2100.0          15.31\n",
       "2016-05-01  77180977     3600.0           7.89\n",
       "2016-05-01  77142437    20000.0          11.99\n",
       "2016-05-01  77901770    10000.0           9.16"
      ]
     },
     "execution_count": 61,
     "metadata": {},
     "output_type": "execute_result"
    }
   ],
   "source": [
    "predictions = X_test.int_rate\n",
    "simulation_df = create_dataframe_for_simulation(df_test, predictions)\n",
    "simulation_df.head()"
   ]
  },
  {
   "cell_type": "code",
   "execution_count": 64,
   "metadata": {},
   "outputs": [],
   "source": [
    "simulation_df.to_pickle('data/model_naive_high.pkl.bz2', compression='bz2')"
   ]
  },
  {
   "cell_type": "markdown",
   "metadata": {},
   "source": [
    "#### Low Interest Rate Strategy"
   ]
  },
  {
   "cell_type": "code",
   "execution_count": 66,
   "metadata": {},
   "outputs": [],
   "source": [
    "predictions = X_test.int_rate\n",
    "simulation_df = create_dataframe_for_simulation(df_test, -1*predictions)"
   ]
  },
  {
   "cell_type": "code",
   "execution_count": 67,
   "metadata": {},
   "outputs": [
    {
     "data": {
      "text/html": [
       "<div>\n",
       "<style scoped>\n",
       "    .dataframe tbody tr th:only-of-type {\n",
       "        vertical-align: middle;\n",
       "    }\n",
       "\n",
       "    .dataframe tbody tr th {\n",
       "        vertical-align: top;\n",
       "    }\n",
       "\n",
       "    .dataframe thead th {\n",
       "        text-align: right;\n",
       "    }\n",
       "</style>\n",
       "<table border=\"1\" class=\"dataframe\">\n",
       "  <thead>\n",
       "    <tr style=\"text-align: right;\">\n",
       "      <th></th>\n",
       "      <th>id</th>\n",
       "      <th>loan_amnt</th>\n",
       "      <th>predicted_roi</th>\n",
       "    </tr>\n",
       "    <tr>\n",
       "      <th>issue_d</th>\n",
       "      <th></th>\n",
       "      <th></th>\n",
       "      <th></th>\n",
       "    </tr>\n",
       "  </thead>\n",
       "  <tbody>\n",
       "    <tr>\n",
       "      <th>2016-05-01</th>\n",
       "      <td>78219622</td>\n",
       "      <td>15000.0</td>\n",
       "      <td>-8.39</td>\n",
       "    </tr>\n",
       "    <tr>\n",
       "      <th>2016-05-01</th>\n",
       "      <td>78608726</td>\n",
       "      <td>2100.0</td>\n",
       "      <td>-15.31</td>\n",
       "    </tr>\n",
       "    <tr>\n",
       "      <th>2016-05-01</th>\n",
       "      <td>77180977</td>\n",
       "      <td>3600.0</td>\n",
       "      <td>-7.89</td>\n",
       "    </tr>\n",
       "    <tr>\n",
       "      <th>2016-05-01</th>\n",
       "      <td>77142437</td>\n",
       "      <td>20000.0</td>\n",
       "      <td>-11.99</td>\n",
       "    </tr>\n",
       "    <tr>\n",
       "      <th>2016-05-01</th>\n",
       "      <td>77901770</td>\n",
       "      <td>10000.0</td>\n",
       "      <td>-9.16</td>\n",
       "    </tr>\n",
       "  </tbody>\n",
       "</table>\n",
       "</div>"
      ],
      "text/plain": [
       "                  id  loan_amnt  predicted_roi\n",
       "issue_d                                       \n",
       "2016-05-01  78219622    15000.0          -8.39\n",
       "2016-05-01  78608726     2100.0         -15.31\n",
       "2016-05-01  77180977     3600.0          -7.89\n",
       "2016-05-01  77142437    20000.0         -11.99\n",
       "2016-05-01  77901770    10000.0          -9.16"
      ]
     },
     "execution_count": 67,
     "metadata": {},
     "output_type": "execute_result"
    }
   ],
   "source": [
    "simulation_df.head()"
   ]
  },
  {
   "cell_type": "code",
   "execution_count": 68,
   "metadata": {},
   "outputs": [],
   "source": [
    "simulation_df.to_pickle('data/model_naive_low.pkl.bz2', compression='bz2')"
   ]
  },
  {
   "cell_type": "markdown",
   "metadata": {},
   "source": [
    "#### SHAP Analysis"
   ]
  },
  {
   "cell_type": "code",
   "execution_count": null,
   "metadata": {},
   "outputs": [],
   "source": []
  }
 ],
 "metadata": {
  "kernelspec": {
   "display_name": "Python 3",
   "language": "python",
   "name": "python3"
  },
  "language_info": {
   "codemirror_mode": {
    "name": "ipython",
    "version": 3
   },
   "file_extension": ".py",
   "mimetype": "text/x-python",
   "name": "python",
   "nbconvert_exporter": "python",
   "pygments_lexer": "ipython3",
   "version": "3.6.7"
  }
 },
 "nbformat": 4,
 "nbformat_minor": 2
}

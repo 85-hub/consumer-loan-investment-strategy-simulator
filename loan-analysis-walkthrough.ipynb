{
 "cells": [
  {
   "cell_type": "markdown",
   "metadata": {},
   "source": [
    "# Predicting Return on Investment (ROI) of Consumer Loans\n",
    "\n",
    "**Andrew Nicholls** | Email: andrew.s.nicholls@gmail.com | [Github](https://github.com/Booleans)\n",
    "\n",
    "If you are viewing this notebook on Github I recommend using the following nbviewer link instead to ensure proper formatting and working interactive charts.\n",
    "\n",
    "[nbviewer link](https://nbviewer.jupyter.org/github/Booleans/Lending-Club-Loan-Analysis/blob/master/Loan_Analysis_Regression.ipynb)"
   ]
  },
  {
   "cell_type": "markdown",
   "metadata": {},
   "source": [
    "## Summary\n",
    "\n",
    "**Contents:**\n",
    "\n",
    "1. [Problem Definition and Background Information](#1)\n",
    "2. [Data Preparation: Wrangling, Cleaning, and Feature Extraction](#2)\n",
    "3. [Exploratory Data Analysis](#3)\n",
    "4. [Machine Learning Models](#4)\n",
    "5. [Results and Findings](#4)\n",
    "<a id='1'></a>"
   ]
  },
  {
   "cell_type": "markdown",
   "metadata": {},
   "source": [
    "# 1. Introduction\n",
    "\n",
    "### Problem Definition\n",
    "\n",
    "LendingClub Corporation operates as an online marketplace that connects borrowers and investors in the United States. Its marketplace facilitates various types of loan products for consumers and small businesses, including unsecured personal loans, super prime consumer loans, unsecured education and patient finance loans, and unsecured small business loans. The company also offers investors an opportunity to invest in a range of loans based on term and credit characteristics. However, many loans issued through Lending Club end up being defaulted on by the borrower. The goal of this notebook is to examine the historical loan data available in order to generate a model to predict the return on investment that a new loan will generate.\n",
    "\n",
    "### Files Provided\n",
    "\n",
    "Lending Club provides CSV files of historical data for its loans. These files contain complete loan data for all loans issued through the time period stated, including the loan status (Current, Late, Fully Paid, etc.) and latest payment information. The files can be acquired on the [Lending Club Statistics Page](https://www.lendingclub.com/info/download-data.action). As of the creation of this project the latest data available from Lending Club was for Q1 2018.\n",
    "\n",
    "For information on the definitions of fields contained within the historical data please see the [Lending Club Data Dictionary](https://github.com/Booleans/consumer-loan-survival-analysis/blob/master/data/LCDataDictionary.xlsx?raw=true).\n",
    "\n",
    "The LoanStats3a file also contains information on loan applications that were declined and never issued. I have discarded those rows of data as they are not relevant to predicting loan defaults. I have also removed the last 2 rows of every spreadsheet, as they contained aggregate information on the number of loans in the file."
   ]
  },
  {
   "cell_type": "code",
   "execution_count": 1,
   "metadata": {},
   "outputs": [],
   "source": [
    "import datetime\n",
    "import pickle\n",
    "import numpy as np\n",
    "np.set_printoptions(suppress=True)\n",
    "import pandas as pd\n",
    "from datetime import datetime as dt\n",
    "from io import BytesIO\n",
    "import boto3\n",
    "import multiprocessing as mp\n",
    "\n",
    "%run src/columns.py\n",
    "%run src/data-cleaning.py\n",
    "%run src/feature-engineering.py"
   ]
  },
  {
   "cell_type": "code",
   "execution_count": 2,
   "metadata": {},
   "outputs": [],
   "source": [
    "def load_data_from_s3(filename, format='csv'):\n",
    "    s3 = boto3.client('s3')\n",
    "    obj = s3.get_object(Bucket='loan-analysis-data', Key=filename)\n",
    "    data = obj['Body'].read()\n",
    "    f = BytesIO(data)\n",
    "    if format=='csv':\n",
    "        df = pd.read_csv(f, low_memory=False)\n",
    "    if format=='pkl.bz2':\n",
    "        df = pd.read_pickle(f, compression='bz2')\n",
    "    return df"
   ]
  },
  {
   "cell_type": "markdown",
   "metadata": {},
   "source": [
    "Reading in raw data, for now just use the pickle"
   ]
  },
  {
   "cell_type": "code",
   "execution_count": 3,
   "metadata": {},
   "outputs": [],
   "source": [
    "loans = pd.read_pickle('data/raw_dataframe.pkl.bz2')\n",
    "#loans = loans.sample(n=30000)"
   ]
  },
  {
   "cell_type": "code",
   "execution_count": 4,
   "metadata": {},
   "outputs": [],
   "source": [
    "loans = drop_loan_status(loans)\n",
    "loans = drop_joint_applicant_loans(loans)\n",
    "loans = fix_rate_cols(loans)\n",
    "loans.dropna(subset=['issue_d'], inplace=True)\n",
    "loans = fix_date_cols(loans)\n",
    "loans = exclude_loans_before_2010(loans)\n",
    "loans = clean_loan_term_col(loans)\n",
    "loans = only_include_36_month_loans(loans)\n",
    "loans = clean_employment_length(loans)\n",
    "loans = create_missing_data_boolean_columns(loans)\n",
    "loans = fill_nas(loans, value=-99)\n",
    "loans = add_supplemental_rate_data(loans)\n",
    "loans = create_rate_difference_cols(loans)\n",
    "loans = create_months_since_earliest_cl_col(loans)\n",
    "loans = change_data_types(loans)\n",
    "loans.set_index('id', inplace=True)"
   ]
  },
  {
   "cell_type": "markdown",
   "metadata": {},
   "source": [
    "At this point I will save the dataframe to use for exploratory data analysis. After that we will be creating dummy cols for categorical variables as well as dropping columns that are no longer necessary."
   ]
  },
  {
   "cell_type": "code",
   "execution_count": 5,
   "metadata": {},
   "outputs": [],
   "source": [
    "loans.to_pickle('data/cleaned_loans_for_EDA.pkl.bz2', compression='bz2')"
   ]
  },
  {
   "cell_type": "code",
   "execution_count": 6,
   "metadata": {},
   "outputs": [],
   "source": [
    "loans = create_dummy_cols(loans)\n",
    "loans = drop_unnecessary_cols(loans)\n",
    "\n",
    "loans.to_pickle('data/cleaned_loans.pkl.bz2', compression='bz2')"
   ]
  },
  {
   "cell_type": "markdown",
   "metadata": {},
   "source": [
    "#### Return on Investment Calculation for Completed Loans"
   ]
  },
  {
   "cell_type": "code",
   "execution_count": null,
   "metadata": {},
   "outputs": [],
   "source": []
  }
 ],
 "metadata": {
  "kernelspec": {
   "display_name": "Python 3",
   "language": "python",
   "name": "python3"
  },
  "language_info": {
   "codemirror_mode": {
    "name": "ipython",
    "version": 3
   },
   "file_extension": ".py",
   "mimetype": "text/x-python",
   "name": "python",
   "nbconvert_exporter": "python",
   "pygments_lexer": "ipython3",
   "version": "3.6.5"
  }
 },
 "nbformat": 4,
 "nbformat_minor": 2
}

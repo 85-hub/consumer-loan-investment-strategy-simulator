{
 "cells": [
  {
   "cell_type": "markdown",
   "metadata": {},
   "source": [
    "# Predicting Return on Investment (ROI) of Consumer Loans\n",
    "\n",
    "**Andrew Nicholls** | Email: andrew.s.nicholls@gmail.com | [Github](https://github.com/Booleans)\n",
    "\n",
    "If you are viewing this notebook on Github I recommend using the following nbviewer link instead to ensure proper formatting and working interactive charts.\n",
    "\n",
    "[nbviewer link](https://nbviewer.jupyter.org/github/Booleans/Lending-Club-Loan-Analysis/blob/master/Loan_Analysis_Regression.ipynb)"
   ]
  },
  {
   "cell_type": "markdown",
   "metadata": {},
   "source": [
    "## Summary\n",
    "\n",
    "**Contents:**\n",
    "\n",
    "1. [Problem Definition and Background Information](#1)\n",
    "2. [Data Preparation: Wrangling, Cleaning, and Feature Extraction](#2)\n",
    "3. [Exploratory Data Analysis](#3)\n",
    "4. [Machine Learning Models](#4)\n",
    "5. [Results and Findings](#4)\n",
    "<a id='1'></a>"
   ]
  },
  {
   "cell_type": "code",
   "execution_count": null,
   "metadata": {},
   "outputs": [],
   "source": []
  },
  {
   "cell_type": "markdown",
   "metadata": {},
   "source": [
    "# 1. Introduction\n",
    "\n",
    "### Problem Definition\n",
    "\n",
    "LendingClub Corporation operates as an online marketplace that connects borrowers and investors in the United States. Its marketplace facilitates various types of loan products for consumers and small businesses, including unsecured personal loans, super prime consumer loans, unsecured education and patient finance loans, and unsecured small business loans. The company also offers investors an opportunity to invest in a range of loans based on term and credit characteristics. However, many loans issued through Lending Club end up being defaulted on by the borrower. The goal of this notebook is to examine the historical loan data available in order to generate a model to predict the return on investment that a new loan will generate.\n",
    "\n",
    "### Files Provided\n",
    "\n",
    "Lending Club provides CSV files of historical data for its loans. These files contain complete loan data for all loans issued through the time period stated, including the loan status (Current, Late, Fully Paid, etc.) and latest payment information. The files can be acquired on the [Lending Club Statistics Page](https://www.lendingclub.com/info/download-data.action). As of the creation of this project the latest data available from Lending Club was for Q1 2018.\n",
    "\n",
    "For information on the definitions of fields contained within the historical data please see the [Lending Club Data Dictionary](https://github.com/Booleans/consumer-loan-survival-analysis/blob/master/data/LCDataDictionary.xlsx?raw=true).\n",
    "\n",
    "The LoanStats3a file also contains information on loan applications that were declined and never issued. I have discarded those rows of data as they are not relevant to predicting loan defaults. I have also removed the last 2 rows of every spreadsheet, as they contained aggregate information on the number of loans in the file."
   ]
  },
  {
   "cell_type": "code",
   "execution_count": 47,
   "metadata": {},
   "outputs": [],
   "source": [
    "import datetime\n",
    "import pickle\n",
    "import numpy as np\n",
    "np.set_printoptions(suppress=True)\n",
    "import pandas as pd\n",
    "from datetime import datetime as dt\n",
    "from io import BytesIO\n",
    "import boto3\n",
    "import multiprocessing as mp\n",
    "\n",
    "%run src/columns.py\n",
    "%run src/data-cleaning.py\n",
    "%run src/feature-engineering.py\n",
    "%run src/payments.py\n",
    "%run src/modeling.py"
   ]
  },
  {
   "cell_type": "markdown",
   "metadata": {},
   "source": [
    "<a id='2'></a>\n",
    "# 2. Data Preparation: Wrangling, Cleaning, and Feature Extraction\n",
    "\n",
    "For this project I stored my data on an AWS S3 bucket called `loan-analysis-data`. I've written a function below that will allow me to easily load `csv` and `pkl.bz2` pickle files from my bucket. This enables me to perform my analysis on an AWS EC2 instance instead of working on my local machine."
   ]
  },
  {
   "cell_type": "code",
   "execution_count": 2,
   "metadata": {},
   "outputs": [],
   "source": [
    "def load_data_from_s3(filename, format='csv'):\n",
    "    s3 = boto3.client('s3')\n",
    "    obj = s3.get_object(Bucket='loan-analysis-data', Key=filename)\n",
    "    data = obj['Body'].read()\n",
    "    f = BytesIO(data)\n",
    "    if format=='csv':\n",
    "        df = pd.read_csv(f, low_memory=False)\n",
    "    if format=='pkl.bz2':\n",
    "        df = pd.read_pickle(f, compression='bz2')\n",
    "    return df"
   ]
  },
  {
   "cell_type": "markdown",
   "metadata": {},
   "source": [
    "Reading in raw data, for now just use the pickle"
   ]
  },
  {
   "cell_type": "code",
   "execution_count": 3,
   "metadata": {},
   "outputs": [],
   "source": [
    "loans = pd.read_pickle('data/raw_dataframe.pkl.bz2')"
   ]
  },
  {
   "cell_type": "code",
   "execution_count": 4,
   "metadata": {},
   "outputs": [],
   "source": [
    "loans = drop_loan_status(loans)\n",
    "loans = drop_joint_applicant_loans(loans)\n",
    "loans = fix_rate_cols(loans)\n",
    "loans.dropna(subset=['issue_d'], inplace=True)\n",
    "loans = fix_date_cols(loans)\n",
    "loans = exclude_loans_before_2010(loans)\n",
    "loans = clean_loan_term_col(loans)\n",
    "loans = only_include_36_month_loans(loans)\n",
    "loans = clean_employment_length(loans)\n",
    "loans = create_missing_data_boolean_columns(loans)\n",
    "loans = fill_nas(loans, value=-99)\n",
    "loans = add_supplemental_rate_data(loans)\n",
    "loans = create_rate_difference_cols(loans)\n",
    "loans = create_months_since_earliest_cl_col(loans)\n",
    "loans = change_data_types(loans)\n",
    "loans.set_index('id', inplace=True)"
   ]
  },
  {
   "cell_type": "markdown",
   "metadata": {},
   "source": [
    "At this point I will save the dataframe to use for exploratory data analysis. After that we will be creating dummy cols for categorical variables as well as dropping columns that are no longer necessary."
   ]
  },
  {
   "cell_type": "code",
   "execution_count": 5,
   "metadata": {},
   "outputs": [],
   "source": [
    "loans.to_pickle('data/cleaned_loans_for_EDA.pkl.bz2', compression='bz2')"
   ]
  },
  {
   "cell_type": "code",
   "execution_count": 6,
   "metadata": {},
   "outputs": [],
   "source": [
    "loans = create_dummy_cols(loans)\n",
    "loans = drop_unnecessary_cols(loans)\n",
    "loans.to_pickle('data/cleaned_loans.pkl.bz2', compression='bz2')"
   ]
  },
  {
   "cell_type": "markdown",
   "metadata": {},
   "source": [
    "#### Return on Investment Calculation for Completed Loans\n",
    "\n",
    "The goal of our model will be to predict return on investment of a loan. To do this, we need to get the payments data for all loans in our training dataset. Once we've acquired all payment information, we can calculate return on investment."
   ]
  },
  {
   "cell_type": "code",
   "execution_count": 11,
   "metadata": {},
   "outputs": [],
   "source": [
    "cleaned_loans = pd.read_pickle('data/cleaned_loans.pkl.bz2', compression='bz2')"
   ]
  },
  {
   "cell_type": "markdown",
   "metadata": {},
   "source": [
    "The raw payments data is contained in the file `PMTHIST_INVESTOR_201808.csv` stored in my S3 bucket. Raw payments data can be found on the [additional statistics](https://www.lendingclub.com/company/additional-statistics) page on Lending Club's website.\n",
    "\n",
    "Once the raw data is loaded, we need to clean it using the function `get_cleaned_payment_history_data` from the `payments.py` file. "
   ]
  },
  {
   "cell_type": "code",
   "execution_count": 3,
   "metadata": {
    "scrolled": true
   },
   "outputs": [],
   "source": [
    "payments = load_data_from_s3('PMTHIST_INVESTOR_201808.csv', format='csv')"
   ]
  },
  {
   "cell_type": "code",
   "execution_count": 4,
   "metadata": {},
   "outputs": [
    {
     "name": "stderr",
     "output_type": "stream",
     "text": [
      "/home/ubuntu/consumer-loan-survival-analysis/src/payments.py:17: SettingWithCopyWarning: \n",
      "A value is trying to be set on a copy of a slice from a DataFrame.\n",
      "Try using .loc[row_indexer,col_indexer] = value instead\n",
      "\n",
      "See the caveats in the documentation: http://pandas.pydata.org/pandas-docs/stable/indexing.html#indexing-view-versus-copy\n",
      "  df['RECEIVED_D'] = convert_payment_date(df['RECEIVED_D'])\n",
      "/home/ubuntu/consumer-loan-survival-analysis/src/payments.py:18: SettingWithCopyWarning: \n",
      "A value is trying to be set on a copy of a slice from a DataFrame.\n",
      "Try using .loc[row_indexer,col_indexer] = value instead\n",
      "\n",
      "See the caveats in the documentation: http://pandas.pydata.org/pandas-docs/stable/indexing.html#indexing-view-versus-copy\n",
      "  df['IssuedDate'] = convert_payment_date(df['IssuedDate'])\n",
      "/home/ubuntu/consumer-loan-survival-analysis/src/payments.py:19: SettingWithCopyWarning: \n",
      "A value is trying to be set on a copy of a slice from a DataFrame.\n",
      "Try using .loc[row_indexer,col_indexer] = value instead\n",
      "\n",
      "See the caveats in the documentation: http://pandas.pydata.org/pandas-docs/stable/indexing.html#indexing-view-versus-copy\n",
      "  df['mths_since_issue'] = 12*(df['RECEIVED_D'].dt.year - df['IssuedDate'].dt.year) + (df['RECEIVED_D'].dt.month - df['IssuedDate'].dt.month)\n"
     ]
    },
    {
     "data": {
      "text/html": [
       "<div>\n",
       "<style scoped>\n",
       "    .dataframe tbody tr th:only-of-type {\n",
       "        vertical-align: middle;\n",
       "    }\n",
       "\n",
       "    .dataframe tbody tr th {\n",
       "        vertical-align: top;\n",
       "    }\n",
       "\n",
       "    .dataframe thead th {\n",
       "        text-align: right;\n",
       "    }\n",
       "</style>\n",
       "<table border=\"1\" class=\"dataframe\">\n",
       "  <thead>\n",
       "    <tr style=\"text-align: right;\">\n",
       "      <th></th>\n",
       "      <th></th>\n",
       "      <th>PBAL_END_PERIOD_INVESTORS</th>\n",
       "      <th>RECEIVED_AMT_INVESTORS</th>\n",
       "      <th>mths_since_issue</th>\n",
       "    </tr>\n",
       "    <tr>\n",
       "      <th>RECEIVED_D</th>\n",
       "      <th>LOAN_ID</th>\n",
       "      <th></th>\n",
       "      <th></th>\n",
       "      <th></th>\n",
       "    </tr>\n",
       "  </thead>\n",
       "  <tbody>\n",
       "    <tr>\n",
       "      <th rowspan=\"5\" valign=\"top\">2007-07-01</th>\n",
       "      <th>72176</th>\n",
       "      <td>219.559830</td>\n",
       "      <td>7.189307</td>\n",
       "      <td>1</td>\n",
       "    </tr>\n",
       "    <tr>\n",
       "      <th>73582</th>\n",
       "      <td>219.637436</td>\n",
       "      <td>7.289357</td>\n",
       "      <td>1</td>\n",
       "    </tr>\n",
       "    <tr>\n",
       "      <th>74505</th>\n",
       "      <td>219.611313</td>\n",
       "      <td>7.256250</td>\n",
       "      <td>1</td>\n",
       "    </tr>\n",
       "    <tr>\n",
       "      <th>77792</th>\n",
       "      <td>121.962997</td>\n",
       "      <td>3.975833</td>\n",
       "      <td>1</td>\n",
       "    </tr>\n",
       "    <tr>\n",
       "      <th>81085</th>\n",
       "      <td>268.539795</td>\n",
       "      <td>9.032310</td>\n",
       "      <td>1</td>\n",
       "    </tr>\n",
       "  </tbody>\n",
       "</table>\n",
       "</div>"
      ],
      "text/plain": [
       "                    PBAL_END_PERIOD_INVESTORS  RECEIVED_AMT_INVESTORS  \\\n",
       "RECEIVED_D LOAN_ID                                                      \n",
       "2007-07-01 72176                   219.559830                7.189307   \n",
       "           73582                   219.637436                7.289357   \n",
       "           74505                   219.611313                7.256250   \n",
       "           77792                   121.962997                3.975833   \n",
       "           81085                   268.539795                9.032310   \n",
       "\n",
       "                    mths_since_issue  \n",
       "RECEIVED_D LOAN_ID                    \n",
       "2007-07-01 72176                   1  \n",
       "           73582                   1  \n",
       "           74505                   1  \n",
       "           77792                   1  \n",
       "           81085                   1  "
      ]
     },
     "execution_count": 4,
     "metadata": {},
     "output_type": "execute_result"
    }
   ],
   "source": [
    "cleaned_payments = get_cleaned_payment_history_data(payments)"
   ]
  },
  {
   "cell_type": "markdown",
   "metadata": {},
   "source": [
    "Now that we've got the cleaned payments data, let's save it as a pickle file for easy access in the future. "
   ]
  },
  {
   "cell_type": "code",
   "execution_count": 7,
   "metadata": {},
   "outputs": [],
   "source": [
    "cleaned_payments.to_pickle('data/cleaned_payments_data.pkl.bz2', compression='bz2')"
   ]
  },
  {
   "cell_type": "markdown",
   "metadata": {},
   "source": [
    "#### Training Data\n",
    "\n",
    "Before we calculate ROI for the training data, we need to define what the training data is. We can only calculate the ROI for loans that have completed. Since these are 36 month loans, our training data will be all loans issued before September 2015. Loans issued before that date are guaranteed to have been completed by September 2018, the current date."
   ]
  },
  {
   "cell_type": "code",
   "execution_count": 49,
   "metadata": {
    "scrolled": false
   },
   "outputs": [
    {
     "data": {
      "text/html": [
       "<div>\n",
       "<style scoped>\n",
       "    .dataframe tbody tr th:only-of-type {\n",
       "        vertical-align: middle;\n",
       "    }\n",
       "\n",
       "    .dataframe tbody tr th {\n",
       "        vertical-align: top;\n",
       "    }\n",
       "\n",
       "    .dataframe thead th {\n",
       "        text-align: right;\n",
       "    }\n",
       "</style>\n",
       "<table border=\"1\" class=\"dataframe\">\n",
       "  <thead>\n",
       "    <tr style=\"text-align: right;\">\n",
       "      <th></th>\n",
       "      <th>loan_amnt</th>\n",
       "      <th>int_rate</th>\n",
       "      <th>installment</th>\n",
       "      <th>emp_length</th>\n",
       "      <th>annual_inc</th>\n",
       "      <th>issue_d</th>\n",
       "      <th>dti</th>\n",
       "      <th>delinq_2yrs</th>\n",
       "      <th>fico_range_low</th>\n",
       "      <th>fico_range_high</th>\n",
       "      <th>...</th>\n",
       "      <th>purpose_home_improvement</th>\n",
       "      <th>purpose_house</th>\n",
       "      <th>purpose_major_purchase</th>\n",
       "      <th>purpose_medical</th>\n",
       "      <th>purpose_moving</th>\n",
       "      <th>purpose_other</th>\n",
       "      <th>purpose_renewable_energy</th>\n",
       "      <th>purpose_small_business</th>\n",
       "      <th>purpose_vacation</th>\n",
       "      <th>purpose_wedding</th>\n",
       "    </tr>\n",
       "    <tr>\n",
       "      <th>id</th>\n",
       "      <th></th>\n",
       "      <th></th>\n",
       "      <th></th>\n",
       "      <th></th>\n",
       "      <th></th>\n",
       "      <th></th>\n",
       "      <th></th>\n",
       "      <th></th>\n",
       "      <th></th>\n",
       "      <th></th>\n",
       "      <th></th>\n",
       "      <th></th>\n",
       "      <th></th>\n",
       "      <th></th>\n",
       "      <th></th>\n",
       "      <th></th>\n",
       "      <th></th>\n",
       "      <th></th>\n",
       "      <th></th>\n",
       "      <th></th>\n",
       "      <th></th>\n",
       "    </tr>\n",
       "  </thead>\n",
       "  <tbody>\n",
       "    <tr>\n",
       "      <th>1077501</th>\n",
       "      <td>5000.0</td>\n",
       "      <td>10.650000</td>\n",
       "      <td>162.869995</td>\n",
       "      <td>10.0</td>\n",
       "      <td>24000.0</td>\n",
       "      <td>2011-12-01</td>\n",
       "      <td>27.65</td>\n",
       "      <td>0</td>\n",
       "      <td>735.0</td>\n",
       "      <td>739.0</td>\n",
       "      <td>...</td>\n",
       "      <td>0</td>\n",
       "      <td>0</td>\n",
       "      <td>0</td>\n",
       "      <td>0</td>\n",
       "      <td>0</td>\n",
       "      <td>0</td>\n",
       "      <td>0</td>\n",
       "      <td>0</td>\n",
       "      <td>0</td>\n",
       "      <td>0</td>\n",
       "    </tr>\n",
       "    <tr>\n",
       "      <th>1077175</th>\n",
       "      <td>2400.0</td>\n",
       "      <td>15.960000</td>\n",
       "      <td>84.330002</td>\n",
       "      <td>10.0</td>\n",
       "      <td>12252.0</td>\n",
       "      <td>2011-12-01</td>\n",
       "      <td>8.72</td>\n",
       "      <td>0</td>\n",
       "      <td>735.0</td>\n",
       "      <td>739.0</td>\n",
       "      <td>...</td>\n",
       "      <td>0</td>\n",
       "      <td>0</td>\n",
       "      <td>0</td>\n",
       "      <td>0</td>\n",
       "      <td>0</td>\n",
       "      <td>0</td>\n",
       "      <td>0</td>\n",
       "      <td>1</td>\n",
       "      <td>0</td>\n",
       "      <td>0</td>\n",
       "    </tr>\n",
       "    <tr>\n",
       "      <th>1076863</th>\n",
       "      <td>10000.0</td>\n",
       "      <td>13.490000</td>\n",
       "      <td>339.309998</td>\n",
       "      <td>10.0</td>\n",
       "      <td>49200.0</td>\n",
       "      <td>2011-12-01</td>\n",
       "      <td>20.00</td>\n",
       "      <td>0</td>\n",
       "      <td>690.0</td>\n",
       "      <td>694.0</td>\n",
       "      <td>...</td>\n",
       "      <td>0</td>\n",
       "      <td>0</td>\n",
       "      <td>0</td>\n",
       "      <td>0</td>\n",
       "      <td>0</td>\n",
       "      <td>1</td>\n",
       "      <td>0</td>\n",
       "      <td>0</td>\n",
       "      <td>0</td>\n",
       "      <td>0</td>\n",
       "    </tr>\n",
       "    <tr>\n",
       "      <th>1075269</th>\n",
       "      <td>5000.0</td>\n",
       "      <td>7.900000</td>\n",
       "      <td>156.460007</td>\n",
       "      <td>3.0</td>\n",
       "      <td>36000.0</td>\n",
       "      <td>2011-12-01</td>\n",
       "      <td>11.20</td>\n",
       "      <td>0</td>\n",
       "      <td>730.0</td>\n",
       "      <td>734.0</td>\n",
       "      <td>...</td>\n",
       "      <td>0</td>\n",
       "      <td>0</td>\n",
       "      <td>0</td>\n",
       "      <td>0</td>\n",
       "      <td>0</td>\n",
       "      <td>0</td>\n",
       "      <td>0</td>\n",
       "      <td>0</td>\n",
       "      <td>0</td>\n",
       "      <td>1</td>\n",
       "    </tr>\n",
       "    <tr>\n",
       "      <th>1072053</th>\n",
       "      <td>3000.0</td>\n",
       "      <td>18.639999</td>\n",
       "      <td>109.430000</td>\n",
       "      <td>9.0</td>\n",
       "      <td>48000.0</td>\n",
       "      <td>2011-12-01</td>\n",
       "      <td>5.35</td>\n",
       "      <td>0</td>\n",
       "      <td>660.0</td>\n",
       "      <td>664.0</td>\n",
       "      <td>...</td>\n",
       "      <td>0</td>\n",
       "      <td>0</td>\n",
       "      <td>0</td>\n",
       "      <td>0</td>\n",
       "      <td>0</td>\n",
       "      <td>0</td>\n",
       "      <td>0</td>\n",
       "      <td>0</td>\n",
       "      <td>0</td>\n",
       "      <td>0</td>\n",
       "    </tr>\n",
       "  </tbody>\n",
       "</table>\n",
       "<p>5 rows × 212 columns</p>\n",
       "</div>"
      ],
      "text/plain": [
       "         loan_amnt   int_rate  installment  emp_length  annual_inc    issue_d  \\\n",
       "id                                                                              \n",
       "1077501     5000.0  10.650000   162.869995        10.0     24000.0 2011-12-01   \n",
       "1077175     2400.0  15.960000    84.330002        10.0     12252.0 2011-12-01   \n",
       "1076863    10000.0  13.490000   339.309998        10.0     49200.0 2011-12-01   \n",
       "1075269     5000.0   7.900000   156.460007         3.0     36000.0 2011-12-01   \n",
       "1072053     3000.0  18.639999   109.430000         9.0     48000.0 2011-12-01   \n",
       "\n",
       "           dti  delinq_2yrs  fico_range_low  fico_range_high       ...         \\\n",
       "id                                                                 ...          \n",
       "1077501  27.65            0           735.0            739.0       ...          \n",
       "1077175   8.72            0           735.0            739.0       ...          \n",
       "1076863  20.00            0           690.0            694.0       ...          \n",
       "1075269  11.20            0           730.0            734.0       ...          \n",
       "1072053   5.35            0           660.0            664.0       ...          \n",
       "\n",
       "         purpose_home_improvement  purpose_house  purpose_major_purchase  \\\n",
       "id                                                                         \n",
       "1077501                         0              0                       0   \n",
       "1077175                         0              0                       0   \n",
       "1076863                         0              0                       0   \n",
       "1075269                         0              0                       0   \n",
       "1072053                         0              0                       0   \n",
       "\n",
       "         purpose_medical  purpose_moving  purpose_other  \\\n",
       "id                                                        \n",
       "1077501                0               0              0   \n",
       "1077175                0               0              0   \n",
       "1076863                0               0              1   \n",
       "1075269                0               0              0   \n",
       "1072053                0               0              0   \n",
       "\n",
       "         purpose_renewable_energy  purpose_small_business  purpose_vacation  \\\n",
       "id                                                                            \n",
       "1077501                         0                       0                 0   \n",
       "1077175                         0                       1                 0   \n",
       "1076863                         0                       0                 0   \n",
       "1075269                         0                       0                 0   \n",
       "1072053                         0                       0                 0   \n",
       "\n",
       "         purpose_wedding  \n",
       "id                        \n",
       "1077501                0  \n",
       "1077175                0  \n",
       "1076863                0  \n",
       "1075269                1  \n",
       "1072053                0  \n",
       "\n",
       "[5 rows x 212 columns]"
      ]
     },
     "execution_count": 49,
     "metadata": {},
     "output_type": "execute_result"
    }
   ],
   "source": [
    "training_loans, _ = get_training_and_testing_data(cleaned_loans)\n",
    "training_loans.head()"
   ]
  },
  {
   "cell_type": "code",
   "execution_count": 54,
   "metadata": {},
   "outputs": [
    {
     "data": {
      "text/plain": [
       "Index([1077501, 1077175, 1076863, 1075269, 1072053, 1069908, 1064687, 1069866,\n",
       "       1069057, 1069759],\n",
       "      dtype='object', name='id')"
      ]
     },
     "execution_count": 54,
     "metadata": {},
     "output_type": "execute_result"
    }
   ],
   "source": [
    "train_ids = training_loans.index[:10]\n",
    "train_ids"
   ]
  },
  {
   "cell_type": "code",
   "execution_count": null,
   "metadata": {},
   "outputs": [],
   "source": []
  },
  {
   "cell_type": "code",
   "execution_count": 58,
   "metadata": {},
   "outputs": [],
   "source": [
    "def get_relevant_payments(all_payments, loan_ids_from_training_set):\n",
    "    cols = ['RECEIVED_AMT_INVESTORS', 'mths_since_issue']\n",
    "    return all_payments.loc[pd.IndexSlice[:, loan_ids_from_training_set], :][cols]"
   ]
  },
  {
   "cell_type": "code",
   "execution_count": 63,
   "metadata": {},
   "outputs": [],
   "source": [
    "training_payments = get_relevant_payments(cleaned_payments, train_ids)"
   ]
  },
  {
   "cell_type": "code",
   "execution_count": null,
   "metadata": {},
   "outputs": [],
   "source": []
  }
 ],
 "metadata": {
  "kernelspec": {
   "display_name": "Python 3",
   "language": "python",
   "name": "python3"
  },
  "language_info": {
   "codemirror_mode": {
    "name": "ipython",
    "version": 3
   },
   "file_extension": ".py",
   "mimetype": "text/x-python",
   "name": "python",
   "nbconvert_exporter": "python",
   "pygments_lexer": "ipython3",
   "version": "3.6.5"
  }
 },
 "nbformat": 4,
 "nbformat_minor": 2
}

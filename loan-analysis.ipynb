{
 "cells": [
  {
   "cell_type": "markdown",
   "metadata": {},
   "source": [
    "# Predicting Return on Investment (ROI) of Consumer Loans\n",
    "\n",
    "**Andrew Nicholls** | Email: andrew.s.nicholls@gmail.com | [Github](https://github.com/Booleans)\n",
    "\n",
    "If you are viewing this notebook on Github I recommend using the following nbviewer link instead to ensure proper formatting and working interactive charts.\n",
    "\n",
    "[nbviewer link](https://nbviewer.jupyter.org/github/Booleans/Lending-Club-Loan-Analysis/blob/master/Loan_Analysis_Regression.ipynb)"
   ]
  },
  {
   "cell_type": "markdown",
   "metadata": {},
   "source": [
    "## Summary\n",
    "\n",
    "**Contents:**\n",
    "\n",
    "1. [Problem Definition and Background Information](#1)\n",
    "2. [Data Preparation: Wrangling, Cleaning, and Feature Extraction](#2)\n",
    "3. [Exploratory Data Analysis](#3)\n",
    "4. [Machine Learning Models](#4)\n",
    "5. [Results and Findings](#4)\n",
    "<a id='1'></a>"
   ]
  },
  {
   "cell_type": "markdown",
   "metadata": {},
   "source": [
    "# 1. Introduction\n",
    "\n",
    "### Problem Definition\n",
    "\n",
    "LendingClub Corporation operates as an online marketplace that connects borrowers and investors in the United States. Its marketplace facilitates various types of loan products for consumers and small businesses, including unsecured personal loans, super prime consumer loans, unsecured education and patient finance loans, and unsecured small business loans. The company also offers investors an opportunity to invest in a range of loans based on term and credit characteristics. However, many loans issued through Lending Club end up being defaulted on by the borrower. The goal of this notebook is to examine the historical loan data available in order to generate a model to predict the return on investment that a new loan will generate.\n",
    "\n",
    "### Files Provided\n",
    "\n",
    "Lending Club provides CSV files of historical data for its loans. These files contain complete loan data for all loans issued through the time period stated, including the loan status (Current, Late, Fully Paid, etc.) and latest payment information. The files can be acquired on the [Lending Club Statistics Page](https://www.lendingclub.com/info/download-data.action). As of the creation of this project the latest data available from Lending Club was for Q1 2018.\n",
    "\n",
    "For information on the definitions of fields contained within the historical data please see the [Lending Club Data Dictionary](https://github.com/Booleans/consumer-loan-survival-analysis/blob/master/data/LCDataDictionary.xlsx?raw=true).\n",
    "\n",
    "The LoanStats3a file also contains information on loan applications that were declined and never issued. I have discarded those rows of data as they are not relevant to predicting loan defaults. I have also removed the last 2 rows of every spreadsheet, as they contained aggregate information on the number of loans in the file."
   ]
  },
  {
   "cell_type": "code",
   "execution_count": 11,
   "metadata": {},
   "outputs": [],
   "source": [
    "import datetime\n",
    "import matplotlib.pyplot as plt\n",
    "%matplotlib inline\n",
    "import numpy as np\n",
    "import pandas as pd\n",
    "import plotly\n",
    "import seaborn as sns"
   ]
  },
  {
   "cell_type": "markdown",
   "metadata": {},
   "source": [
    "<a id='2'></a>"
   ]
  },
  {
   "cell_type": "markdown",
   "metadata": {},
   "source": [
    "\n",
    "# 2. Data Preparation: Wrangling, Cleaning, and Feature Extraction\n",
    "\n",
    "Certain columns may be immediately ignored and not loaded into the dataframe. Some columns provide information that was not available upon loan origination (e.g. interest received from loan payments, late fees collected). Other columns are dropped for containing information that is not relevant to whether a loan will default or not (e.g. borrower id number, url that the loan is listed at). Joint loan applications are relatively new at Lending Club therefore all columns related to joint applications and secondary applicants will be ignored.\n",
    "\n",
    "For a complete list of columns ignored please see the [columns.py](Column_Info.py) file.\n",
    "\n",
    "### Create DataFrame of Relevant Loans:\n",
    "\n",
    "We only want loans that have either been fully paid or charged off. We cannot calculate the final return on investment of loans that are still current. "
   ]
  },
  {
   "cell_type": "code",
   "execution_count": 12,
   "metadata": {},
   "outputs": [
    {
     "name": "stdout",
     "output_type": "stream",
     "text": [
      "3415 loans with 86 features.\n"
     ]
    }
   ],
   "source": [
    "%run src/columns.py\n",
    "\n",
    "loan_data = []\n",
    "csv_file_names = ('LoanStats3a_securev1', 'LoanStats3b_securev1', 'LoanStats3c_securev1', 'LoanStats3d_securev1',\n",
    "                  'LoanStats_securev1_2016Q1', 'LoanStats_securev1_2016Q2', 'LoanStats_securev1_2016Q3',\n",
    "                  'LoanStats_securev1_2016Q4', 'LoanStats_securev1_2017Q1', 'LoanStats_securev1_2017Q2', \n",
    "                  'LoanStats_securev1_2017Q3', 'LoanStats_securev1_2017Q4', 'LoanStats_securev1_2018Q1')\n",
    "\n",
    "for file in csv_file_names:    \n",
    "    data = pd.read_csv('data/' + file + '.csv', header = 1, low_memory=False, na_values='n/a', usecols=columns_to_use, nrows=1000) \n",
    "    loan_data.append(data)\n",
    "    \n",
    "loans = pd.concat(loan_data)\n",
    "\n",
    "# We only want loans that have completed. Loan status should be either Fully Paid or Charged Off.\n",
    "loans = loans[(loans['loan_status'] == 'Charged Off') | (loans['loan_status'] == 'Fully Paid')]\n",
    "loans.drop('loan_status', axis=1, inplace=True)\n",
    "\n",
    "# As stated previously, we are ignoring loans with a joint applicant.\n",
    "loans = loans[loans['application_type'] == \"INDIVIDUAL\"]\n",
    "loans.drop(labels=['application_type'], axis=1, inplace=True)\n",
    "\n",
    "print(str(loans.shape[0]) + ' loans with ' + str(loans.shape[1]) + ' features.')"
   ]
  },
  {
   "cell_type": "code",
   "execution_count": 13,
   "metadata": {},
   "outputs": [
    {
     "data": {
      "text/html": [
       "<div>\n",
       "<style scoped>\n",
       "    .dataframe tbody tr th:only-of-type {\n",
       "        vertical-align: middle;\n",
       "    }\n",
       "\n",
       "    .dataframe tbody tr th {\n",
       "        vertical-align: top;\n",
       "    }\n",
       "\n",
       "    .dataframe thead th {\n",
       "        text-align: right;\n",
       "    }\n",
       "</style>\n",
       "<table border=\"1\" class=\"dataframe\">\n",
       "  <thead>\n",
       "    <tr style=\"text-align: right;\">\n",
       "      <th></th>\n",
       "      <th>loan_amnt</th>\n",
       "      <th>term</th>\n",
       "      <th>int_rate</th>\n",
       "      <th>installment</th>\n",
       "      <th>grade</th>\n",
       "      <th>emp_length</th>\n",
       "      <th>home_ownership</th>\n",
       "      <th>annual_inc</th>\n",
       "      <th>verification_status</th>\n",
       "      <th>issue_d</th>\n",
       "      <th>...</th>\n",
       "      <th>num_tl_90g_dpd_24m</th>\n",
       "      <th>num_tl_op_past_12m</th>\n",
       "      <th>pct_tl_nvr_dlq</th>\n",
       "      <th>percent_bc_gt_75</th>\n",
       "      <th>pub_rec_bankruptcies</th>\n",
       "      <th>tax_liens</th>\n",
       "      <th>tot_hi_cred_lim</th>\n",
       "      <th>total_bal_ex_mort</th>\n",
       "      <th>total_bc_limit</th>\n",
       "      <th>total_il_high_credit_limit</th>\n",
       "    </tr>\n",
       "  </thead>\n",
       "  <tbody>\n",
       "    <tr>\n",
       "      <th>0</th>\n",
       "      <td>5000</td>\n",
       "      <td>36 months</td>\n",
       "      <td>10.65%</td>\n",
       "      <td>162.87</td>\n",
       "      <td>B</td>\n",
       "      <td>10+ years</td>\n",
       "      <td>RENT</td>\n",
       "      <td>24000.0</td>\n",
       "      <td>Verified</td>\n",
       "      <td>Dec-11</td>\n",
       "      <td>...</td>\n",
       "      <td>NaN</td>\n",
       "      <td>NaN</td>\n",
       "      <td>NaN</td>\n",
       "      <td>NaN</td>\n",
       "      <td>0</td>\n",
       "      <td>0</td>\n",
       "      <td>NaN</td>\n",
       "      <td>NaN</td>\n",
       "      <td>NaN</td>\n",
       "      <td>NaN</td>\n",
       "    </tr>\n",
       "    <tr>\n",
       "      <th>1</th>\n",
       "      <td>2500</td>\n",
       "      <td>60 months</td>\n",
       "      <td>15.27%</td>\n",
       "      <td>59.83</td>\n",
       "      <td>C</td>\n",
       "      <td>&lt; 1 year</td>\n",
       "      <td>RENT</td>\n",
       "      <td>30000.0</td>\n",
       "      <td>Source Verified</td>\n",
       "      <td>Dec-11</td>\n",
       "      <td>...</td>\n",
       "      <td>NaN</td>\n",
       "      <td>NaN</td>\n",
       "      <td>NaN</td>\n",
       "      <td>NaN</td>\n",
       "      <td>0</td>\n",
       "      <td>0</td>\n",
       "      <td>NaN</td>\n",
       "      <td>NaN</td>\n",
       "      <td>NaN</td>\n",
       "      <td>NaN</td>\n",
       "    </tr>\n",
       "    <tr>\n",
       "      <th>2</th>\n",
       "      <td>2400</td>\n",
       "      <td>36 months</td>\n",
       "      <td>15.96%</td>\n",
       "      <td>84.33</td>\n",
       "      <td>C</td>\n",
       "      <td>10+ years</td>\n",
       "      <td>RENT</td>\n",
       "      <td>12252.0</td>\n",
       "      <td>Not Verified</td>\n",
       "      <td>Dec-11</td>\n",
       "      <td>...</td>\n",
       "      <td>NaN</td>\n",
       "      <td>NaN</td>\n",
       "      <td>NaN</td>\n",
       "      <td>NaN</td>\n",
       "      <td>0</td>\n",
       "      <td>0</td>\n",
       "      <td>NaN</td>\n",
       "      <td>NaN</td>\n",
       "      <td>NaN</td>\n",
       "      <td>NaN</td>\n",
       "    </tr>\n",
       "    <tr>\n",
       "      <th>3</th>\n",
       "      <td>10000</td>\n",
       "      <td>36 months</td>\n",
       "      <td>13.49%</td>\n",
       "      <td>339.31</td>\n",
       "      <td>C</td>\n",
       "      <td>10+ years</td>\n",
       "      <td>RENT</td>\n",
       "      <td>49200.0</td>\n",
       "      <td>Source Verified</td>\n",
       "      <td>Dec-11</td>\n",
       "      <td>...</td>\n",
       "      <td>NaN</td>\n",
       "      <td>NaN</td>\n",
       "      <td>NaN</td>\n",
       "      <td>NaN</td>\n",
       "      <td>0</td>\n",
       "      <td>0</td>\n",
       "      <td>NaN</td>\n",
       "      <td>NaN</td>\n",
       "      <td>NaN</td>\n",
       "      <td>NaN</td>\n",
       "    </tr>\n",
       "    <tr>\n",
       "      <th>4</th>\n",
       "      <td>3000</td>\n",
       "      <td>60 months</td>\n",
       "      <td>12.69%</td>\n",
       "      <td>67.79</td>\n",
       "      <td>B</td>\n",
       "      <td>1 year</td>\n",
       "      <td>RENT</td>\n",
       "      <td>80000.0</td>\n",
       "      <td>Source Verified</td>\n",
       "      <td>Dec-11</td>\n",
       "      <td>...</td>\n",
       "      <td>NaN</td>\n",
       "      <td>NaN</td>\n",
       "      <td>NaN</td>\n",
       "      <td>NaN</td>\n",
       "      <td>0</td>\n",
       "      <td>0</td>\n",
       "      <td>NaN</td>\n",
       "      <td>NaN</td>\n",
       "      <td>NaN</td>\n",
       "      <td>NaN</td>\n",
       "    </tr>\n",
       "  </tbody>\n",
       "</table>\n",
       "<p>5 rows × 86 columns</p>\n",
       "</div>"
      ],
      "text/plain": [
       "   loan_amnt        term int_rate  installment grade emp_length  \\\n",
       "0       5000   36 months   10.65%       162.87     B  10+ years   \n",
       "1       2500   60 months   15.27%        59.83     C   < 1 year   \n",
       "2       2400   36 months   15.96%        84.33     C  10+ years   \n",
       "3      10000   36 months   13.49%       339.31     C  10+ years   \n",
       "4       3000   60 months   12.69%        67.79     B     1 year   \n",
       "\n",
       "  home_ownership  annual_inc verification_status issue_d  \\\n",
       "0           RENT     24000.0            Verified  Dec-11   \n",
       "1           RENT     30000.0     Source Verified  Dec-11   \n",
       "2           RENT     12252.0        Not Verified  Dec-11   \n",
       "3           RENT     49200.0     Source Verified  Dec-11   \n",
       "4           RENT     80000.0     Source Verified  Dec-11   \n",
       "\n",
       "              ...             num_tl_90g_dpd_24m num_tl_op_past_12m  \\\n",
       "0             ...                            NaN                NaN   \n",
       "1             ...                            NaN                NaN   \n",
       "2             ...                            NaN                NaN   \n",
       "3             ...                            NaN                NaN   \n",
       "4             ...                            NaN                NaN   \n",
       "\n",
       "  pct_tl_nvr_dlq  percent_bc_gt_75  pub_rec_bankruptcies tax_liens  \\\n",
       "0            NaN               NaN                     0         0   \n",
       "1            NaN               NaN                     0         0   \n",
       "2            NaN               NaN                     0         0   \n",
       "3            NaN               NaN                     0         0   \n",
       "4            NaN               NaN                     0         0   \n",
       "\n",
       "   tot_hi_cred_lim  total_bal_ex_mort  total_bc_limit  \\\n",
       "0              NaN                NaN             NaN   \n",
       "1              NaN                NaN             NaN   \n",
       "2              NaN                NaN             NaN   \n",
       "3              NaN                NaN             NaN   \n",
       "4              NaN                NaN             NaN   \n",
       "\n",
       "   total_il_high_credit_limit  \n",
       "0                         NaN  \n",
       "1                         NaN  \n",
       "2                         NaN  \n",
       "3                         NaN  \n",
       "4                         NaN  \n",
       "\n",
       "[5 rows x 86 columns]"
      ]
     },
     "execution_count": 13,
     "metadata": {},
     "output_type": "execute_result"
    }
   ],
   "source": [
    "loans.head()"
   ]
  },
  {
   "cell_type": "markdown",
   "metadata": {},
   "source": [
    "### Cleaning the Data\n",
    "\n",
    "The dataframe has been created from the loan data but not all columns are being read in as the correct type. For example, interest rate columns contain a '%' so those fields were read in as a string instead of a float. We need to write functions to clean clean up issues such as the above."
   ]
  },
  {
   "cell_type": "code",
   "execution_count": 14,
   "metadata": {},
   "outputs": [],
   "source": [
    "# Columns that end with % were read in as strings instead of floats. We need to remove the % and change data types.\n",
    "rate_cols = ['int_rate', 'revol_util']\n",
    "\n",
    "for col in rate_cols:\n",
    "    loans[col] = loans[col].str.rstrip('%').astype('float64')\n",
    "\n",
    "# issue_d column can be in two formats. This function will handle the conversion of both formats.\n",
    "def convert_date(col_date):\n",
    "    if col_date[0].isdigit():\n",
    "        # Need to pad the date string with a 0 if it's too short. \n",
    "        col_date = col_date.rjust(6, '0')\n",
    "        return pd.to_datetime(col_date, format = '%y-%b')\n",
    "    else:\n",
    "        try:\n",
    "            return pd.to_datetime(col_date, format = '%b-%y')\n",
    "        except:\n",
    "            return pd.to_datetime(col_date, format = '%b-%Y')\n",
    "    \n",
    "loans['issue_d'] = loans['issue_d'].map(convert_date)\n",
    "\n",
    "# Term should be either '36' or '60'.\n",
    "loans['term'] = [30 if row.strip() == '36 months' else 60 for row in loans['term']]\n",
    "\n",
    "loans['emp_length'] = [0 if row == '< 1 year' else row for row in loans['emp_length']]\n",
    "loans['emp_length'] = loans['emp_length'].str.extract('(\\d+)', expand=True).astype(float)"
   ]
  },
  {
   "cell_type": "markdown",
   "metadata": {},
   "source": [
    "### Visualizing Missing Data\n",
    "\n",
    "It is likely that significant amount of data will be missing from our dataframe. This is due to the fact that Lending Club no longer provides certain details for newer loans. For example, borrowers used to be able to write text to give their loans a title and description. Borrowers are no longer allowed to do so. The zip code field used to be provided but now it has been obscured by Lending Club so that investors do not discriminate against borrowers in poor or minority neighborhoods. Certain fields, such as information that only applies to loans being made by two applicants together, are rarely used. A heatmap will give a visual representation of missing data, where missing data is green.  "
   ]
  },
  {
   "cell_type": "code",
   "execution_count": 15,
   "metadata": {},
   "outputs": [
    {
     "data": {
      "image/png": "[encoded data removed]",
      "text/plain": [
       "<Figure size 1080x576 with 1 Axes>"
      ]
     },
     "metadata": {},
     "output_type": "display_data"
    }
   ],
   "source": [
    "plt.figure(figsize=(15, 8))\n",
    "plt.title(\"Locations of Missing Data in Dataframe\")\n",
    "sns.heatmap(loans.isnull(), yticklabels=False, xticklabels=False, cbar=False, cmap='winter');"
   ]
  },
  {
   "cell_type": "markdown",
   "metadata": {},
   "source": [
    "Let's take a look at which columns specifically are missing data and what percent or rows are missing for each column."
   ]
  },
  {
   "cell_type": "code",
   "execution_count": 16,
   "metadata": {},
   "outputs": [],
   "source": [
    "def getPctMissing(series):\n",
    "    num = series.isnull().sum()\n",
    "    total = series.count()\n",
    "    return 100*(num/total)\n",
    "\n",
    "df = pd.DataFrame(round(loans.isnull().sum()/len(loans) * 100,2))\n",
    "df = df.rename(columns={0: 'PctMissing'})\n",
    "df.sort_values(by='PctMissing', ascending=False, inplace=True)\n",
    "\n",
    "df[df['PctMissing'] > 0]\n",
    "\n",
    "missing_cols = []\n",
    "for col in df[df['PctMissing'] > 0].index:\n",
    "    missing_cols.append(col)"
   ]
  },
  {
   "cell_type": "code",
   "execution_count": 17,
   "metadata": {},
   "outputs": [],
   "source": [
    "def get_cols_missing_data(df):\n",
    "    cols = []\n",
    "    df_temp = pd.DataFrame(round(df.isnull().sum()/len(df) * 100,2))\n",
    "    df_temp = df_temp.rename(columns={0: 'pct_missing'})\n",
    "\n",
    "    for col in df_temp[df_temp['pct_missing'] > 0].index:\n",
    "        cols.append(col)\n",
    "\n",
    "    return cols\n",
    "\n",
    "def create_missing_data_boolean_columns(df):\n",
    "    cols_missing_data = get_cols_missing_data(df)\n",
    "    for col in cols_missing_data:\n",
    "        df[col+\"_missing\"] = df[col].isnull().astype('uint8')\n",
    "\n",
    "    return df"
   ]
  },
  {
   "cell_type": "code",
   "execution_count": 18,
   "metadata": {},
   "outputs": [],
   "source": [
    "def fill_nas(df, value=-99):\n",
    "    for col in df.columns:\n",
    "        df[col].fillna(value, inplace=True)\n",
    "        \n",
    "    return df"
   ]
  },
  {
   "cell_type": "code",
   "execution_count": 20,
   "metadata": {},
   "outputs": [
    {
     "data": {
      "image/png": "[encoded data removed]",
      "text/plain": [
       "<Figure size 1080x576 with 1 Axes>"
      ]
     },
     "metadata": {},
     "output_type": "display_data"
    }
   ],
   "source": [
    "loans = fill_nas(loans)\n",
    "plt.figure(figsize=(15, 8))\n",
    "plt.title(\"Locations of Missing Data in Dataframe\")\n",
    "sns.heatmap(loans.isnull(), yticklabels=False, xticklabels=False, cbar=False, cmap='winter');"
   ]
  },
  {
   "cell_type": "markdown",
   "metadata": {},
   "source": [
    "Filling in Missing Data"
   ]
  },
  {
   "cell_type": "markdown",
   "metadata": {},
   "source": [
    "Feature Engineering"
   ]
  },
  {
   "cell_type": "code",
   "execution_count": null,
   "metadata": {},
   "outputs": [],
   "source": [
    "loans['has_recent_delinq'] = loans['mths_since_last_delinq'].notnull().astype(int)\n",
    "loans['has_recent_revol_delinq'] = loans['mths_since_recent_revol_delinq'].notnull().astype(int)\n",
    "loans['year'] = loans.issue_d.dt.year\n",
    "loans['month'] = loans.issue_d.dt.month"
   ]
  },
  {
   "cell_type": "code",
   "execution_count": null,
   "metadata": {},
   "outputs": [],
   "source": []
  }
 ],
 "metadata": {
  "kernelspec": {
   "display_name": "Python [default]",
   "language": "python",
   "name": "python3"
  },
  "language_info": {
   "codemirror_mode": {
    "name": "ipython",
    "version": 3
   },
   "file_extension": ".py",
   "mimetype": "text/x-python",
   "name": "python",
   "nbconvert_exporter": "python",
   "pygments_lexer": "ipython3",
   "version": "3.6.6"
  }
 },
 "nbformat": 4,
 "nbformat_minor": 2
}

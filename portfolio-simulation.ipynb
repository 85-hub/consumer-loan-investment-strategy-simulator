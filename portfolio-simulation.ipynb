{
 "cells": [
  {
   "cell_type": "code",
   "execution_count": 219,
   "metadata": {},
   "outputs": [],
   "source": [
    "import pandas as pd\n",
    "from io import BytesIO\n",
    "import boto3\n",
    "import multiprocessing as mp\n",
    "\n",
    "def load_data_from_s3(filename, format='csv'):\n",
    "    s3 = boto3.client('s3')\n",
    "    obj = s3.get_object(Bucket='loan-analysis-data', Key=filename)\n",
    "    data = obj['Body'].read()\n",
    "    f = BytesIO(data)\n",
    "    if format=='csv':\n",
    "        df = pd.read_csv(f, low_memory=False)\n",
    "    if format=='pkl.bz2':\n",
    "        df = pd.read_pickle(f, compression='bz2')\n",
    "    return df"
   ]
  },
  {
   "cell_type": "code",
   "execution_count": 220,
   "metadata": {},
   "outputs": [],
   "source": [
    "#df_payments = load_data_from_s3('cleaned_payments_data.pkl.bz2', format='pkl.bz2')\n",
    "df_predictions_in_sample = load_data_from_s3('predictions_in_sample.pkl.bz2', format='pkl.bz2')\n",
    "payments = load_data_from_s3('cleaned_payments_data.pkl.bz2', format='pkl.bz2')\n",
    "#df_predictions_out_of_sample = load_data_from_s3('predictions_out_of_sample.pkl.bz2', format='pkl.bz2')"
   ]
  },
  {
   "cell_type": "code",
   "execution_count": 221,
   "metadata": {
    "scrolled": true
   },
   "outputs": [
    {
     "name": "stdout",
     "output_type": "stream",
     "text": [
      "<class 'pandas.core.frame.DataFrame'>\n",
      "Int64Index: 391542 entries, 0 to 420479\n",
      "Data columns (total 4 columns):\n",
      "id               391542 non-null object\n",
      "issue_d          391542 non-null datetime64[ns]\n",
      "loan_amnt        391542 non-null float32\n",
      "predicted_roi    391542 non-null float32\n",
      "dtypes: datetime64[ns](1), float32(2), object(1)\n",
      "memory usage: 11.9+ MB\n"
     ]
    }
   ],
   "source": [
    "df_predictions_in_sample.info()"
   ]
  },
  {
   "cell_type": "code",
   "execution_count": 222,
   "metadata": {},
   "outputs": [
    {
     "name": "stdout",
     "output_type": "stream",
     "text": [
      "<class 'pandas.core.frame.DataFrame'>\n",
      "Int64Index: 36168827 entries, 0 to 37323066\n",
      "Data columns (total 5 columns):\n",
      "LOAN_ID                      int64\n",
      "RECEIVED_D                   datetime64[ns]\n",
      "RECEIVED_AMT_INVESTORS       float32\n",
      "PBAL_END_PERIOD_INVESTORS    float32\n",
      "mths_since_issue             uint8\n",
      "dtypes: datetime64[ns](1), float32(2), int64(1), uint8(1)\n",
      "memory usage: 1.1 GB\n"
     ]
    }
   ],
   "source": [
    "payments.info()"
   ]
  },
  {
   "cell_type": "code",
   "execution_count": 223,
   "metadata": {
    "scrolled": false
   },
   "outputs": [
    {
     "data": {
      "text/plain": [
       "391542"
      ]
     },
     "execution_count": 223,
     "metadata": {},
     "output_type": "execute_result"
    }
   ],
   "source": [
    "loan_ids = df_predictions_in_sample.id.unique()\n",
    "len(loan_ids)"
   ]
  },
  {
   "cell_type": "code",
   "execution_count": 224,
   "metadata": {},
   "outputs": [],
   "source": [
    "def get_relevant_payments(all_payments, loan_ids_from_training_set):\n",
    "    return payments[payments['LOAN_ID'].isin(loan_ids)][['LOAN_ID', 'RECEIVED_AMT_INVESTORS', 'mths_since_issue']]"
   ]
  },
  {
   "cell_type": "code",
   "execution_count": 225,
   "metadata": {
    "scrolled": true
   },
   "outputs": [
    {
     "name": "stdout",
     "output_type": "stream",
     "text": [
      "<class 'pandas.core.frame.DataFrame'>\n",
      "Int64Index: 8282827 entries, 0 to 20318479\n",
      "Data columns (total 3 columns):\n",
      "LOAN_ID                   int64\n",
      "RECEIVED_AMT_INVESTORS    float32\n",
      "mths_since_issue          uint8\n",
      "dtypes: float32(1), int64(1), uint8(1)\n",
      "memory usage: 165.9 MB\n"
     ]
    }
   ],
   "source": [
    "payments = get_relevant_payments(payments, loan_ids)\n",
    "payments.info()"
   ]
  },
  {
   "cell_type": "code",
   "execution_count": 226,
   "metadata": {},
   "outputs": [
    {
     "data": {
      "text/html": [
       "<div>\n",
       "<style scoped>\n",
       "    .dataframe tbody tr th:only-of-type {\n",
       "        vertical-align: middle;\n",
       "    }\n",
       "\n",
       "    .dataframe tbody tr th {\n",
       "        vertical-align: top;\n",
       "    }\n",
       "\n",
       "    .dataframe thead th {\n",
       "        text-align: right;\n",
       "    }\n",
       "</style>\n",
       "<table border=\"1\" class=\"dataframe\">\n",
       "  <thead>\n",
       "    <tr style=\"text-align: right;\">\n",
       "      <th></th>\n",
       "      <th>LOAN_ID</th>\n",
       "      <th>RECEIVED_AMT_INVESTORS</th>\n",
       "      <th>mths_since_issue</th>\n",
       "    </tr>\n",
       "  </thead>\n",
       "  <tbody>\n",
       "    <tr>\n",
       "      <th>0</th>\n",
       "      <td>54734</td>\n",
       "      <td>632.770996</td>\n",
       "      <td>1</td>\n",
       "    </tr>\n",
       "    <tr>\n",
       "      <th>1</th>\n",
       "      <td>54734</td>\n",
       "      <td>632.770996</td>\n",
       "      <td>2</td>\n",
       "    </tr>\n",
       "    <tr>\n",
       "      <th>2</th>\n",
       "      <td>54734</td>\n",
       "      <td>632.770996</td>\n",
       "      <td>3</td>\n",
       "    </tr>\n",
       "    <tr>\n",
       "      <th>3</th>\n",
       "      <td>54734</td>\n",
       "      <td>632.770996</td>\n",
       "      <td>4</td>\n",
       "    </tr>\n",
       "    <tr>\n",
       "      <th>4</th>\n",
       "      <td>54734</td>\n",
       "      <td>632.770996</td>\n",
       "      <td>5</td>\n",
       "    </tr>\n",
       "  </tbody>\n",
       "</table>\n",
       "</div>"
      ],
      "text/plain": [
       "   LOAN_ID  RECEIVED_AMT_INVESTORS  mths_since_issue\n",
       "0    54734              632.770996                 1\n",
       "1    54734              632.770996                 2\n",
       "2    54734              632.770996                 3\n",
       "3    54734              632.770996                 4\n",
       "4    54734              632.770996                 5"
      ]
     },
     "execution_count": 226,
     "metadata": {},
     "output_type": "execute_result"
    }
   ],
   "source": [
    "payments.head(5)"
   ]
  },
  {
   "cell_type": "code",
   "execution_count": 227,
   "metadata": {
    "scrolled": false
   },
   "outputs": [
    {
     "data": {
      "text/html": [
       "<div>\n",
       "<style scoped>\n",
       "    .dataframe tbody tr th:only-of-type {\n",
       "        vertical-align: middle;\n",
       "    }\n",
       "\n",
       "    .dataframe tbody tr th {\n",
       "        vertical-align: top;\n",
       "    }\n",
       "\n",
       "    .dataframe thead th {\n",
       "        text-align: right;\n",
       "    }\n",
       "</style>\n",
       "<table border=\"1\" class=\"dataframe\">\n",
       "  <thead>\n",
       "    <tr style=\"text-align: right;\">\n",
       "      <th></th>\n",
       "      <th>id</th>\n",
       "      <th>issue_d</th>\n",
       "      <th>loan_amnt</th>\n",
       "      <th>predicted_roi</th>\n",
       "    </tr>\n",
       "  </thead>\n",
       "  <tbody>\n",
       "    <tr>\n",
       "      <th>0</th>\n",
       "      <td>1077501</td>\n",
       "      <td>2011-12-01</td>\n",
       "      <td>5000</td>\n",
       "      <td>-2.406683</td>\n",
       "    </tr>\n",
       "    <tr>\n",
       "      <th>1</th>\n",
       "      <td>1077175</td>\n",
       "      <td>2011-12-01</td>\n",
       "      <td>2400</td>\n",
       "      <td>-6.132463</td>\n",
       "    </tr>\n",
       "    <tr>\n",
       "      <th>2</th>\n",
       "      <td>1076863</td>\n",
       "      <td>2011-12-01</td>\n",
       "      <td>10000</td>\n",
       "      <td>-0.148904</td>\n",
       "    </tr>\n",
       "    <tr>\n",
       "      <th>3</th>\n",
       "      <td>1075269</td>\n",
       "      <td>2011-12-01</td>\n",
       "      <td>5000</td>\n",
       "      <td>-1.621698</td>\n",
       "    </tr>\n",
       "    <tr>\n",
       "      <th>4</th>\n",
       "      <td>1072053</td>\n",
       "      <td>2011-12-01</td>\n",
       "      <td>3000</td>\n",
       "      <td>-1.602118</td>\n",
       "    </tr>\n",
       "  </tbody>\n",
       "</table>\n",
       "</div>"
      ],
      "text/plain": [
       "        id    issue_d  loan_amnt  predicted_roi\n",
       "0  1077501 2011-12-01       5000      -2.406683\n",
       "1  1077175 2011-12-01       2400      -6.132463\n",
       "2  1076863 2011-12-01      10000      -0.148904\n",
       "3  1075269 2011-12-01       5000      -1.621698\n",
       "4  1072053 2011-12-01       3000      -1.602118"
      ]
     },
     "execution_count": 227,
     "metadata": {},
     "output_type": "execute_result"
    }
   ],
   "source": [
    "df_predictions_in_sample['loan_amnt'] =  df_predictions_in_sample['loan_amnt'].astype('uint16')\n",
    "df_predictions_in_sample.head(5)"
   ]
  },
  {
   "cell_type": "code",
   "execution_count": 228,
   "metadata": {},
   "outputs": [],
   "source": [
    "df_predictions_in_sample['id'] = df_predictions_in_sample['id'].astype('int64')"
   ]
  },
  {
   "cell_type": "code",
   "execution_count": 229,
   "metadata": {
    "scrolled": true
   },
   "outputs": [],
   "source": [
    "df_predictions_in_sample.set_index('id', inplace=True)"
   ]
  },
  {
   "cell_type": "code",
   "execution_count": 230,
   "metadata": {
    "scrolled": true
   },
   "outputs": [
    {
     "data": {
      "text/html": [
       "<div>\n",
       "<style scoped>\n",
       "    .dataframe tbody tr th:only-of-type {\n",
       "        vertical-align: middle;\n",
       "    }\n",
       "\n",
       "    .dataframe tbody tr th {\n",
       "        vertical-align: top;\n",
       "    }\n",
       "\n",
       "    .dataframe thead th {\n",
       "        text-align: right;\n",
       "    }\n",
       "</style>\n",
       "<table border=\"1\" class=\"dataframe\">\n",
       "  <thead>\n",
       "    <tr style=\"text-align: right;\">\n",
       "      <th></th>\n",
       "      <th>issue_d</th>\n",
       "      <th>loan_amnt</th>\n",
       "      <th>predicted_roi</th>\n",
       "    </tr>\n",
       "    <tr>\n",
       "      <th>id</th>\n",
       "      <th></th>\n",
       "      <th></th>\n",
       "      <th></th>\n",
       "    </tr>\n",
       "  </thead>\n",
       "  <tbody>\n",
       "    <tr>\n",
       "      <th>1077501</th>\n",
       "      <td>2011-12-01</td>\n",
       "      <td>5000</td>\n",
       "      <td>-2.406683</td>\n",
       "    </tr>\n",
       "    <tr>\n",
       "      <th>1077175</th>\n",
       "      <td>2011-12-01</td>\n",
       "      <td>2400</td>\n",
       "      <td>-6.132463</td>\n",
       "    </tr>\n",
       "    <tr>\n",
       "      <th>1076863</th>\n",
       "      <td>2011-12-01</td>\n",
       "      <td>10000</td>\n",
       "      <td>-0.148904</td>\n",
       "    </tr>\n",
       "    <tr>\n",
       "      <th>1075269</th>\n",
       "      <td>2011-12-01</td>\n",
       "      <td>5000</td>\n",
       "      <td>-1.621698</td>\n",
       "    </tr>\n",
       "    <tr>\n",
       "      <th>1072053</th>\n",
       "      <td>2011-12-01</td>\n",
       "      <td>3000</td>\n",
       "      <td>-1.602118</td>\n",
       "    </tr>\n",
       "  </tbody>\n",
       "</table>\n",
       "</div>"
      ],
      "text/plain": [
       "           issue_d  loan_amnt  predicted_roi\n",
       "id                                          \n",
       "1077501 2011-12-01       5000      -2.406683\n",
       "1077175 2011-12-01       2400      -6.132463\n",
       "1076863 2011-12-01      10000      -0.148904\n",
       "1075269 2011-12-01       5000      -1.621698\n",
       "1072053 2011-12-01       3000      -1.602118"
      ]
     },
     "execution_count": 230,
     "metadata": {},
     "output_type": "execute_result"
    }
   ],
   "source": [
    "df_predictions_in_sample.head()"
   ]
  },
  {
   "cell_type": "code",
   "execution_count": 231,
   "metadata": {
    "scrolled": false
   },
   "outputs": [],
   "source": [
    "loans = df_predictions_in_sample[['loan_amnt']]"
   ]
  },
  {
   "cell_type": "code",
   "execution_count": 232,
   "metadata": {
    "scrolled": false
   },
   "outputs": [
    {
     "data": {
      "text/html": [
       "<div>\n",
       "<style scoped>\n",
       "    .dataframe tbody tr th:only-of-type {\n",
       "        vertical-align: middle;\n",
       "    }\n",
       "\n",
       "    .dataframe tbody tr th {\n",
       "        vertical-align: top;\n",
       "    }\n",
       "\n",
       "    .dataframe thead th {\n",
       "        text-align: right;\n",
       "    }\n",
       "</style>\n",
       "<table border=\"1\" class=\"dataframe\">\n",
       "  <thead>\n",
       "    <tr style=\"text-align: right;\">\n",
       "      <th></th>\n",
       "      <th>loan_amnt</th>\n",
       "    </tr>\n",
       "    <tr>\n",
       "      <th>id</th>\n",
       "      <th></th>\n",
       "    </tr>\n",
       "  </thead>\n",
       "  <tbody>\n",
       "    <tr>\n",
       "      <th>1077501</th>\n",
       "      <td>5000</td>\n",
       "    </tr>\n",
       "    <tr>\n",
       "      <th>1077175</th>\n",
       "      <td>2400</td>\n",
       "    </tr>\n",
       "    <tr>\n",
       "      <th>1076863</th>\n",
       "      <td>10000</td>\n",
       "    </tr>\n",
       "    <tr>\n",
       "      <th>1075269</th>\n",
       "      <td>5000</td>\n",
       "    </tr>\n",
       "    <tr>\n",
       "      <th>1072053</th>\n",
       "      <td>3000</td>\n",
       "    </tr>\n",
       "  </tbody>\n",
       "</table>\n",
       "</div>"
      ],
      "text/plain": [
       "         loan_amnt\n",
       "id                \n",
       "1077501       5000\n",
       "1077175       2400\n",
       "1076863      10000\n",
       "1075269       5000\n",
       "1072053       3000"
      ]
     },
     "execution_count": 232,
     "metadata": {},
     "output_type": "execute_result"
    }
   ],
   "source": [
    "loans.head()"
   ]
  },
  {
   "cell_type": "code",
   "execution_count": 234,
   "metadata": {
    "scrolled": true
   },
   "outputs": [
    {
     "data": {
      "text/html": [
       "<div>\n",
       "<style scoped>\n",
       "    .dataframe tbody tr th:only-of-type {\n",
       "        vertical-align: middle;\n",
       "    }\n",
       "\n",
       "    .dataframe tbody tr th {\n",
       "        vertical-align: top;\n",
       "    }\n",
       "\n",
       "    .dataframe thead th {\n",
       "        text-align: right;\n",
       "    }\n",
       "</style>\n",
       "<table border=\"1\" class=\"dataframe\">\n",
       "  <thead>\n",
       "    <tr style=\"text-align: right;\">\n",
       "      <th></th>\n",
       "      <th>RECEIVED_AMT_INVESTORS</th>\n",
       "      <th>mths_since_issue</th>\n",
       "    </tr>\n",
       "  </thead>\n",
       "  <tbody>\n",
       "    <tr>\n",
       "      <th>6574381</th>\n",
       "      <td>885.460022</td>\n",
       "      <td>2</td>\n",
       "    </tr>\n",
       "    <tr>\n",
       "      <th>6574382</th>\n",
       "      <td>885.460022</td>\n",
       "      <td>3</td>\n",
       "    </tr>\n",
       "    <tr>\n",
       "      <th>6574383</th>\n",
       "      <td>885.460022</td>\n",
       "      <td>4</td>\n",
       "    </tr>\n",
       "    <tr>\n",
       "      <th>6574384</th>\n",
       "      <td>885.460022</td>\n",
       "      <td>5</td>\n",
       "    </tr>\n",
       "    <tr>\n",
       "      <th>6574385</th>\n",
       "      <td>885.460022</td>\n",
       "      <td>6</td>\n",
       "    </tr>\n",
       "  </tbody>\n",
       "</table>\n",
       "</div>"
      ],
      "text/plain": [
       "         RECEIVED_AMT_INVESTORS  mths_since_issue\n",
       "6574381              885.460022                 2\n",
       "6574382              885.460022                 3\n",
       "6574383              885.460022                 4\n",
       "6574384              885.460022                 5\n",
       "6574385              885.460022                 6"
      ]
     },
     "execution_count": 234,
     "metadata": {},
     "output_type": "execute_result"
    }
   ],
   "source": [
    "one_loan = get_one_loan_payment_data(payments, 10149342)\n",
    "one_loan.head()"
   ]
  },
  {
   "cell_type": "code",
   "execution_count": 236,
   "metadata": {},
   "outputs": [
    {
     "data": {
      "text/plain": [
       "10.975341796875"
      ]
     },
     "execution_count": 236,
     "metadata": {},
     "output_type": "execute_result"
    }
   ],
   "source": [
    "get_roi_for_loan_id(10149342)"
   ]
  },
  {
   "cell_type": "code",
   "execution_count": 240,
   "metadata": {
    "scrolled": true
   },
   "outputs": [],
   "source": [
    "pool = mp.Pool(processes=8)"
   ]
  },
  {
   "cell_type": "code",
   "execution_count": 217,
   "metadata": {},
   "outputs": [
    {
     "data": {
      "text/plain": [
       "True"
      ]
     },
     "execution_count": 217,
     "metadata": {},
     "output_type": "execute_result"
    }
   ],
   "source": [
    "'10149342' in loans[29040:29050].index"
   ]
  },
  {
   "cell_type": "code",
   "execution_count": 181,
   "metadata": {},
   "outputs": [
    {
     "data": {
      "text/plain": [
       "Index([1077501], dtype='object', name='id')"
      ]
     },
     "execution_count": 181,
     "metadata": {},
     "output_type": "execute_result"
    }
   ],
   "source": [
    "loans[:1].index"
   ]
  },
  {
   "cell_type": "code",
   "execution_count": 171,
   "metadata": {},
   "outputs": [],
   "source": [
    "problem_index = 29043"
   ]
  },
  {
   "cell_type": "code",
   "execution_count": 203,
   "metadata": {},
   "outputs": [
    {
     "data": {
      "text/plain": [
       "-84.5694061279297"
      ]
     },
     "execution_count": 203,
     "metadata": {},
     "output_type": "execute_result"
    }
   ],
   "source": [
    "get_roi_for_loan_id('90395')"
   ]
  },
  {
   "cell_type": "code",
   "execution_count": null,
   "metadata": {},
   "outputs": [],
   "source": []
  },
  {
   "cell_type": "code",
   "execution_count": 210,
   "metadata": {
    "scrolled": true
   },
   "outputs": [
    {
     "data": {
      "text/html": [
       "<div>\n",
       "<style scoped>\n",
       "    .dataframe tbody tr th:only-of-type {\n",
       "        vertical-align: middle;\n",
       "    }\n",
       "\n",
       "    .dataframe tbody tr th {\n",
       "        vertical-align: top;\n",
       "    }\n",
       "\n",
       "    .dataframe thead th {\n",
       "        text-align: right;\n",
       "    }\n",
       "</style>\n",
       "<table border=\"1\" class=\"dataframe\">\n",
       "  <thead>\n",
       "    <tr style=\"text-align: right;\">\n",
       "      <th></th>\n",
       "      <th>LOAN_ID</th>\n",
       "      <th>RECEIVED_AMT_INVESTORS</th>\n",
       "      <th>mths_since_issue</th>\n",
       "    </tr>\n",
       "  </thead>\n",
       "  <tbody>\n",
       "    <tr>\n",
       "      <th>6574381</th>\n",
       "      <td>10149342</td>\n",
       "      <td>885.460022</td>\n",
       "      <td>2</td>\n",
       "    </tr>\n",
       "    <tr>\n",
       "      <th>6574382</th>\n",
       "      <td>10149342</td>\n",
       "      <td>885.460022</td>\n",
       "      <td>3</td>\n",
       "    </tr>\n",
       "    <tr>\n",
       "      <th>6574383</th>\n",
       "      <td>10149342</td>\n",
       "      <td>885.460022</td>\n",
       "      <td>4</td>\n",
       "    </tr>\n",
       "    <tr>\n",
       "      <th>6574384</th>\n",
       "      <td>10149342</td>\n",
       "      <td>885.460022</td>\n",
       "      <td>5</td>\n",
       "    </tr>\n",
       "    <tr>\n",
       "      <th>6574385</th>\n",
       "      <td>10149342</td>\n",
       "      <td>885.460022</td>\n",
       "      <td>6</td>\n",
       "    </tr>\n",
       "    <tr>\n",
       "      <th>6574386</th>\n",
       "      <td>10149342</td>\n",
       "      <td>885.460022</td>\n",
       "      <td>7</td>\n",
       "    </tr>\n",
       "    <tr>\n",
       "      <th>6574387</th>\n",
       "      <td>10149342</td>\n",
       "      <td>885.460022</td>\n",
       "      <td>8</td>\n",
       "    </tr>\n",
       "    <tr>\n",
       "      <th>6574388</th>\n",
       "      <td>10149342</td>\n",
       "      <td>885.460022</td>\n",
       "      <td>9</td>\n",
       "    </tr>\n",
       "    <tr>\n",
       "      <th>6574389</th>\n",
       "      <td>10149342</td>\n",
       "      <td>885.460022</td>\n",
       "      <td>10</td>\n",
       "    </tr>\n",
       "    <tr>\n",
       "      <th>6574390</th>\n",
       "      <td>10149342</td>\n",
       "      <td>885.460022</td>\n",
       "      <td>11</td>\n",
       "    </tr>\n",
       "    <tr>\n",
       "      <th>6574391</th>\n",
       "      <td>10149342</td>\n",
       "      <td>885.460022</td>\n",
       "      <td>12</td>\n",
       "    </tr>\n",
       "    <tr>\n",
       "      <th>6574392</th>\n",
       "      <td>10149342</td>\n",
       "      <td>885.460022</td>\n",
       "      <td>13</td>\n",
       "    </tr>\n",
       "    <tr>\n",
       "      <th>6574393</th>\n",
       "      <td>10149342</td>\n",
       "      <td>885.460022</td>\n",
       "      <td>14</td>\n",
       "    </tr>\n",
       "    <tr>\n",
       "      <th>6574394</th>\n",
       "      <td>10149342</td>\n",
       "      <td>885.460022</td>\n",
       "      <td>15</td>\n",
       "    </tr>\n",
       "    <tr>\n",
       "      <th>6574395</th>\n",
       "      <td>10149342</td>\n",
       "      <td>885.460022</td>\n",
       "      <td>16</td>\n",
       "    </tr>\n",
       "    <tr>\n",
       "      <th>6574396</th>\n",
       "      <td>10149342</td>\n",
       "      <td>885.460022</td>\n",
       "      <td>17</td>\n",
       "    </tr>\n",
       "    <tr>\n",
       "      <th>6574397</th>\n",
       "      <td>10149342</td>\n",
       "      <td>885.460022</td>\n",
       "      <td>18</td>\n",
       "    </tr>\n",
       "    <tr>\n",
       "      <th>6574398</th>\n",
       "      <td>10149342</td>\n",
       "      <td>885.460022</td>\n",
       "      <td>19</td>\n",
       "    </tr>\n",
       "    <tr>\n",
       "      <th>6574399</th>\n",
       "      <td>10149342</td>\n",
       "      <td>885.460022</td>\n",
       "      <td>20</td>\n",
       "    </tr>\n",
       "    <tr>\n",
       "      <th>6574400</th>\n",
       "      <td>10149342</td>\n",
       "      <td>885.460022</td>\n",
       "      <td>21</td>\n",
       "    </tr>\n",
       "    <tr>\n",
       "      <th>6574401</th>\n",
       "      <td>10149342</td>\n",
       "      <td>885.460022</td>\n",
       "      <td>22</td>\n",
       "    </tr>\n",
       "    <tr>\n",
       "      <th>6574402</th>\n",
       "      <td>10149342</td>\n",
       "      <td>885.460022</td>\n",
       "      <td>23</td>\n",
       "    </tr>\n",
       "    <tr>\n",
       "      <th>6574403</th>\n",
       "      <td>10149342</td>\n",
       "      <td>885.460022</td>\n",
       "      <td>24</td>\n",
       "    </tr>\n",
       "    <tr>\n",
       "      <th>6574404</th>\n",
       "      <td>10149342</td>\n",
       "      <td>885.460022</td>\n",
       "      <td>25</td>\n",
       "    </tr>\n",
       "    <tr>\n",
       "      <th>6574405</th>\n",
       "      <td>10149342</td>\n",
       "      <td>885.460022</td>\n",
       "      <td>26</td>\n",
       "    </tr>\n",
       "    <tr>\n",
       "      <th>6574406</th>\n",
       "      <td>10149342</td>\n",
       "      <td>885.460022</td>\n",
       "      <td>27</td>\n",
       "    </tr>\n",
       "    <tr>\n",
       "      <th>6574407</th>\n",
       "      <td>10149342</td>\n",
       "      <td>885.460022</td>\n",
       "      <td>28</td>\n",
       "    </tr>\n",
       "    <tr>\n",
       "      <th>6574408</th>\n",
       "      <td>10149342</td>\n",
       "      <td>885.460022</td>\n",
       "      <td>29</td>\n",
       "    </tr>\n",
       "    <tr>\n",
       "      <th>6574409</th>\n",
       "      <td>10149342</td>\n",
       "      <td>885.460022</td>\n",
       "      <td>30</td>\n",
       "    </tr>\n",
       "    <tr>\n",
       "      <th>6574410</th>\n",
       "      <td>10149342</td>\n",
       "      <td>6074.189941</td>\n",
       "      <td>31</td>\n",
       "    </tr>\n",
       "  </tbody>\n",
       "</table>\n",
       "</div>"
      ],
      "text/plain": [
       "          LOAN_ID  RECEIVED_AMT_INVESTORS  mths_since_issue\n",
       "6574381  10149342              885.460022                 2\n",
       "6574382  10149342              885.460022                 3\n",
       "6574383  10149342              885.460022                 4\n",
       "6574384  10149342              885.460022                 5\n",
       "6574385  10149342              885.460022                 6\n",
       "6574386  10149342              885.460022                 7\n",
       "6574387  10149342              885.460022                 8\n",
       "6574388  10149342              885.460022                 9\n",
       "6574389  10149342              885.460022                10\n",
       "6574390  10149342              885.460022                11\n",
       "6574391  10149342              885.460022                12\n",
       "6574392  10149342              885.460022                13\n",
       "6574393  10149342              885.460022                14\n",
       "6574394  10149342              885.460022                15\n",
       "6574395  10149342              885.460022                16\n",
       "6574396  10149342              885.460022                17\n",
       "6574397  10149342              885.460022                18\n",
       "6574398  10149342              885.460022                19\n",
       "6574399  10149342              885.460022                20\n",
       "6574400  10149342              885.460022                21\n",
       "6574401  10149342              885.460022                22\n",
       "6574402  10149342              885.460022                23\n",
       "6574403  10149342              885.460022                24\n",
       "6574404  10149342              885.460022                25\n",
       "6574405  10149342              885.460022                26\n",
       "6574406  10149342              885.460022                27\n",
       "6574407  10149342              885.460022                28\n",
       "6574408  10149342              885.460022                29\n",
       "6574409  10149342              885.460022                30\n",
       "6574410  10149342             6074.189941                31"
      ]
     },
     "execution_count": 210,
     "metadata": {},
     "output_type": "execute_result"
    }
   ],
   "source": [
    "payments[payments['LOAN_ID'] == 10149342]"
   ]
  },
  {
   "cell_type": "code",
   "execution_count": 243,
   "metadata": {},
   "outputs": [
    {
     "data": {
      "text/plain": [
       "35000"
      ]
     },
     "execution_count": 243,
     "metadata": {},
     "output_type": "execute_result"
    }
   ],
   "source": [
    "results = pool.map(get_roi_for_loan_id, loans[:35000].index)\n",
    "len(results)"
   ]
  },
  {
   "cell_type": "code",
   "execution_count": 244,
   "metadata": {},
   "outputs": [
    {
     "data": {
      "text/plain": [
       "{1077501: 10.289306640625002,\n",
       " 1077175: 16.248779296875004,\n",
       " 1076863: 13.707275390625002,\n",
       " 1075269: 7.783084106445312,\n",
       " 1072053: 19.114990234375,\n",
       " 1069908: 12.606201171874998,\n",
       " 1064687: -97.88431701660156,\n",
       " 1069866: 9.896029663085937,\n",
       " 1069057: -30.444461059570312,\n",
       " 1069759: 16.585693359375004}"
      ]
     },
     "execution_count": 244,
     "metadata": {},
     "output_type": "execute_result"
    }
   ],
   "source": [
    "get_rois_for_loans(loans[:10].index)"
   ]
  },
  {
   "cell_type": "code",
   "execution_count": 245,
   "metadata": {
    "scrolled": false
   },
   "outputs": [
    {
     "data": {
      "text/plain": [
       "{1077501: 10.289306640625002,\n",
       " 1077175: 16.248779296875004,\n",
       " 1076863: 13.707275390625002,\n",
       " 1075269: 7.783084106445312,\n",
       " 1072053: 19.114990234375,\n",
       " 1069908: 12.606201171874998,\n",
       " 1064687: -97.88431701660156,\n",
       " 1069866: 9.896029663085937,\n",
       " 1069057: -30.444461059570312,\n",
       " 1069759: 16.585693359375004}"
      ]
     },
     "execution_count": 245,
     "metadata": {},
     "output_type": "execute_result"
    }
   ],
   "source": [
    "dict(zip(loans[:10].index, results))"
   ]
  },
  {
   "cell_type": "code",
   "execution_count": 237,
   "metadata": {},
   "outputs": [],
   "source": [
    "# Dataframe that contains all of the payment records for all loans. \n",
    "#payments = load_data_from_s3('cleaned_payments_data.pkl.bz2', format='pkl.bz2')\n",
    "loans = df_predictions_in_sample[['loan_amnt']]\n",
    "\n",
    "def get_one_loan_payment_data(payments, loan_id):\n",
    "    try:\n",
    "        return payments[payments['LOAN_ID'] == loan_id][['RECEIVED_AMT_INVESTORS', 'mths_since_issue']]\n",
    "    except:\n",
    "        return pd.DataFrame()\n",
    "    \n",
    "def calculative_npv_payments(loans_payments, r_guess):\n",
    "    payments = loans_payments.RECEIVED_AMT_INVESTORS\n",
    "    months = loans_payments.mths_since_issue\n",
    "    return sum(payments/(1+r_guess)**(months/12))\n",
    "\n",
    "def adjust_estimated_roi(roi_guess, roi_min, roi_max, npv):\n",
    "    if npv > 0:\n",
    "        new_guess = (roi_guess + roi_min)/2\n",
    "        new_min = roi_min\n",
    "        new_max = roi_guess\n",
    "    elif npv < 0:\n",
    "        new_guess = (roi_guess + roi_max)/2\n",
    "        new_min = roi_guess\n",
    "        new_max = roi_max\n",
    "    else:\n",
    "        return roi_guess\n",
    "    \n",
    "    return (new_guess, new_min, new_max)\n",
    "\n",
    "def get_roi_for_loan_id(loan_id):\n",
    "    loan_id = int(loan_id)\n",
    "    loan_size = loans['loan_amnt'].loc[loan_id]\n",
    "    loan_payments = get_one_loan_payment_data(payments, loan_id)\n",
    "    \n",
    "    if loan_payments.empty:\n",
    "        return -100\n",
    "    \n",
    "    r_guess = .10\n",
    "    r_min = -.999\n",
    "    r_max = .50\n",
    "    \n",
    "    for _ in range(15):\n",
    "        npv_payments = calculative_npv_payments(loan_payments, r_guess)\n",
    "        npv = loan_size - npv_payments\n",
    "        r_guess, r_min, r_max = adjust_estimated_roi(r_guess, r_min, r_max, npv)\n",
    "    return r_guess*100\n",
    "\n",
    "def get_rois_for_loans(loan_ids):\n",
    "    return {loan_id:get_roi_for_loan_id(loan_id)for loan_id in loan_ids}"
   ]
  },
  {
   "cell_type": "code",
   "execution_count": null,
   "metadata": {},
   "outputs": [],
   "source": []
  }
 ],
 "metadata": {
  "kernelspec": {
   "display_name": "Python 3",
   "language": "python",
   "name": "python3"
  },
  "language_info": {
   "codemirror_mode": {
    "name": "ipython",
    "version": 3
   },
   "file_extension": ".py",
   "mimetype": "text/x-python",
   "name": "python",
   "nbconvert_exporter": "python",
   "pygments_lexer": "ipython3",
   "version": "3.6.5"
  }
 },
 "nbformat": 4,
 "nbformat_minor": 2
}

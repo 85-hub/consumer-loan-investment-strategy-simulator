{
 "cells": [
  {
   "cell_type": "code",
   "execution_count": 1,
   "metadata": {},
   "outputs": [
    {
     "ename": "ModuleNotFoundError",
     "evalue": "No module named 'xgboost'",
     "output_type": "error",
     "traceback": [
      "\u001b[0;31m---------------------------------------------------------------------------\u001b[0m",
      "\u001b[0;31mModuleNotFoundError\u001b[0m                       Traceback (most recent call last)",
      "\u001b[0;32m<ipython-input-1-43ed5a7337ca>\u001b[0m in \u001b[0;36m<module>\u001b[0;34m()\u001b[0m\n\u001b[1;32m      4\u001b[0m \u001b[0;32mimport\u001b[0m \u001b[0mpandas\u001b[0m \u001b[0;32mas\u001b[0m \u001b[0mpd\u001b[0m\u001b[0;34m\u001b[0m\u001b[0m\n\u001b[1;32m      5\u001b[0m \u001b[0;32mfrom\u001b[0m \u001b[0mdatetime\u001b[0m \u001b[0;32mimport\u001b[0m \u001b[0mdatetime\u001b[0m \u001b[0;32mas\u001b[0m \u001b[0mdt\u001b[0m\u001b[0;34m\u001b[0m\u001b[0m\n\u001b[0;32m----> 6\u001b[0;31m \u001b[0;32mfrom\u001b[0m \u001b[0mxgboost\u001b[0m \u001b[0;32mimport\u001b[0m \u001b[0mXGBRegressor\u001b[0m\u001b[0;34m\u001b[0m\u001b[0m\n\u001b[0m\u001b[1;32m      7\u001b[0m \u001b[0;32mfrom\u001b[0m \u001b[0mmath\u001b[0m \u001b[0;32mimport\u001b[0m \u001b[0msqrt\u001b[0m\u001b[0;34m\u001b[0m\u001b[0m\n\u001b[1;32m      8\u001b[0m \u001b[0mget_ipython\u001b[0m\u001b[0;34m(\u001b[0m\u001b[0;34m)\u001b[0m\u001b[0;34m.\u001b[0m\u001b[0mrun_line_magic\u001b[0m\u001b[0;34m(\u001b[0m\u001b[0;34m'run'\u001b[0m\u001b[0;34m,\u001b[0m \u001b[0;34m'src/columns.py'\u001b[0m\u001b[0;34m)\u001b[0m\u001b[0;34m\u001b[0m\u001b[0m\n",
      "\u001b[0;31mModuleNotFoundError\u001b[0m: No module named 'xgboost'"
     ]
    }
   ],
   "source": [
    "import datetime\n",
    "import numpy as np\n",
    "np.set_printoptions(suppress=True)\n",
    "import pandas as pd\n",
    "from datetime import datetime as dt\n",
    "from xgboost import XGBRegressor\n",
    "from math import sqrt\n",
    "%run src/columns.py\n",
    "%run src/data-cleaning.py\n",
    "%run src/feature-engineering.py\n",
    "%run src/modeling.py"
   ]
  },
  {
   "cell_type": "code",
   "execution_count": 2,
   "metadata": {},
   "outputs": [],
   "source": [
    "csv_file_names = ('LoanStats3a_securev1', 'LoanStats3b_securev1', 'LoanStats3c_securev1', 'LoanStats3d_securev1',\n",
    "                  'LoanStats_securev1_2016Q1', 'LoanStats_securev1_2016Q2', 'LoanStats_securev1_2016Q3',\n",
    "                  'LoanStats_securev1_2016Q4', 'LoanStats_securev1_2017Q1', 'LoanStats_securev1_2017Q2', \n",
    "                  'LoanStats_securev1_2017Q3', 'LoanStats_securev1_2017Q4', 'LoanStats_securev1_2018Q1')\n",
    "\n",
    "loans = load_data(csv_file_names, columns_to_use, number_of_rows=5000)\n",
    "loans = drop_loans_not_complete(loans)\n",
    "loans = drop_loan_status(loans)\n",
    "loans = drop_joint_applicant_loans(loans)\n",
    "loans = fix_rate_cols(loans)\n",
    "loans = fix_date_cols(loans)\n",
    "loans = clean_loan_term_col(loans)\n",
    "loans = only_include_36_month_loans(loans)\n",
    "loans = clean_employment_length(loans)\n",
    "loans = create_missing_data_boolean_columns(loans)\n",
    "loans = fill_nas(loans, value=-99)\n",
    "loans = add_issue_date_and_month(loans)\n",
    "loans = add_supplemental_rate_data(loans)\n",
    "loans = create_rate_difference_cols(loans)\n",
    "loans = create_months_since_earliest_cl_col(loans)\n",
    "loans = create_loan_life_months_col(loans)\n",
    "loans['roi'] = create_roi_col(loans['total_rec_prncp'], loans['total_rec_int'], loans['loan_amnt'], loans['loan_life_months'])\n",
    "loans['roi'].replace(np.inf, 0, inplace=True)\n",
    "loans = change_data_types(loans)\n",
    "loans = create_dummy_cols(loans)\n",
    "loans = drop_unnecessary_cols(loans)\n",
    "# Loans before this date will be used for training.\n",
    "# Loans after this date used for testing.\n",
    "cutoff_date = '2015-09-01'\n",
    "training_loans, testing_loans = get_training_and_testing_data(loans, cutoff_date)\n",
    "X_train, y_train = split_data_into_labels_and_target(training_loans)\n",
    "X_test, y_test = split_data_into_labels_and_target(testing_loans)"
   ]
  },
  {
   "cell_type": "code",
   "execution_count": 4,
   "metadata": {},
   "outputs": [],
   "source": [
    "model = XGBRegressor()\n",
    "fit_model = train_model(model, X_train, y_train)\n",
    "\n",
    "test_predictions = get_predictions(fit_model, X_test)"
   ]
  },
  {
   "cell_type": "code",
   "execution_count": 5,
   "metadata": {},
   "outputs": [
    {
     "data": {
      "text/plain": [
       "array([ -6.660845  ,   4.1249332 ,   2.5834808 , ...,   3.256811  ,\n",
       "       -17.233112  ,   0.31343883], dtype=float32)"
      ]
     },
     "execution_count": 5,
     "metadata": {},
     "output_type": "execute_result"
    }
   ],
   "source": [
    "test_predictions = get_predictions(fit_model, X_test)\n",
    "test_predictions"
   ]
  },
  {
   "cell_type": "markdown",
   "metadata": {},
   "source": [
    "Get Payment History Data"
   ]
  },
  {
   "cell_type": "code",
   "execution_count": 6,
   "metadata": {},
   "outputs": [
    {
     "data": {
      "text/html": [
       "<div>\n",
       "<style scoped>\n",
       "    .dataframe tbody tr th:only-of-type {\n",
       "        vertical-align: middle;\n",
       "    }\n",
       "\n",
       "    .dataframe tbody tr th {\n",
       "        vertical-align: top;\n",
       "    }\n",
       "\n",
       "    .dataframe thead th {\n",
       "        text-align: right;\n",
       "    }\n",
       "</style>\n",
       "<table border=\"1\" class=\"dataframe\">\n",
       "  <thead>\n",
       "    <tr style=\"text-align: right;\">\n",
       "      <th></th>\n",
       "      <th>id</th>\n",
       "      <th>loan_amnt</th>\n",
       "      <th>int_rate</th>\n",
       "      <th>installment</th>\n",
       "      <th>emp_length</th>\n",
       "      <th>annual_inc</th>\n",
       "      <th>issue_d</th>\n",
       "      <th>dti</th>\n",
       "      <th>delinq_2yrs</th>\n",
       "      <th>fico_range_low</th>\n",
       "      <th>...</th>\n",
       "      <th>purpose_home_improvement</th>\n",
       "      <th>purpose_house</th>\n",
       "      <th>purpose_major_purchase</th>\n",
       "      <th>purpose_medical</th>\n",
       "      <th>purpose_moving</th>\n",
       "      <th>purpose_other</th>\n",
       "      <th>purpose_renewable_energy</th>\n",
       "      <th>purpose_small_business</th>\n",
       "      <th>purpose_vacation</th>\n",
       "      <th>purpose_wedding</th>\n",
       "    </tr>\n",
       "  </thead>\n",
       "  <tbody>\n",
       "    <tr>\n",
       "      <th>9043</th>\n",
       "      <td>68495092</td>\n",
       "      <td>8650</td>\n",
       "      <td>19.889999</td>\n",
       "      <td>320.989990</td>\n",
       "      <td>8.0</td>\n",
       "      <td>55000.0</td>\n",
       "      <td>2015-12-01</td>\n",
       "      <td>25.490000</td>\n",
       "      <td>0</td>\n",
       "      <td>675</td>\n",
       "      <td>...</td>\n",
       "      <td>0</td>\n",
       "      <td>0</td>\n",
       "      <td>0</td>\n",
       "      <td>0</td>\n",
       "      <td>0</td>\n",
       "      <td>0</td>\n",
       "      <td>0</td>\n",
       "      <td>0</td>\n",
       "      <td>0</td>\n",
       "      <td>0</td>\n",
       "    </tr>\n",
       "    <tr>\n",
       "      <th>9044</th>\n",
       "      <td>68466961</td>\n",
       "      <td>28000</td>\n",
       "      <td>6.490000</td>\n",
       "      <td>858.049988</td>\n",
       "      <td>10.0</td>\n",
       "      <td>92000.0</td>\n",
       "      <td>2015-12-01</td>\n",
       "      <td>21.600000</td>\n",
       "      <td>0</td>\n",
       "      <td>720</td>\n",
       "      <td>...</td>\n",
       "      <td>0</td>\n",
       "      <td>0</td>\n",
       "      <td>0</td>\n",
       "      <td>0</td>\n",
       "      <td>0</td>\n",
       "      <td>0</td>\n",
       "      <td>0</td>\n",
       "      <td>0</td>\n",
       "      <td>0</td>\n",
       "      <td>0</td>\n",
       "    </tr>\n",
       "    <tr>\n",
       "      <th>9045</th>\n",
       "      <td>68466916</td>\n",
       "      <td>25000</td>\n",
       "      <td>7.490000</td>\n",
       "      <td>777.549988</td>\n",
       "      <td>10.0</td>\n",
       "      <td>109000.0</td>\n",
       "      <td>2015-12-01</td>\n",
       "      <td>26.020000</td>\n",
       "      <td>0</td>\n",
       "      <td>745</td>\n",
       "      <td>...</td>\n",
       "      <td>0</td>\n",
       "      <td>0</td>\n",
       "      <td>0</td>\n",
       "      <td>0</td>\n",
       "      <td>0</td>\n",
       "      <td>0</td>\n",
       "      <td>0</td>\n",
       "      <td>0</td>\n",
       "      <td>0</td>\n",
       "      <td>0</td>\n",
       "    </tr>\n",
       "    <tr>\n",
       "      <th>9046</th>\n",
       "      <td>68355089</td>\n",
       "      <td>24700</td>\n",
       "      <td>11.990000</td>\n",
       "      <td>820.280029</td>\n",
       "      <td>10.0</td>\n",
       "      <td>65000.0</td>\n",
       "      <td>2015-12-01</td>\n",
       "      <td>16.059999</td>\n",
       "      <td>1</td>\n",
       "      <td>715</td>\n",
       "      <td>...</td>\n",
       "      <td>0</td>\n",
       "      <td>0</td>\n",
       "      <td>0</td>\n",
       "      <td>0</td>\n",
       "      <td>0</td>\n",
       "      <td>0</td>\n",
       "      <td>0</td>\n",
       "      <td>1</td>\n",
       "      <td>0</td>\n",
       "      <td>0</td>\n",
       "    </tr>\n",
       "    <tr>\n",
       "      <th>9047</th>\n",
       "      <td>67275481</td>\n",
       "      <td>20000</td>\n",
       "      <td>8.490000</td>\n",
       "      <td>631.260010</td>\n",
       "      <td>10.0</td>\n",
       "      <td>85000.0</td>\n",
       "      <td>2015-12-01</td>\n",
       "      <td>17.610001</td>\n",
       "      <td>1</td>\n",
       "      <td>705</td>\n",
       "      <td>...</td>\n",
       "      <td>0</td>\n",
       "      <td>0</td>\n",
       "      <td>1</td>\n",
       "      <td>0</td>\n",
       "      <td>0</td>\n",
       "      <td>0</td>\n",
       "      <td>0</td>\n",
       "      <td>0</td>\n",
       "      <td>0</td>\n",
       "      <td>0</td>\n",
       "    </tr>\n",
       "  </tbody>\n",
       "</table>\n",
       "<p>5 rows × 214 columns</p>\n",
       "</div>"
      ],
      "text/plain": [
       "            id  loan_amnt   int_rate  installment  emp_length  annual_inc  \\\n",
       "9043  68495092       8650  19.889999   320.989990         8.0     55000.0   \n",
       "9044  68466961      28000   6.490000   858.049988        10.0     92000.0   \n",
       "9045  68466916      25000   7.490000   777.549988        10.0    109000.0   \n",
       "9046  68355089      24700  11.990000   820.280029        10.0     65000.0   \n",
       "9047  67275481      20000   8.490000   631.260010        10.0     85000.0   \n",
       "\n",
       "        issue_d        dti  delinq_2yrs  fico_range_low       ...         \\\n",
       "9043 2015-12-01  25.490000            0             675       ...          \n",
       "9044 2015-12-01  21.600000            0             720       ...          \n",
       "9045 2015-12-01  26.020000            0             745       ...          \n",
       "9046 2015-12-01  16.059999            1             715       ...          \n",
       "9047 2015-12-01  17.610001            1             705       ...          \n",
       "\n",
       "      purpose_home_improvement  purpose_house  purpose_major_purchase  \\\n",
       "9043                         0              0                       0   \n",
       "9044                         0              0                       0   \n",
       "9045                         0              0                       0   \n",
       "9046                         0              0                       0   \n",
       "9047                         0              0                       1   \n",
       "\n",
       "      purpose_medical  purpose_moving  purpose_other  \\\n",
       "9043                0               0              0   \n",
       "9044                0               0              0   \n",
       "9045                0               0              0   \n",
       "9046                0               0              0   \n",
       "9047                0               0              0   \n",
       "\n",
       "      purpose_renewable_energy  purpose_small_business  purpose_vacation  \\\n",
       "9043                         0                       0                 0   \n",
       "9044                         0                       0                 0   \n",
       "9045                         0                       0                 0   \n",
       "9046                         0                       1                 0   \n",
       "9047                         0                       0                 0   \n",
       "\n",
       "      purpose_wedding  \n",
       "9043                0  \n",
       "9044                0  \n",
       "9045                0  \n",
       "9046                0  \n",
       "9047                0  \n",
       "\n",
       "[5 rows x 214 columns]"
      ]
     },
     "execution_count": 6,
     "metadata": {},
     "output_type": "execute_result"
    }
   ],
   "source": [
    "testing_loans.head()"
   ]
  },
  {
   "cell_type": "raw",
   "metadata": {},
   "source": [
    "training_loans.head()"
   ]
  },
  {
   "cell_type": "code",
   "execution_count": 7,
   "metadata": {},
   "outputs": [
    {
     "data": {
      "text/plain": [
       "array([ -6.660845  ,   4.1249332 ,   2.5834808 , ...,   3.256811  ,\n",
       "       -17.233112  ,   0.31343883], dtype=float32)"
      ]
     },
     "execution_count": 7,
     "metadata": {},
     "output_type": "execute_result"
    }
   ],
   "source": [
    "test_predictions"
   ]
  },
  {
   "cell_type": "code",
   "execution_count": 8,
   "metadata": {},
   "outputs": [
    {
     "name": "stderr",
     "output_type": "stream",
     "text": [
      "/Users/booleans/anaconda/lib/python3.6/site-packages/ipykernel/__main__.py:2: SettingWithCopyWarning: \n",
      "A value is trying to be set on a copy of a slice from a DataFrame.\n",
      "Try using .loc[row_indexer,col_indexer] = value instead\n",
      "\n",
      "See the caveats in the documentation: http://pandas.pydata.org/pandas-docs/stable/indexing.html#indexing-view-versus-copy\n",
      "  from ipykernel import kernelapp as app\n"
     ]
    },
    {
     "data": {
      "text/html": [
       "<div>\n",
       "<style scoped>\n",
       "    .dataframe tbody tr th:only-of-type {\n",
       "        vertical-align: middle;\n",
       "    }\n",
       "\n",
       "    .dataframe tbody tr th {\n",
       "        vertical-align: top;\n",
       "    }\n",
       "\n",
       "    .dataframe thead th {\n",
       "        text-align: right;\n",
       "    }\n",
       "</style>\n",
       "<table border=\"1\" class=\"dataframe\">\n",
       "  <thead>\n",
       "    <tr style=\"text-align: right;\">\n",
       "      <th></th>\n",
       "      <th>id</th>\n",
       "      <th>issue_d</th>\n",
       "      <th>loan_amnt</th>\n",
       "      <th>predicted_roi</th>\n",
       "    </tr>\n",
       "  </thead>\n",
       "  <tbody>\n",
       "    <tr>\n",
       "      <th>9043</th>\n",
       "      <td>68495092</td>\n",
       "      <td>2015-12-01</td>\n",
       "      <td>8650</td>\n",
       "      <td>-6.660845</td>\n",
       "    </tr>\n",
       "    <tr>\n",
       "      <th>9044</th>\n",
       "      <td>68466961</td>\n",
       "      <td>2015-12-01</td>\n",
       "      <td>28000</td>\n",
       "      <td>4.124933</td>\n",
       "    </tr>\n",
       "    <tr>\n",
       "      <th>9045</th>\n",
       "      <td>68466916</td>\n",
       "      <td>2015-12-01</td>\n",
       "      <td>25000</td>\n",
       "      <td>2.583481</td>\n",
       "    </tr>\n",
       "    <tr>\n",
       "      <th>9046</th>\n",
       "      <td>68355089</td>\n",
       "      <td>2015-12-01</td>\n",
       "      <td>24700</td>\n",
       "      <td>1.311146</td>\n",
       "    </tr>\n",
       "    <tr>\n",
       "      <th>9047</th>\n",
       "      <td>67275481</td>\n",
       "      <td>2015-12-01</td>\n",
       "      <td>20000</td>\n",
       "      <td>3.582185</td>\n",
       "    </tr>\n",
       "    <tr>\n",
       "      <th>9048</th>\n",
       "      <td>68476668</td>\n",
       "      <td>2015-12-01</td>\n",
       "      <td>20000</td>\n",
       "      <td>2.919997</td>\n",
       "    </tr>\n",
       "    <tr>\n",
       "      <th>9049</th>\n",
       "      <td>68338832</td>\n",
       "      <td>2015-12-01</td>\n",
       "      <td>1400</td>\n",
       "      <td>1.552664</td>\n",
       "    </tr>\n",
       "    <tr>\n",
       "      <th>9050</th>\n",
       "      <td>68616873</td>\n",
       "      <td>2015-12-01</td>\n",
       "      <td>8000</td>\n",
       "      <td>-0.659829</td>\n",
       "    </tr>\n",
       "    <tr>\n",
       "      <th>9051</th>\n",
       "      <td>68426831</td>\n",
       "      <td>2015-12-01</td>\n",
       "      <td>11950</td>\n",
       "      <td>-1.687110</td>\n",
       "    </tr>\n",
       "    <tr>\n",
       "      <th>9052</th>\n",
       "      <td>68607141</td>\n",
       "      <td>2015-12-01</td>\n",
       "      <td>17600</td>\n",
       "      <td>-0.311338</td>\n",
       "    </tr>\n",
       "  </tbody>\n",
       "</table>\n",
       "</div>"
      ],
      "text/plain": [
       "            id    issue_d  loan_amnt  predicted_roi\n",
       "9043  68495092 2015-12-01       8650      -6.660845\n",
       "9044  68466961 2015-12-01      28000       4.124933\n",
       "9045  68466916 2015-12-01      25000       2.583481\n",
       "9046  68355089 2015-12-01      24700       1.311146\n",
       "9047  67275481 2015-12-01      20000       3.582185\n",
       "9048  68476668 2015-12-01      20000       2.919997\n",
       "9049  68338832 2015-12-01       1400       1.552664\n",
       "9050  68616873 2015-12-01       8000      -0.659829\n",
       "9051  68426831 2015-12-01      11950      -1.687110\n",
       "9052  68607141 2015-12-01      17600      -0.311338"
      ]
     },
     "execution_count": 8,
     "metadata": {},
     "output_type": "execute_result"
    }
   ],
   "source": [
    "df_loans_available = testing_loans[['id', 'issue_d', 'loan_amnt']]\n",
    "df_loans_available['predicted_roi'] = test_predictions\n",
    "df_loans_available.head(10)"
   ]
  },
  {
   "cell_type": "code",
   "execution_count": 23,
   "metadata": {},
   "outputs": [],
   "source": [
    "%run src/portfolio.py"
   ]
  },
  {
   "cell_type": "code",
   "execution_count": 12,
   "metadata": {},
   "outputs": [],
   "source": [
    "myPortfolio = Portfolio(10000, 50, datetime.date(2015,12,1))"
   ]
  },
  {
   "cell_type": "code",
   "execution_count": 13,
   "metadata": {},
   "outputs": [
    {
     "data": {
      "text/plain": [
       "datetime.date(2015, 12, 1)"
      ]
     },
     "execution_count": 13,
     "metadata": {},
     "output_type": "execute_result"
    }
   ],
   "source": [
    "myPortfolio.date"
   ]
  },
  {
   "cell_type": "code",
   "execution_count": 14,
   "metadata": {},
   "outputs": [
    {
     "data": {
      "text/plain": [
       "datetime.date(2016, 1, 1)"
      ]
     },
     "execution_count": 14,
     "metadata": {},
     "output_type": "execute_result"
    }
   ],
   "source": [
    "myPortfolio.increment_date_by_one_month()\n",
    "myPortfolio.date"
   ]
  },
  {
   "cell_type": "code",
   "execution_count": 15,
   "metadata": {},
   "outputs": [
    {
     "data": {
      "text/plain": [
       "[]"
      ]
     },
     "execution_count": 15,
     "metadata": {},
     "output_type": "execute_result"
    }
   ],
   "source": [
    "myPortfolio.active_loans"
   ]
  },
  {
   "cell_type": "code",
   "execution_count": 16,
   "metadata": {},
   "outputs": [
    {
     "data": {
      "text/plain": [
       "datetime.date(2016, 1, 1)"
      ]
     },
     "execution_count": 16,
     "metadata": {},
     "output_type": "execute_result"
    }
   ],
   "source": [
    "myPortfolio.date"
   ]
  },
  {
   "cell_type": "code",
   "execution_count": 19,
   "metadata": {},
   "outputs": [],
   "source": [
    "df_payments = pd.read_pickle('data/cleaned_payments_data', compression='bz2')"
   ]
  },
  {
   "cell_type": "code",
   "execution_count": 20,
   "metadata": {},
   "outputs": [
    {
     "data": {
      "text/html": [
       "<div>\n",
       "<style scoped>\n",
       "    .dataframe tbody tr th:only-of-type {\n",
       "        vertical-align: middle;\n",
       "    }\n",
       "\n",
       "    .dataframe tbody tr th {\n",
       "        vertical-align: top;\n",
       "    }\n",
       "\n",
       "    .dataframe thead th {\n",
       "        text-align: right;\n",
       "    }\n",
       "</style>\n",
       "<table border=\"1\" class=\"dataframe\">\n",
       "  <thead>\n",
       "    <tr style=\"text-align: right;\">\n",
       "      <th></th>\n",
       "      <th>id</th>\n",
       "      <th>issue_d</th>\n",
       "      <th>loan_amnt</th>\n",
       "      <th>predicted_roi</th>\n",
       "    </tr>\n",
       "  </thead>\n",
       "  <tbody>\n",
       "    <tr>\n",
       "      <th>9043</th>\n",
       "      <td>68495092</td>\n",
       "      <td>2015-12-01</td>\n",
       "      <td>8650</td>\n",
       "      <td>-6.660845</td>\n",
       "    </tr>\n",
       "    <tr>\n",
       "      <th>9044</th>\n",
       "      <td>68466961</td>\n",
       "      <td>2015-12-01</td>\n",
       "      <td>28000</td>\n",
       "      <td>4.124933</td>\n",
       "    </tr>\n",
       "    <tr>\n",
       "      <th>9045</th>\n",
       "      <td>68466916</td>\n",
       "      <td>2015-12-01</td>\n",
       "      <td>25000</td>\n",
       "      <td>2.583481</td>\n",
       "    </tr>\n",
       "    <tr>\n",
       "      <th>9046</th>\n",
       "      <td>68355089</td>\n",
       "      <td>2015-12-01</td>\n",
       "      <td>24700</td>\n",
       "      <td>1.311146</td>\n",
       "    </tr>\n",
       "    <tr>\n",
       "      <th>9047</th>\n",
       "      <td>67275481</td>\n",
       "      <td>2015-12-01</td>\n",
       "      <td>20000</td>\n",
       "      <td>3.582185</td>\n",
       "    </tr>\n",
       "    <tr>\n",
       "      <th>9048</th>\n",
       "      <td>68476668</td>\n",
       "      <td>2015-12-01</td>\n",
       "      <td>20000</td>\n",
       "      <td>2.919997</td>\n",
       "    </tr>\n",
       "    <tr>\n",
       "      <th>9049</th>\n",
       "      <td>68338832</td>\n",
       "      <td>2015-12-01</td>\n",
       "      <td>1400</td>\n",
       "      <td>1.552664</td>\n",
       "    </tr>\n",
       "    <tr>\n",
       "      <th>9050</th>\n",
       "      <td>68616873</td>\n",
       "      <td>2015-12-01</td>\n",
       "      <td>8000</td>\n",
       "      <td>-0.659829</td>\n",
       "    </tr>\n",
       "    <tr>\n",
       "      <th>9051</th>\n",
       "      <td>68426831</td>\n",
       "      <td>2015-12-01</td>\n",
       "      <td>11950</td>\n",
       "      <td>-1.687110</td>\n",
       "    </tr>\n",
       "    <tr>\n",
       "      <th>9052</th>\n",
       "      <td>68607141</td>\n",
       "      <td>2015-12-01</td>\n",
       "      <td>17600</td>\n",
       "      <td>-0.311338</td>\n",
       "    </tr>\n",
       "  </tbody>\n",
       "</table>\n",
       "</div>"
      ],
      "text/plain": [
       "            id    issue_d  loan_amnt  predicted_roi\n",
       "9043  68495092 2015-12-01       8650      -6.660845\n",
       "9044  68466961 2015-12-01      28000       4.124933\n",
       "9045  68466916 2015-12-01      25000       2.583481\n",
       "9046  68355089 2015-12-01      24700       1.311146\n",
       "9047  67275481 2015-12-01      20000       3.582185\n",
       "9048  68476668 2015-12-01      20000       2.919997\n",
       "9049  68338832 2015-12-01       1400       1.552664\n",
       "9050  68616873 2015-12-01       8000      -0.659829\n",
       "9051  68426831 2015-12-01      11950      -1.687110\n",
       "9052  68607141 2015-12-01      17600      -0.311338"
      ]
     },
     "execution_count": 20,
     "metadata": {},
     "output_type": "execute_result"
    }
   ],
   "source": [
    "df_loans_available.head(10)"
   ]
  },
  {
   "cell_type": "code",
   "execution_count": 25,
   "metadata": {},
   "outputs": [
    {
     "ename": "AttributeError",
     "evalue": "'Portfolio' object has no attribute 'get_payments_for_given_date'",
     "output_type": "error",
     "traceback": [
      "\u001b[0;31m---------------------------------------------------------------------------\u001b[0m",
      "\u001b[0;31mAttributeError\u001b[0m                            Traceback (most recent call last)",
      "\u001b[0;32m<ipython-input-25-d2350875eaf7>\u001b[0m in \u001b[0;36m<module>\u001b[0;34m()\u001b[0m\n\u001b[1;32m      1\u001b[0m \u001b[0;31m### def simulation:\u001b[0m\u001b[0;34m\u001b[0m\u001b[0;34m\u001b[0m\u001b[0m\n\u001b[1;32m      2\u001b[0m \u001b[0mget_ipython\u001b[0m\u001b[0;34m(\u001b[0m\u001b[0;34m)\u001b[0m\u001b[0;34m.\u001b[0m\u001b[0mrun_line_magic\u001b[0m\u001b[0;34m(\u001b[0m\u001b[0;34m'run'\u001b[0m\u001b[0;34m,\u001b[0m \u001b[0;34m'src/portfolio.py'\u001b[0m\u001b[0;34m)\u001b[0m\u001b[0;34m\u001b[0m\u001b[0m\n\u001b[0;32m----> 3\u001b[0;31m \u001b[0mmyPortfolio\u001b[0m\u001b[0;34m.\u001b[0m\u001b[0mget_payments_for_given_date\u001b[0m\u001b[0;34m(\u001b[0m\u001b[0mdf_loans_available\u001b[0m\u001b[0;34m)\u001b[0m\u001b[0;34m\u001b[0m\u001b[0m\n\u001b[0m",
      "\u001b[0;31mAttributeError\u001b[0m: 'Portfolio' object has no attribute 'get_payments_for_given_date'"
     ]
    }
   ],
   "source": [
    "### def simulation:\n",
    "%run src/portfolio.py\n",
    "myPortfolio.get_payments_for_given_date(df_loans_available)"
   ]
  },
  {
   "cell_type": "code",
   "execution_count": null,
   "metadata": {},
   "outputs": [],
   "source": [
    "def convert_df_rows_to_loans(df, investment):\n",
    "    loans = []\n",
    "    rows = df.to_dict(orient='records')\n",
    "    for row in rows:\n",
    "        loans.append(Loan(row['id'], row['loan_amnt'], investment))\n",
    "    return loans\n",
    "\n",
    "def get_loans_available_for_given_date(loans_df):\n",
    "    '''\n",
    "    date parameter needs to be of type datetime.date\n",
    "    '''\n",
    "    return loans_df[(loans_df['issue_d'].dt.year == self.date.year) & (loans_df['issue_d'].dt.month == self.date.month)]\n",
    "\n",
    "def get_top_n_loans_to_buy(loans, n):\n",
    "    loans.sort_values(by='predicted_roi', ascending=False, inplace=True)\n",
    "    return loans.head(n)\n",
    "\n",
    "def get_loans_over_required_roi_threshold(df, min_roi):\n",
    "    return df[df['predicted_roi'] >= min_roi]\n",
    "\n",
    "def get_payments_for_date(payments_df, date):\n",
    "    '''\n",
    "    date parameter needs to be of type datetime.date\n",
    "    '''\n",
    "    return payments_df[(payments_df['RECEIVED_D'].dt.year == date.year) & (payments_df['RECEIVED_D'].dt.month == date.month)]\n",
    "\n",
    "def get_top_n_loans_to_buy(loans, n):\n",
    "    loans.sort_values(by='predicted_roi', ascending=False, inplace=True)\n",
    "    return loans.head(n)\n",
    "\n",
    "def add():\n",
    "    pass"
   ]
  }
 ],
 "metadata": {
  "kernelspec": {
   "display_name": "Python 3",
   "language": "python",
   "name": "python3"
  },
  "language_info": {
   "codemirror_mode": {
    "name": "ipython",
    "version": 3
   },
   "file_extension": ".py",
   "mimetype": "text/x-python",
   "name": "python",
   "nbconvert_exporter": "python",
   "pygments_lexer": "ipython3",
   "version": "3.6.5"
  }
 },
 "nbformat": 4,
 "nbformat_minor": 2
}
